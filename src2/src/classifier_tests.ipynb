{
 "cells": [
  {
   "cell_type": "markdown",
   "metadata": {},
   "source": [
    "# Testing for CNN Model\n",
    "\n",
    "This notebook is used for testing a model which has been generated"
   ]
  },
  {
   "cell_type": "code",
   "execution_count": null,
   "metadata": {},
   "outputs": [],
   "source": [
    "from tensorflow.keras.models import Model\n",
    "from tensorflow.keras.preprocessing.image import ImageDataGenerator, load_img, img_to_array\n",
    "import tensorflow as tf\n",
    "from sklearn.metrics import precision_recall_curve, precision_score, recall_score\n",
    "import numpy as np\n",
    "import matplotlib.pyplot as plt\n",
    "import config as conf\n",
    "import os\n",
    "import shutil\n",
    "import re"
   ]
  },
  {
   "cell_type": "markdown",
   "metadata": {},
   "source": [
    "All the needed variables are declared, this includes the model and any directories that will be needed"
   ]
  },
  {
   "cell_type": "code",
   "execution_count": 3,
   "metadata": {},
   "outputs": [
    {
     "name": "stderr",
     "output_type": "stream",
     "text": [
      "WARNING:absl:Compiled the loaded model, but the compiled metrics have yet to be built. `model.compile_metrics` will be empty until you train or evaluate the model.\n"
     ]
    }
   ],
   "source": [
    "# Load the trained model\n",
    "model = tf.keras.models.load_model(\"../models/128SRYC.h5\")\n",
    "\n",
    "# Directory containing images to classify\n",
    "source_directory = \"../data/rootness_cutouts\"\n",
    "\n",
    "# Directory to save classified images\n",
    "output_directory = \"../data/128SRYC_NNS_rootness_predictions\"\n",
    "\n",
    "# Path to the image file\n",
    "image_path = \"./data/rootness_cutouts/cutout_m105_g_ccd_6_10.521051_34.696718.png\""
   ]
  },
  {
   "cell_type": "markdown",
   "metadata": {},
   "source": [
    "Image pre-processing used by many of the tests"
   ]
  },
  {
   "cell_type": "code",
   "execution_count": 4,
   "metadata": {},
   "outputs": [],
   "source": [
    "def load_and_preprocess_image(image_path, target_size=(128, 128)):\n",
    "    \"\"\"Loads and preprocesses an image.\"\"\"\n",
    "    img = load_img(image_path, target_size=target_size, color_mode='grayscale')\n",
    "    img_array = img_to_array(img) / 255.0\n",
    "    img_array = np.expand_dims(img_array, axis=0)\n",
    "    return img_array"
   ]
  },
  {
   "cell_type": "markdown",
   "metadata": {},
   "source": [
    "### Predicting a single image\n",
    "\n",
    "Takes an image path, preprocesses the image, and predicts the class."
   ]
  },
  {
   "cell_type": "code",
   "execution_count": null,
   "metadata": {},
   "outputs": [],
   "source": [
    "# Load and preprocess the image\n",
    "img_array = load_and_preprocess_image(image_path, target_size=(conf.IMAGE_SIZE, conf.IMAGE_SIZE))\n",
    "\n",
    "# Make predictions\n",
    "predictions = model.predict(img_array)\n",
    "\n",
    "# Get the predicted class\n",
    "predicted_class = np.argmax(predictions, axis=1)\n",
    "predicted_prob = np.max(predictions)\n",
    "\n",
    "print(predicted_class[0], predicted_prob)"
   ]
  },
  {
   "cell_type": "markdown",
   "metadata": {},
   "source": [
    "### Predict whole directory of images\n",
    "\n",
    "Predicts classes for all images in the specified directory"
   ]
  },
  {
   "cell_type": "code",
   "execution_count": null,
   "metadata": {},
   "outputs": [],
   "source": [
    "results = []\n",
    "\n",
    "# Iterate over each subdirectory in the test directory\n",
    "for class_folder in os.listdir(source_directory):\n",
    "    class_folder_path = os.path.join(source_directory, class_folder)\n",
    "\n",
    "    # Check if it is a directory\n",
    "    if os.path.isdir(class_folder_path):\n",
    "        # Iterate over each file in the class folder\n",
    "        for filename in os.listdir(class_folder_path):\n",
    "            # Construct full file path\n",
    "            file_path = os.path.join(class_folder_path, filename)\n",
    "\n",
    "            # Check if the file is an image\n",
    "            if filename.lower().endswith(('.png', '.jpg', '.jpeg', '.bmp')):\n",
    "                # Load and preprocess the image\n",
    "                img_array = load_and_preprocess_image(file_path)\n",
    "\n",
    "                # Make predictions\n",
    "                predictions = model.predict(img_array)\n",
    "                predicted_class = np.argmax(predictions, axis=1)[0]  # Get predicted class index\n",
    "                predicted_prob = np.max(predictions)  # Get the maximum probability\n",
    "\n",
    "                # Store the result with the actual label based on the folder name\n",
    "                results.append({\n",
    "                    'filename': filename,\n",
    "                    'actual_class': class_folder,  # The folder name represents the actual class\n",
    "                    'predicted_class': predicted_class,\n",
    "                    'probability': predicted_prob\n",
    "                })\n",
    "\n",
    "print(results)"
   ]
  },
  {
   "cell_type": "markdown",
   "metadata": {},
   "source": [
    "### Evaluate Model\n",
    "\n",
    "Evaluates the model on the test dataset and plots accuracy, loss, precision, recall, and F1-score."
   ]
  },
  {
   "cell_type": "code",
   "execution_count": null,
   "metadata": {},
   "outputs": [],
   "source": [
    "# Load test data\n",
    "test_datagen = ImageDataGenerator(rescale=1./255)\n",
    "test_data = test_datagen.flow_from_directory(\n",
    "    source_directory,\n",
    "    target_size=(conf.IMAGE_SIZE, conf.IMAGE_SIZE),\n",
    "    color_mode='grayscale',\n",
    "    batch_size=32,\n",
    "    class_mode='categorical',\n",
    "    shuffle=False\n",
    ")\n",
    "\n",
    "# Evaluate the model\n",
    "scores = model.evaluate(test_data)\n",
    "print(f\"Test Loss: {scores[0]}\")\n",
    "print(f\"Test Accuracy: {scores[1]}\")\n",
    "\n",
    "# Predict the classes\n",
    "y_pred = model.predict(test_data)\n",
    "y_pred_classes = np.argmax(y_pred, axis=1)\n",
    "y_true = test_data.classes\n",
    "\n",
    "# Calculate precision, recall, and F1-score manually\n",
    "precision = np.zeros(len(test_data.class_indices))\n",
    "recall = np.zeros(len(test_data.class_indices))\n",
    "f1_score = np.zeros(len(test_data.class_indices))\n",
    "\n",
    "for i in range(len(test_data.class_indices)):\n",
    "    true_positives = np.sum((y_true == i) & (y_pred_classes == i))\n",
    "    false_positives = np.sum((y_true != i) & (y_pred_classes == i))\n",
    "    false_negatives = np.sum((y_true == i) & (y_pred_classes != i))\n",
    "\n",
    "    precision[i] = true_positives / (true_positives + false_positives) if (true_positives + false_positives) > 0 else 0\n",
    "    recall[i] = true_positives / (true_positives + false_negatives) if (true_positives + false_negatives) > 0 else 0\n",
    "    f1_score[i] = 2 * (precision[i] * recall[i]) / (precision[i] + recall[i]) if (precision[i] + recall[i]) > 0 else 0\n",
    "\n",
    "# Print precision, recall, and F1-score\n",
    "for i, class_name in enumerate(test_data.class_indices.keys()):\n",
    "    print(f\"Class: {class_name}\")\n",
    "    print(f\"Precision: {precision[i]}\")\n",
    "    print(f\"Recall: {recall[i]}\")\n",
    "    print(f\"F1-score: {f1_score[i]}\")\n",
    "    print()\n",
    "\n",
    "# Plot confusion matrix\n",
    "conf_matrix = np.zeros((len(test_data.class_indices), len(test_data.class_indices)), dtype=int)\n",
    "for true, pred in zip(y_true, y_pred_classes):\n",
    "    conf_matrix[true, pred] += 1\n",
    "\n",
    "plt.figure(figsize=(10, 7))\n",
    "plt.imshow(conf_matrix, interpolation='nearest', cmap=plt.cm.Blues)\n",
    "plt.title('Confusion Matrix')\n",
    "plt.colorbar()\n",
    "tick_marks = np.arange(len(test_data.class_indices))\n",
    "plt.xticks(tick_marks, test_data.class_indices.keys(), rotation=45)\n",
    "plt.yticks(tick_marks, test_data.class_indices.keys())\n",
    "\n",
    "for i in range(len(test_data.class_indices)):\n",
    "    for j in range(len(test_data.class_indices)):\n",
    "        plt.text(j, i, conf_matrix[i, j], horizontalalignment=\"center\", color=\"white\" if conf_matrix[i, j] > conf_matrix.max() / 2 else \"black\")\n",
    "\n",
    "plt.ylabel('True label')\n",
    "plt.xlabel('Predicted label')\n",
    "plt.show()\n",
    "\n",
    "# Plot accuracy and loss\n",
    "history = model.history.history\n",
    "plt.figure(figsize=(12, 4))\n",
    "plt.subplot(1, 2, 1)\n",
    "plt.plot(history['accuracy'], label='Train Accuracy')\n",
    "plt.plot(history['val_accuracy'], label='Validation Accuracy')\n",
    "plt.xlabel('Epochs')\n",
    "plt.ylabel('Accuracy')\n",
    "plt.legend()\n",
    "plt.title('Model Accuracy')\n",
    "\n",
    "plt.subplot(1, 2, 2)\n",
    "plt.plot(history['loss'], label='Train Loss')\n",
    "plt.plot(history['val_loss'], label='Validation Loss')\n",
    "plt.xlabel('Epochs')\n",
    "plt.ylabel('Loss')\n",
    "plt.legend()\n",
    "plt.title('Model Loss')\n",
    "\n",
    "plt.show()"
   ]
  },
  {
   "cell_type": "markdown",
   "metadata": {},
   "source": [
    "### Classify and Organise Images\n",
    "\n",
    "Classifies images in the source directory and organizes them into 'cluster' and 'non-cluster' folders."
   ]
  },
  {
   "cell_type": "code",
   "execution_count": null,
   "metadata": {},
   "outputs": [],
   "source": [
    "# Create output directories if they don't exist\n",
    "cluster_dir = os.path.join(output_directory, 'cluster')\n",
    "non_cluster_dir = os.path.join(output_directory, 'non-cluster')\n",
    "os.makedirs(cluster_dir, exist_ok=True)\n",
    "os.makedirs(non_cluster_dir, exist_ok=True)\n",
    "\n",
    "# Iterate over each file in the source directory\n",
    "for filename in os.listdir(source_directory):\n",
    "    file_path = os.path.join(source_directory, filename)\n",
    "\n",
    "    # Check if the file is an image\n",
    "    if filename.lower().endswith(('.png', '.jpg', '.jpeg', '.bmp')):\n",
    "        # Load and preprocess the image\n",
    "        img_array = load_and_preprocess_image(file_path, target_size=(conf.IMAGE_SIZE, conf.IMAGE_SIZE))\n",
    "\n",
    "        # Make predictions\n",
    "        predictions = model.predict(img_array)\n",
    "        predicted_class = np.argmax(predictions, axis=1)[0]  # Get predicted class index\n",
    "\n",
    "        # Determine the target directory based on the predicted class\n",
    "        target_dir = cluster_dir if predicted_class == 0 else non_cluster_dir\n",
    "\n",
    "        # Copy the image to the target directory\n",
    "        shutil.copy(file_path, target_dir)"
   ]
  },
  {
   "cell_type": "markdown",
   "metadata": {},
   "source": [
    "### Predict and Plot Images\n",
    "\n",
    "Makes predictions on the test dataset and plots RA and DEC coordinates."
   ]
  },
  {
   "cell_type": "code",
   "execution_count": null,
   "metadata": {},
   "outputs": [],
   "source": [
    "# Lists to store RA and DEC values for plotting\n",
    "ra_correct = []\n",
    "dec_correct = []\n",
    "ra_incorrect = []\n",
    "dec_incorrect = []\n",
    "\n",
    "# Function to extract RA and DEC from filename\n",
    "def extract_ra_dec(filename):\n",
    "    match = re.search(r'_(\\d+\\.\\d+)_(\\d+\\.\\d+)\\.png$', filename)\n",
    "    if match:\n",
    "        ra = float(match.group(1))\n",
    "        dec = float(match.group(2))\n",
    "        # One of the RAs is far out, added to\n",
    "        if ra < 40:\n",
    "            return ra, dec\n",
    "    return None, None\n",
    "\n",
    "# Iterate over each subdirectory in the test directory\n",
    "for class_folder in os.listdir(source_directory):\n",
    "    class_folder_path = os.path.join(source_directory, class_folder)\n",
    "\n",
    "    # Check if it is a directory\n",
    "    if os.path.isdir(class_folder_path):\n",
    "        # Iterate over each file in the class folder\n",
    "        for filename in os.listdir(class_folder_path):\n",
    "            # Construct full file path\n",
    "            file_path = os.path.join(class_folder_path, filename)\n",
    "\n",
    "            # Check if the file is an image\n",
    "            if filename.lower().endswith(('.png', '.jpg', '.jpeg', '.bmp')):\n",
    "                # Load and preprocess the image\n",
    "                img_array = load_and_preprocess_image(file_path, target_size=(conf.IMAGE_SIZE, conf.IMAGE_SIZE))\n",
    "\n",
    "                # Make predictions\n",
    "                predictions = model.predict(img_array)\n",
    "                predicted_class = np.argmax(predictions, axis=1)[0]  # Get predicted class index\n",
    "\n",
    "                # Extract RA and DEC from the filename\n",
    "                ra, dec = extract_ra_dec(filename)\n",
    "\n",
    "                # Check if the prediction is correct\n",
    "                actual_class = 0 if class_folder == 'cluster' else 1\n",
    "                if predicted_class == actual_class:\n",
    "                    ra_correct.append(ra)\n",
    "                    dec_correct.append(dec)\n",
    "                else:\n",
    "                    ra_incorrect.append(ra)\n",
    "                    dec_incorrect.append(dec)\n",
    "\n",
    "# Create a scatter plot\n",
    "plt.figure(figsize=(10, 6))\n",
    "\n",
    "# Plot correct and incorrect points with different colors\n",
    "plt.scatter(ra_correct, dec_correct, color='green', label='Correct', alpha=0.6)\n",
    "plt.scatter(ra_incorrect, dec_incorrect, color='red', label='Incorrect', alpha=0.6)\n",
    "\n",
    "# Add labels and title\n",
    "plt.xlabel('RA (degrees)')\n",
    "plt.ylabel('DEC (degrees)')\n",
    "plt.title('RA and DEC Coordinates by Prediction Accuracy')\n",
    "plt.legend()\n",
    "plt.grid(True)\n",
    "\n",
    "# Show the plot\n",
    "plt.show()"
   ]
  },
  {
   "cell_type": "markdown",
   "metadata": {},
   "source": [
    "### Evaluate a Models Precision and Recall\n",
    "\n",
    "Evaluates the model on the test dataset and plots the precision-recall curve."
   ]
  },
  {
   "cell_type": "code",
   "execution_count": 5,
   "metadata": {},
   "outputs": [],
   "source": [
    "def calculate_metrics(y_true, y_pred_probs, thresholds):\n",
    "    precisions = []\n",
    "    recalls = []\n",
    "    for threshold in thresholds:\n",
    "        y_pred = (y_pred_probs >= threshold).astype(int)\n",
    "        precision = precision_score(y_true, y_pred)\n",
    "        recall = recall_score(y_true, y_pred)\n",
    "        precisions.append(precision)\n",
    "        recalls.append(recall)\n",
    "    return precisions, recalls"
   ]
  },
  {
   "cell_type": "code",
   "execution_count": 7,
   "metadata": {},
   "outputs": [],
   "source": [
    "def plot_precision_recall_curve(y_true, y_pred_probs):\n",
    "    precision, recall, thresholds = precision_recall_curve(y_true, y_pred_probs)\n",
    "    plt.figure(figsize=(10, 6))\n",
    "    plt.plot(recall, precision, marker='.')\n",
    "    plt.xlabel('Recall')\n",
    "    plt.ylabel('Precision')\n",
    "    plt.title('Precision-Recall Curve')\n",
    "    plt.grid(True)\n",
    "    plt.show()"
   ]
  },
  {
   "cell_type": "code",
   "execution_count": null,
   "metadata": {},
   "outputs": [],
   "source": [
    "# Load test data\n",
    "test_datagen = ImageDataGenerator(rescale=1./255)\n",
    "test_data = test_datagen.flow_from_directory(\n",
    "    source_directory,\n",
    "    target_size=(conf.IMAGE_SIZE, conf.IMAGE_SIZE),\n",
    "    color_mode='grayscale',\n",
    "    batch_size=32,\n",
    "    class_mode='categorical',\n",
    "    shuffle=False\n",
    ")\n",
    "\n",
    "# Get true labels and predicted probabilities\n",
    "y_true = test_data.classes\n",
    "y_pred_probs = model.predict(test_data)[:, 1]\n",
    "\n",
    "# Tweakable thresholds\n",
    "thresholds = np.arange(0.0, 1.1, 0.1)\n",
    "\n",
    "# Calculate precision and recall for different thresholds\n",
    "precisions, recalls = calculate_metrics(y_true, y_pred_probs, thresholds)\n",
    "\n",
    "# Plot precision-recall curve\n",
    "plot_precision_recall_curve(y_true, y_pred_probs)\n",
    "\n",
    "# Print precision and recall for different thresholds\n",
    "for threshold, precision, recall in zip(thresholds, precisions, recalls):\n",
    "    print(f\"Threshold: {threshold:.1f}, Precision: {precision:.2f}, Recall: {recall:.2f}\")"
   ]
  },
  {
   "cell_type": "markdown",
   "metadata": {},
   "source": [
    "### Classify and Organise based on Correctness\n",
    "\n",
    "Classifies images in the source directory and organizes them into 'correct' and 'incorrect' folders."
   ]
  },
  {
   "cell_type": "code",
   "execution_count": null,
   "metadata": {},
   "outputs": [],
   "source": [
    "# Create output directories if they don't exist\n",
    "correct_dir = os.path.join(output_directory, 'correct')\n",
    "incorrect_dir = os.path.join(output_directory, 'incorrect')\n",
    "os.makedirs(correct_dir, exist_ok=True)\n",
    "os.makedirs(incorrect_dir, exist_ok=True)\n",
    "\n",
    "# Iterate over each file in the source directory\n",
    "for filename in os.listdir(source_directory):\n",
    "    file_path = os.path.join(source_directory, filename)\n",
    "\n",
    "    # Check if the file is an image\n",
    "    if filename.lower().endswith(('.png', '.jpg', '.jpeg', '.bmp')):\n",
    "        # Load and preprocess the image\n",
    "        img_array = load_and_preprocess_image(file_path, target_size=(conf.IMAGE_SIZE, conf.IMAGE_SIZE))\n",
    "\n",
    "        # Make predictions\n",
    "        predictions = model.predict(img_array)\n",
    "        predicted_class = np.argmax(predictions, axis=1)[0]\n",
    "\n",
    "        # Since all images are of type \"cluster\", the actual class is 0\n",
    "        actual_class = 1\n",
    "\n",
    "        # Determine the target directory based on the prediction accuracy\n",
    "        target_dir = correct_dir if predicted_class == actual_class else incorrect_dir\n",
    "\n",
    "        # Copy the image to the target directory\n",
    "        shutil.copy(file_path, os.path.join(target_dir, filename))\n",
    "\n",
    "print(\"Images have been classified and organized into 'correct' and 'incorrect' folders.\")"
   ]
  }
 ],
 "metadata": {
  "kernelspec": {
   "display_name": ".venv",
   "language": "python",
   "name": "python3"
  },
  "language_info": {
   "codemirror_mode": {
    "name": "ipython",
    "version": 3
   },
   "file_extension": ".py",
   "mimetype": "text/x-python",
   "name": "python",
   "nbconvert_exporter": "python",
   "pygments_lexer": "ipython3",
   "version": "3.11.10"
  }
 },
 "nbformat": 4,
 "nbformat_minor": 2
}

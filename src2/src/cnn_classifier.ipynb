{
 "cells": [
  {
   "cell_type": "markdown",
   "metadata": {},
   "source": [
    "# CNN Classifier\n",
    "\n",
    "This notebook is for training a CNN"
   ]
  },
  {
   "cell_type": "code",
   "execution_count": 1,
   "metadata": {},
   "outputs": [],
   "source": [
    "import tensorflow as tf\n",
    "from tensorflow.keras import layers, models\n",
    "from tensorflow.keras.preprocessing.image import ImageDataGenerator\n",
    "import config as conf\n",
    "import random\n",
    "\n",
    "# Set the random seeds for reproducibility\n",
    "seed_value = 42\n",
    "random.seed(seed_value)\n",
    "tf.random.set_seed(seed_value)"
   ]
  },
  {
   "cell_type": "markdown",
   "metadata": {},
   "source": [
    "## Load Images\n",
    "\n",
    "Images are loaded from directories specified in ```config.py```\n",
    "\n",
    "Image size is also specified at this point, so make sure that ```IMAGE_SIZE``` is to the specified size of the images within your train and validate directories."
   ]
  },
  {
   "cell_type": "code",
   "execution_count": 2,
   "metadata": {},
   "outputs": [
    {
     "name": "stdout",
     "output_type": "stream",
     "text": [
      "Found 42360 images belonging to 2 classes.\n",
      "Found 9079 images belonging to 2 classes.\n"
     ]
    }
   ],
   "source": [
    "def load_images():\n",
    "    \"\"\" Loads the images which will be used for training.\n",
    "\n",
    "    Returns:\n",
    "        train, validate: Preprocessed train, validation data which will be used for training\n",
    "    \"\"\"\n",
    "\n",
    "    # Normalise pixel values\n",
    "    train_datagen = ImageDataGenerator(rescale=1./255) \n",
    "    validation_datagen = ImageDataGenerator(rescale=1./255)\n",
    "\n",
    "    # Load images from the directories\n",
    "    train = train_datagen.flow_from_directory(\n",
    "        conf.TRAIN_DIR,\n",
    "        target_size=(conf.IMAGE_SIZE, conf.IMAGE_SIZE),\n",
    "        color_mode='grayscale',\n",
    "        batch_size=conf.BATCH_SIZE,\n",
    "        class_mode='categorical'\n",
    "    )\n",
    "\n",
    "    validate = validation_datagen.flow_from_directory(\n",
    "        conf.VALIDATION_DIR,\n",
    "        target_size=(conf.IMAGE_SIZE, conf.IMAGE_SIZE),\n",
    "        color_mode='grayscale', \n",
    "        batch_size=conf.BATCH_SIZE,\n",
    "        class_mode='categorical'\n",
    "    )\n",
    "\n",
    "    return train, validate\n",
    "\n",
    "train_data, validation_data = load_images()"
   ]
  },
  {
   "cell_type": "markdown",
   "metadata": {},
   "source": [
    "## Create Model\n",
    "\n",
    "Creates a model with architecture specified within the function. This can be changed depending on the model architecture you want to train on.\n",
    "\n",
    "Parameters ```IMAGE_SIZE``` and ```IMAGE_CHANNELS``` are specified within ```config.py``` and should match the images which the model will be trained on.\n",
    "\n",
    "Parameters ```LEARNING_RATE``` and ```DROPOUT``` can be modified in ```config.py``` as well, with a dropout layer only being added if ```DROPOUT_BOOL``` is true."
   ]
  },
  {
   "cell_type": "code",
   "execution_count": 3,
   "metadata": {},
   "outputs": [],
   "source": [
    "def create_model():\n",
    "    \"\"\"Creates the CNN model based on the provided architecture.\n",
    "    \n",
    "    Returns:\n",
    "        model : The created CNN model\n",
    "    \"\"\"\n",
    "    \n",
    "    model = models.Sequential()\n",
    "    \n",
    "    # Input layer\n",
    "    model.add(layers.InputLayer(shape=(conf.IMAGE_SIZE, conf.IMAGE_SIZE, conf.IMAGE_CHANNELS)))\n",
    "    \n",
    "    # Model architecture\n",
    "    layer_list = [\n",
    "        layers.Conv2D(64, (5, 5), activation='relu'),  # Conv Layer 1\n",
    "        layers.MaxPooling2D((2, 2)),  # Max Pooling 1\n",
    "        layers.Conv2D(64, (5, 5), activation='relu'),  # Conv Layer 2\n",
    "        layers.MaxPooling2D((2, 2)),  # Max Pooling 2\n",
    "        layers.Conv2D(128, (5, 5), activation='relu'),  # Conv Layer 3\n",
    "        layers.MaxPooling2D((2, 2)),  # Max Pooling 3\n",
    "        layers.Flatten(),\n",
    "        layers.Dense(1024, activation='relu'),  # Fully Connected Layer 1\n",
    "        layers.Dense(1024, activation='relu')  # Fully Connected Layer 2\n",
    "    ]\n",
    "    \n",
    "    # Add layers from the list\n",
    "    for layer in layer_list:\n",
    "        model.add(layer)\n",
    "    \n",
    "    # Add dropout layer if DROPOUT_BOOL is True\n",
    "    if conf.DROPOUT_BOOL:\n",
    "        model.add(layers.Dropout(conf.DROPOUT))\n",
    "    \n",
    "    # Output layer\n",
    "    model.add(layers.Dense(2, activation='softmax'))\n",
    "    \n",
    "    # Compile the model\n",
    "    optimizer = tf.keras.optimizers.Adam(learning_rate=conf.LEARNING_RATE)\n",
    "    model.compile(optimizer=optimizer,\n",
    "                  loss='categorical_crossentropy',\n",
    "                  metrics=['accuracy'])\n",
    "    \n",
    "    return model\n",
    "\n",
    "model = create_model()"
   ]
  },
  {
   "cell_type": "markdown",
   "metadata": {},
   "source": [
    "## Train CNN\n",
    "\n",
    "Model is trained and saved to directory specified in ```config.py```"
   ]
  },
  {
   "cell_type": "code",
   "execution_count": 4,
   "metadata": {},
   "outputs": [
    {
     "name": "stdout",
     "output_type": "stream",
     "text": [
      "Epoch 1/5\n"
     ]
    },
    {
     "name": "stderr",
     "output_type": "stream",
     "text": [
      "C:\\Users\\Squid\\AppData\\Local\\Packages\\PythonSoftwareFoundation.Python.3.11_qbz5n2kfra8p0\\LocalCache\\local-packages\\Python311\\site-packages\\keras\\src\\trainers\\data_adapters\\py_dataset_adapter.py:121: UserWarning: Your `PyDataset` class should call `super().__init__(**kwargs)` in its constructor. `**kwargs` can include `workers`, `use_multiprocessing`, `max_queue_size`. Do not pass these arguments to `fit()`, as they will be ignored.\n",
      "  self._warn_if_super_not_called()\n"
     ]
    },
    {
     "name": "stdout",
     "output_type": "stream",
     "text": [
      "\u001b[1m848/848\u001b[0m \u001b[32m━━━━━━━━━━━━━━━━━━━━\u001b[0m\u001b[37m\u001b[0m \u001b[1m340s\u001b[0m 399ms/step - accuracy: 0.7264 - loss: 0.5130 - val_accuracy: 0.9303 - val_loss: 0.1607\n",
      "Epoch 2/5\n",
      "\u001b[1m848/848\u001b[0m \u001b[32m━━━━━━━━━━━━━━━━━━━━\u001b[0m\u001b[37m\u001b[0m \u001b[1m333s\u001b[0m 392ms/step - accuracy: 0.9332 - loss: 0.1493 - val_accuracy: 0.9544 - val_loss: 0.0981\n",
      "Epoch 3/5\n",
      "\u001b[1m848/848\u001b[0m \u001b[32m━━━━━━━━━━━━━━━━━━━━\u001b[0m\u001b[37m\u001b[0m \u001b[1m325s\u001b[0m 383ms/step - accuracy: 0.9507 - loss: 0.1121 - val_accuracy: 0.9668 - val_loss: 0.0830\n",
      "Epoch 4/5\n",
      "\u001b[1m848/848\u001b[0m \u001b[32m━━━━━━━━━━━━━━━━━━━━\u001b[0m\u001b[37m\u001b[0m \u001b[1m319s\u001b[0m 376ms/step - accuracy: 0.9620 - loss: 0.0935 - val_accuracy: 0.9694 - val_loss: 0.0809\n",
      "Epoch 5/5\n",
      "\u001b[1m848/848\u001b[0m \u001b[32m━━━━━━━━━━━━━━━━━━━━\u001b[0m\u001b[37m\u001b[0m \u001b[1m318s\u001b[0m 375ms/step - accuracy: 0.9687 - loss: 0.0769 - val_accuracy: 0.9599 - val_loss: 0.0941\n"
     ]
    },
    {
     "name": "stderr",
     "output_type": "stream",
     "text": [
      "WARNING:absl:You are saving your model as an HDF5 file via `model.save()` or `keras.saving.save_model(model)`. This file format is considered legacy. We recommend using instead the native Keras format, e.g. `model.save('my_model.keras')` or `keras.saving.save_model(model, 'my_model.keras')`. \n"
     ]
    }
   ],
   "source": [
    "# Trains the model\n",
    "history = model.fit(\n",
    "    train_data,\n",
    "    epochs=conf.EPOCHS,\n",
    "    validation_data=validation_data\n",
    ")\n",
    "\n",
    "# Saves model, to file specified in config\n",
    "model.save(conf.MODEL_SAVE_PATH)"
   ]
  }
 ],
 "metadata": {
  "kernelspec": {
   "display_name": "Python 3",
   "language": "python",
   "name": "python3"
  },
  "language_info": {
   "codemirror_mode": {
    "name": "ipython",
    "version": 3
   },
   "file_extension": ".py",
   "mimetype": "text/x-python",
   "name": "python",
   "nbconvert_exporter": "python",
   "pygments_lexer": "ipython3",
   "version": "3.11.9"
  }
 },
 "nbformat": 4,
 "nbformat_minor": 2
}

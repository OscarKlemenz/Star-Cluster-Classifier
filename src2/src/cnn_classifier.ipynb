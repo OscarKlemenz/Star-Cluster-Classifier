{
 "cells": [
  {
   "cell_type": "markdown",
   "metadata": {},
   "source": [
    "# CNN Classifier\n",
    "\n",
    "This notebook is for training a CNN"
   ]
  },
  {
   "cell_type": "code",
   "execution_count": 1,
   "metadata": {},
   "outputs": [],
   "source": [
    "import tensorflow as tf\n",
    "from tensorflow.keras import layers, models\n",
    "from tensorflow.keras.preprocessing.image import ImageDataGenerator\n",
    "import config as conf\n",
    "import random\n",
    "\n",
    "# Set the random seeds for reproducibility\n",
    "seed_value = 42\n",
    "random.seed(seed_value)\n",
    "tf.random.set_seed(seed_value)"
   ]
  },
  {
   "cell_type": "markdown",
   "metadata": {},
   "source": [
    "## Load Images\n",
    "\n",
    "Images are loaded from directories specified in ```config.py```\n",
    "\n",
    "Image size is also specified at this point, so make sure that ```IMAGE_SIZE``` is to the specified size of the images within your train and validate directories."
   ]
  },
  {
   "cell_type": "code",
   "execution_count": 2,
   "metadata": {},
   "outputs": [
    {
     "name": "stdout",
     "output_type": "stream",
     "text": [
      "Found 41431 images belonging to 2 classes.\n",
      "Found 10359 images belonging to 2 classes.\n"
     ]
    }
   ],
   "source": [
    "def load_images():\n",
    "    \"\"\" Loads the images which will be used for training.\n",
    "\n",
    "    Returns:\n",
    "        train, validate: Preprocessed train, validation data which will be used for training\n",
    "    \"\"\"\n",
    "\n",
    "    # Normalise pixel values\n",
    "    train_datagen = ImageDataGenerator(rescale=1./255) \n",
    "    validation_datagen = ImageDataGenerator(rescale=1./255)\n",
    "\n",
    "    # Load images from the directories\n",
    "    train = train_datagen.flow_from_directory(\n",
    "        conf.TRAIN_DIR,\n",
    "        target_size=(conf.IMAGE_SIZE, conf.IMAGE_SIZE),\n",
    "        color_mode='grayscale',\n",
    "        batch_size=conf.BATCH_SIZE,\n",
    "        class_mode='categorical'\n",
    "    )\n",
    "\n",
    "    validate = validation_datagen.flow_from_directory(\n",
    "        conf.VALIDATION_DIR,\n",
    "        target_size=(conf.IMAGE_SIZE, conf.IMAGE_SIZE),\n",
    "        color_mode='grayscale', \n",
    "        batch_size=conf.BATCH_SIZE,\n",
    "        class_mode='categorical'\n",
    "    )\n",
    "\n",
    "    return train, validate\n",
    "\n",
    "train_data, validation_data = load_images()"
   ]
  },
  {
   "cell_type": "markdown",
   "metadata": {},
   "source": [
    "## Create Model\n",
    "\n",
    "Creates a model with architecture specified within the function. This can be changed depending on the model architecture you want to train on.\n",
    "\n",
    "Parameters ```IMAGE_SIZE``` and ```IMAGE_CHANNELS``` are specified within ```config.py``` and should match the images which the model will be trained on.\n",
    "\n",
    "Parameters ```LEARNING_RATE``` and ```DROPOUT``` can be modified in ```config.py``` as well, with a dropout layer only being added if ```DROPOUT_BOOL``` is true."
   ]
  },
  {
   "cell_type": "code",
   "execution_count": 3,
   "metadata": {},
   "outputs": [],
   "source": [
    "def create_model():\n",
    "    \"\"\"Creates the CNN model based on the provided architecture.\n",
    "    \n",
    "    Returns:\n",
    "        model : The created CNN model\n",
    "    \"\"\"\n",
    "    \n",
    "    model = models.Sequential()\n",
    "    \n",
    "    # Input layer\n",
    "    model.add(layers.InputLayer(shape=(conf.IMAGE_SIZE, conf.IMAGE_SIZE, conf.IMAGE_CHANNELS)))\n",
    "    \n",
    "    # Model architecture\n",
    "    layer_list = [\n",
    "        layers.Conv2D(32, (3, 3), activation='relu'),  # Conv Layer 1\n",
    "        layers.MaxPooling2D((2, 2)),  # Max Pooling 1\n",
    "        layers.Conv2D(64, (3, 3), activation='relu'),  # Conv Layer 2\n",
    "        layers.MaxPooling2D((2, 2)),  # Max Pooling 2\n",
    "        layers.Conv2D(64, (3, 3), activation='relu'),  # Conv Layer 3\n",
    "        layers.Flatten(),\n",
    "        layers.Dense(64, activation='relu')\n",
    "    ]\n",
    "    \n",
    "    # Add layers from the list\n",
    "    for layer in layer_list:\n",
    "        model.add(layer)\n",
    "    \n",
    "    # Add dropout layer if DROPOUT_BOOL is True\n",
    "    if conf.DROPOUT_BOOL:\n",
    "        model.add(layers.Dropout(conf.DROPOUT))\n",
    "    \n",
    "    # Output layer\n",
    "    model.add(layers.Dense(2, activation='softmax'))\n",
    "    \n",
    "    # Compile the model\n",
    "    optimizer = tf.keras.optimizers.Adam(learning_rate=conf.LEARNING_RATE)\n",
    "    model.compile(optimizer=optimizer,\n",
    "                  loss='categorical_crossentropy',\n",
    "                  metrics=['accuracy'])\n",
    "    \n",
    "    return model\n",
    "\n",
    "model = create_model()"
   ]
  },
  {
   "cell_type": "markdown",
   "metadata": {},
   "source": [
    "## Train CNN\n",
    "\n",
    "Model is trained and saved to directory specified in ```config.py```"
   ]
  },
  {
   "cell_type": "code",
   "execution_count": 4,
   "metadata": {},
   "outputs": [
    {
     "name": "stdout",
     "output_type": "stream",
     "text": [
      "Epoch 1/5\n"
     ]
    },
    {
     "name": "stderr",
     "output_type": "stream",
     "text": [
      "/Users/oscarklemenz/Documents/All Uni Modules/Year 3/Dissertation/Code/Star-Cluster-Classifier/.venv/lib/python3.11/site-packages/keras/src/trainers/data_adapters/py_dataset_adapter.py:121: UserWarning: Your `PyDataset` class should call `super().__init__(**kwargs)` in its constructor. `**kwargs` can include `workers`, `use_multiprocessing`, `max_queue_size`. Do not pass these arguments to `fit()`, as they will be ignored.\n",
      "  self._warn_if_super_not_called()\n"
     ]
    },
    {
     "name": "stdout",
     "output_type": "stream",
     "text": [
      "\u001b[1m1295/1295\u001b[0m \u001b[32m━━━━━━━━━━━━━━━━━━━━\u001b[0m\u001b[37m\u001b[0m \u001b[1m89s\u001b[0m 68ms/step - accuracy: 0.8823 - loss: 0.2652 - val_accuracy: 0.9557 - val_loss: 0.0959\n",
      "Epoch 2/5\n",
      "\u001b[1m1295/1295\u001b[0m \u001b[32m━━━━━━━━━━━━━━━━━━━━\u001b[0m\u001b[37m\u001b[0m \u001b[1m420s\u001b[0m 325ms/step - accuracy: 0.9533 - loss: 0.1028 - val_accuracy: 0.9616 - val_loss: 0.0816\n",
      "Epoch 3/5\n",
      "\u001b[1m1295/1295\u001b[0m \u001b[32m━━━━━━━━━━━━━━━━━━━━\u001b[0m\u001b[37m\u001b[0m \u001b[1m88s\u001b[0m 68ms/step - accuracy: 0.9645 - loss: 0.0846 - val_accuracy: 0.9735 - val_loss: 0.0704\n",
      "Epoch 4/5\n",
      "\u001b[1m1295/1295\u001b[0m \u001b[32m━━━━━━━━━━━━━━━━━━━━\u001b[0m\u001b[37m\u001b[0m \u001b[1m89s\u001b[0m 69ms/step - accuracy: 0.9737 - loss: 0.0655 - val_accuracy: 0.9734 - val_loss: 0.0653\n",
      "Epoch 5/5\n",
      "\u001b[1m1295/1295\u001b[0m \u001b[32m━━━━━━━━━━━━━━━━━━━━\u001b[0m\u001b[37m\u001b[0m \u001b[1m91s\u001b[0m 70ms/step - accuracy: 0.9760 - loss: 0.0610 - val_accuracy: 0.9748 - val_loss: 0.0641\n"
     ]
    },
    {
     "name": "stderr",
     "output_type": "stream",
     "text": [
      "WARNING:absl:You are saving your model as an HDF5 file via `model.save()` or `keras.saving.save_model(model)`. This file format is considered legacy. We recommend using instead the native Keras format, e.g. `model.save('my_model.keras')` or `keras.saving.save_model(model, 'my_model.keras')`. \n"
     ]
    }
   ],
   "source": [
    "# Trains the model\n",
    "history = model.fit(\n",
    "    train_data,\n",
    "    epochs=conf.EPOCHS,\n",
    "    validation_data=validation_data\n",
    ")\n",
    "\n",
    "# Saves model, to file specified in config\n",
    "model.save(conf.MODEL_SAVE_PATH)"
   ]
  }
 ],
 "metadata": {
  "kernelspec": {
   "display_name": ".venv",
   "language": "python",
   "name": "python3"
  },
  "language_info": {
   "codemirror_mode": {
    "name": "ipython",
    "version": 3
   },
   "file_extension": ".py",
   "mimetype": "text/x-python",
   "name": "python",
   "nbconvert_exporter": "python",
   "pygments_lexer": "ipython3",
   "version": "3.11.10"
  }
 },
 "nbformat": 4,
 "nbformat_minor": 2
}

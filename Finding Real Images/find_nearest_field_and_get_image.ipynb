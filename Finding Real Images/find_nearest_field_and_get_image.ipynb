{
 "cells": [
  {
   "cell_type": "markdown",
   "id": "8222f6c3",
   "metadata": {},
   "source": [
    "Some code fragments to help you start. Yoi will need to (obviously) set paths tp your own data area."
   ]
  },
  {
   "cell_type": "code",
   "execution_count": 3,
   "id": "b378d337",
   "metadata": {},
   "outputs": [],
   "source": [
    "import pandas as pd\n",
    "import numpy as np\n",
    "\n",
    "# to get data from a FITS table\n",
    "from astropy.io import fits\n",
    "from astropy.table import Table\n",
    "\n",
    "# to convert RA dec into actual form\n",
    "import astropy.units as u\n",
    "from astropy.coordinates import SkyCoord\n",
    "from astropy.coordinates import FK5"
   ]
  },
  {
   "cell_type": "markdown",
   "id": "602dbb78",
   "metadata": {},
   "source": [
    "The master catalog is based on the Revised Bologna Catalog and includes known GCs as well as obejct that have been thought to be GCs. We need GCs (1), extended GCs (8) and the galaxies (4)\n",
    "\n",
    "     1 = globular cluster;\n",
    "     2 = candidate globular cluster;\n",
    "     3 = controversial object;\n",
    "     4 = galaxy;\n",
    "     5 = HII region\n",
    "     6 = star(s)\n",
    "     7 = asterism;\n",
    "     8 = extended cluster;\n",
    "     "
   ]
  },
  {
   "cell_type": "code",
   "execution_count": 14,
   "id": "b88b10a0",
   "metadata": {},
   "outputs": [
    {
     "data": {
      "text/html": [
       "<div>\n",
       "<style scoped>\n",
       "    .dataframe tbody tr th:only-of-type {\n",
       "        vertical-align: middle;\n",
       "    }\n",
       "\n",
       "    .dataframe tbody tr th {\n",
       "        vertical-align: top;\n",
       "    }\n",
       "\n",
       "    .dataframe thead th {\n",
       "        text-align: right;\n",
       "    }\n",
       "</style>\n",
       "<table border=\"1\" class=\"dataframe\">\n",
       "  <thead>\n",
       "    <tr style=\"text-align: right;\">\n",
       "      <th></th>\n",
       "      <th>ID</th>\n",
       "      <th>RADEG</th>\n",
       "      <th>DECDEG</th>\n",
       "      <th>CLASS</th>\n",
       "      <th>DATATABLE</th>\n",
       "    </tr>\n",
       "  </thead>\n",
       "  <tbody>\n",
       "    <tr>\n",
       "      <th>0</th>\n",
       "      <td>C1</td>\n",
       "      <td>0.157917</td>\n",
       "      <td>32.417778</td>\n",
       "      <td>2</td>\n",
       "      <td>di_tullio_zinn_13_table2</td>\n",
       "    </tr>\n",
       "    <tr>\n",
       "      <th>1</th>\n",
       "      <td>2M034</td>\n",
       "      <td>0.508375</td>\n",
       "      <td>51.606722</td>\n",
       "      <td>4</td>\n",
       "      <td>m31rbcV5</td>\n",
       "    </tr>\n",
       "    <tr>\n",
       "      <th>2</th>\n",
       "      <td>PAndAS-03</td>\n",
       "      <td>0.985042</td>\n",
       "      <td>40.888667</td>\n",
       "      <td>1</td>\n",
       "      <td>huxor14_table1</td>\n",
       "    </tr>\n",
       "    <tr>\n",
       "      <th>3</th>\n",
       "      <td>PAndAS-04</td>\n",
       "      <td>1.178875</td>\n",
       "      <td>47.361797</td>\n",
       "      <td>1</td>\n",
       "      <td>huxor14_table1</td>\n",
       "    </tr>\n",
       "    <tr>\n",
       "      <th>4</th>\n",
       "      <td>PAndAS-05</td>\n",
       "      <td>1.350625</td>\n",
       "      <td>43.926583</td>\n",
       "      <td>1</td>\n",
       "      <td>huxor14_table1</td>\n",
       "    </tr>\n",
       "    <tr>\n",
       "      <th>...</th>\n",
       "      <td>...</td>\n",
       "      <td>...</td>\n",
       "      <td>...</td>\n",
       "      <td>...</td>\n",
       "      <td>...</td>\n",
       "    </tr>\n",
       "    <tr>\n",
       "      <th>2266</th>\n",
       "      <td>C74</td>\n",
       "      <td>356.707917</td>\n",
       "      <td>45.247222</td>\n",
       "      <td>2</td>\n",
       "      <td>di_tullio_zinn_13_table2</td>\n",
       "    </tr>\n",
       "    <tr>\n",
       "      <th>2267</th>\n",
       "      <td>C75</td>\n",
       "      <td>357.170417</td>\n",
       "      <td>39.629167</td>\n",
       "      <td>2</td>\n",
       "      <td>di_tullio_zinn_13_table2</td>\n",
       "    </tr>\n",
       "    <tr>\n",
       "      <th>2268</th>\n",
       "      <td>SDSS18</td>\n",
       "      <td>357.290417</td>\n",
       "      <td>40.458333</td>\n",
       "      <td>4</td>\n",
       "      <td>di_tullio_zinn_13_table1</td>\n",
       "    </tr>\n",
       "    <tr>\n",
       "      <th>2269</th>\n",
       "      <td>PAndAS-01</td>\n",
       "      <td>359.300125</td>\n",
       "      <td>43.552300</td>\n",
       "      <td>1</td>\n",
       "      <td>huxor14_table1</td>\n",
       "    </tr>\n",
       "    <tr>\n",
       "      <th>2270</th>\n",
       "      <td>PAndAS-02</td>\n",
       "      <td>359.482042</td>\n",
       "      <td>41.780347</td>\n",
       "      <td>1</td>\n",
       "      <td>huxor14_table1</td>\n",
       "    </tr>\n",
       "  </tbody>\n",
       "</table>\n",
       "<p>2271 rows × 5 columns</p>\n",
       "</div>"
      ],
      "text/plain": [
       "             ID       RADEG     DECDEG  CLASS                 DATATABLE\n",
       "0            C1    0.157917  32.417778      2  di_tullio_zinn_13_table2\n",
       "1         2M034    0.508375  51.606722      4                  m31rbcV5\n",
       "2     PAndAS-03    0.985042  40.888667      1            huxor14_table1\n",
       "3     PAndAS-04    1.178875  47.361797      1            huxor14_table1\n",
       "4     PAndAS-05    1.350625  43.926583      1            huxor14_table1\n",
       "...         ...         ...        ...    ...                       ...\n",
       "2266        C74  356.707917  45.247222      2  di_tullio_zinn_13_table2\n",
       "2267        C75  357.170417  39.629167      2  di_tullio_zinn_13_table2\n",
       "2268     SDSS18  357.290417  40.458333      4  di_tullio_zinn_13_table1\n",
       "2269  PAndAS-01  359.300125  43.552300      1            huxor14_table1\n",
       "2270  PAndAS-02  359.482042  41.780347      1            huxor14_table1\n",
       "\n",
       "[2271 rows x 5 columns]"
      ]
     },
     "execution_count": 14,
     "metadata": {},
     "output_type": "execute_result"
    }
   ],
   "source": [
    "master_catalog_df = pd.read_csv('master_catalog_sept_2024.csv')\n",
    "master_catalog_df"
   ]
  },
  {
   "cell_type": "markdown",
   "id": "73d2141c",
   "metadata": {},
   "source": [
    "Read in CFHT data of PandAS pointings\n",
    "\n",
    "data from https://www.canfar.net/storage/list/PANDAS/PUBLIC\n"
   ]
  },
  {
   "cell_type": "code",
   "execution_count": 15,
   "id": "ed6049c7",
   "metadata": {},
   "outputs": [
    {
     "name": "stdout",
     "output_type": "stream",
     "text": [
      "   obs_year  obs_month  obs_day  obs_hour  obs_min  obs_sec           mjd  \\\n",
      "0      2003          8       22        11       29    38.27  52873.478915   \n",
      "1      2003          8       22        11       53    39.54  52873.495596   \n",
      "\n",
      "   RAh  RAm   RAs  DECd  DECm  DECs   ExpID FieldID OtherID     PID    Filter  \\\n",
      "0    1   33  51.0    30    39  36.8  714745    m026    M33C  03BF15  g.MP9401   \n",
      "1    1   33  51.0    30    39  36.8  714747    m026    M33C  03BF15  i.MP9701   \n",
      "\n",
      "   Exp  \n",
      "0  530  \n",
      "1  660  \n"
     ]
    }
   ],
   "source": [
    "# load data of exposures from file in\n",
    "# https://ws-sf.canfar.net/transfer/bmVpZ2g9U0ZVJnNpZ2V4cD0yMDIyMDcxMDE1MDc0NiZhcmM9Vk9TcGFjJmlkPTI0OTEwOTU0MCZ1c2VyPWFub25Vc2VyJm5zPVBBTkRBUyUyRlBVQkxJQyUyRkRPQ1MmbWV0aD1nZXQmYXV0aENvZGU9MCZydW5JRD1nOXNuZ2R2NnN1Z3E1ODNwJnVybD1odHRwJTNBJTJGJTJGc3Rvci1zZi0wMS5jYW5mYXIubmV0JTNBODg4OCUyRmFyY2hpdmUlMkY1ODA0MzQyYyUyRjE4ODklMkZ2b3NwYWMlMkZkZWZhdWx0JTJGMDAlMkYyNCUyRjcwJTJGMjQ5MTA5NTQwJTI1M0IlMjUzQjI3OTA0NDgzNw==-ZmlkPVRhYmxlMi50eHQmY2xuPTMwOTcyMiZjbWQ9MDQ4MWJjZWRlYWMwYjQ2ZTQxMDU3Y2I4YWUyMzg4OTQmbG1kPTE1Mzk3OTUxNzQ2NTM=-f7464048a902d90fb6fe371739d641b6/Table2.txt\n",
    "\n",
    "pandas_obs_log = pd.read_csv('pandas_observing_log.txt',skiprows=35, header=None, delimiter=r\"\\s+\")\n",
    "col_names = ['obs_year','obs_month','obs_day','obs_hour','obs_min','obs_sec','mjd','RAh','RAm','RAs',\\\n",
    "         'DECd','DECm','DECs','ExpID','FieldID','OtherID','PID','Filter','Exp']\n",
    "pandas_obs_log.columns = col_names\n",
    "print(pandas_obs_log.head(2))\n",
    "\n",
    "# concat coord columns into one string for astropy to use\n",
    "pandas_obs_log['coord_string'] = pandas_obs_log['RAh'].astype(str)+' '+pandas_obs_log['RAm'].astype(str)+' '+ \\\n",
    "    pandas_obs_log['RAs'].astype(str)+' '+pandas_obs_log['DECd'].astype(str)+' '+pandas_obs_log['DECm'].astype(str)\\\n",
    "    +' '+pandas_obs_log['DECs'].astype(str)\n",
    "                                                      \n",
    "pandas_obs_log['coord_astropy'] = pandas_obs_log['coord_string'].apply(lambda x: SkyCoord(x, unit=(u.hourangle, u.deg)))\n",
    "pandas_obs_log['coord_ra_deg'] = pandas_obs_log['coord_astropy'].apply(lambda x: x.ra.deg)\n",
    "pandas_obs_log['coord_dec_deg'] = pandas_obs_log['coord_astropy'].apply(lambda x: x.dec.deg)"
   ]
  },
  {
   "cell_type": "code",
   "execution_count": 16,
   "id": "1e710dbb",
   "metadata": {},
   "outputs": [
    {
     "data": {
      "text/html": [
       "<div>\n",
       "<style scoped>\n",
       "    .dataframe tbody tr th:only-of-type {\n",
       "        vertical-align: middle;\n",
       "    }\n",
       "\n",
       "    .dataframe tbody tr th {\n",
       "        vertical-align: top;\n",
       "    }\n",
       "\n",
       "    .dataframe thead th {\n",
       "        text-align: right;\n",
       "    }\n",
       "</style>\n",
       "<table border=\"1\" class=\"dataframe\">\n",
       "  <thead>\n",
       "    <tr style=\"text-align: right;\">\n",
       "      <th></th>\n",
       "      <th>coord_ra_deg</th>\n",
       "      <th>coord_dec_deg</th>\n",
       "    </tr>\n",
       "    <tr>\n",
       "      <th>FieldID</th>\n",
       "      <th></th>\n",
       "      <th></th>\n",
       "    </tr>\n",
       "  </thead>\n",
       "  <tbody>\n",
       "    <tr>\n",
       "      <th>m001</th>\n",
       "      <td>24.564181</td>\n",
       "      <td>27.638144</td>\n",
       "    </tr>\n",
       "    <tr>\n",
       "      <th>m002</th>\n",
       "      <td>23.464174</td>\n",
       "      <td>27.658144</td>\n",
       "    </tr>\n",
       "    <tr>\n",
       "      <th>m003</th>\n",
       "      <td>22.364174</td>\n",
       "      <td>27.938134</td>\n",
       "    </tr>\n",
       "    <tr>\n",
       "      <th>m004</th>\n",
       "      <td>24.564194</td>\n",
       "      <td>28.638148</td>\n",
       "    </tr>\n",
       "    <tr>\n",
       "      <th>m005</th>\n",
       "      <td>23.464194</td>\n",
       "      <td>28.658153</td>\n",
       "    </tr>\n",
       "    <tr>\n",
       "      <th>...</th>\n",
       "      <td>...</td>\n",
       "      <td>...</td>\n",
       "    </tr>\n",
       "    <tr>\n",
       "      <th>m402</th>\n",
       "      <td>8.127160</td>\n",
       "      <td>49.137894</td>\n",
       "    </tr>\n",
       "    <tr>\n",
       "      <th>m403</th>\n",
       "      <td>9.522208</td>\n",
       "      <td>49.736528</td>\n",
       "    </tr>\n",
       "    <tr>\n",
       "      <th>m404</th>\n",
       "      <td>5.188090</td>\n",
       "      <td>50.085593</td>\n",
       "    </tr>\n",
       "    <tr>\n",
       "      <th>m405</th>\n",
       "      <td>6.638097</td>\n",
       "      <td>50.125597</td>\n",
       "    </tr>\n",
       "    <tr>\n",
       "      <th>m406</th>\n",
       "      <td>8.127229</td>\n",
       "      <td>50.137894</td>\n",
       "    </tr>\n",
       "  </tbody>\n",
       "</table>\n",
       "<p>406 rows × 2 columns</p>\n",
       "</div>"
      ],
      "text/plain": [
       "         coord_ra_deg  coord_dec_deg\n",
       "FieldID                             \n",
       "m001        24.564181      27.638144\n",
       "m002        23.464174      27.658144\n",
       "m003        22.364174      27.938134\n",
       "m004        24.564194      28.638148\n",
       "m005        23.464194      28.658153\n",
       "...               ...            ...\n",
       "m402         8.127160      49.137894\n",
       "m403         9.522208      49.736528\n",
       "m404         5.188090      50.085593\n",
       "m405         6.638097      50.125597\n",
       "m406         8.127229      50.137894\n",
       "\n",
       "[406 rows x 2 columns]"
      ]
     },
     "execution_count": 16,
     "metadata": {},
     "output_type": "execute_result"
    }
   ],
   "source": [
    "# group by field_id, the main way to identify a pointing,\n",
    "# to then average the ra/dec form the various offset pointings\n",
    "pandas_field_centres = pandas_obs_log.groupby('FieldID')[['coord_ra_deg','coord_dec_deg']].mean()\n",
    "\n",
    "pandas_field_centres"
   ]
  },
  {
   "cell_type": "code",
   "execution_count": 17,
   "id": "1f347386",
   "metadata": {},
   "outputs": [],
   "source": [
    "# save pandas field centres\n",
    "pandas_field_centres.to_csv('pandas_field_centres.csv')"
   ]
  },
  {
   "cell_type": "code",
   "execution_count": 6,
   "id": "f9c957bc",
   "metadata": {},
   "outputs": [
    {
     "data": {
      "text/plain": [
       "<Axes: xlabel='coord_ra_deg', ylabel='coord_dec_deg'>"
      ]
     },
     "execution_count": 6,
     "metadata": {},
     "output_type": "execute_result"
    },
    {
     "data": {
      "image/png": "[encoded data removed]",
      "text/plain": [
       "<Figure size 432x288 with 1 Axes>"
      ]
     },
     "metadata": {
      "needs_background": "light"
     },
     "output_type": "display_data"
    }
   ],
   "source": [
    "pandas_field_centres.plot.scatter(x='coord_ra_deg',y='coord_dec_deg',xlim=(50,0))\n"
   ]
  },
  {
   "cell_type": "code",
   "execution_count": 7,
   "id": "22b0173d",
   "metadata": {},
   "outputs": [
    {
     "data": {
      "text/plain": [
       "<Axes: xlabel='coord_ra_deg', ylabel='coord_dec_deg'>"
      ]
     },
     "execution_count": 7,
     "metadata": {},
     "output_type": "execute_result"
    },
    {
     "data": {
      "image/png": "[encoded data removed]",
      "text/plain": [
       "<Figure size 432x288 with 1 Axes>"
      ]
     },
     "metadata": {
      "needs_background": "light"
     },
     "output_type": "display_data"
    }
   ],
   "source": [
    "pandas_field_centres.plot.scatter(x='coord_ra_deg',y='coord_dec_deg',xlim=(360,310))\n"
   ]
  },
  {
   "cell_type": "code",
   "execution_count": 1,
   "id": "3adaf42c",
   "metadata": {},
   "outputs": [
    {
     "ename": "NameError",
     "evalue": "name 'master_catalog_df' is not defined",
     "output_type": "error",
     "traceback": [
      "\u001b[0;31m---------------------------------------------------------------------------\u001b[0m",
      "\u001b[0;31mNameError\u001b[0m                                 Traceback (most recent call last)",
      "Cell \u001b[0;32mIn[1], line 5\u001b[0m\n\u001b[1;32m      2\u001b[0m \u001b[38;5;28;01mimport\u001b[39;00m \u001b[38;5;21;01mastropy\u001b[39;00m\u001b[38;5;21;01m.\u001b[39;00m\u001b[38;5;21;01munits\u001b[39;00m \u001b[38;5;28;01mas\u001b[39;00m \u001b[38;5;21;01mu\u001b[39;00m\n\u001b[1;32m      4\u001b[0m \u001b[38;5;66;03m# Create SkyCoord objects for the master catalog and the pandas field centers\u001b[39;00m\n\u001b[0;32m----> 5\u001b[0m object_coords \u001b[38;5;241m=\u001b[39m SkyCoord(ra\u001b[38;5;241m=\u001b[39m\u001b[43mmaster_catalog_df\u001b[49m[\u001b[38;5;124m'\u001b[39m\u001b[38;5;124mRADEG\u001b[39m\u001b[38;5;124m'\u001b[39m]\u001b[38;5;241m.\u001b[39mvalues \u001b[38;5;241m*\u001b[39m u\u001b[38;5;241m.\u001b[39mdeg,\n\u001b[1;32m      6\u001b[0m                          dec\u001b[38;5;241m=\u001b[39mmaster_catalog_df[\u001b[38;5;124m'\u001b[39m\u001b[38;5;124mDECDEG\u001b[39m\u001b[38;5;124m'\u001b[39m]\u001b[38;5;241m.\u001b[39mvalues \u001b[38;5;241m*\u001b[39m u\u001b[38;5;241m.\u001b[39mdeg,\n\u001b[1;32m      7\u001b[0m                          frame\u001b[38;5;241m=\u001b[39m\u001b[38;5;124m'\u001b[39m\u001b[38;5;124mfk5\u001b[39m\u001b[38;5;124m'\u001b[39m)\n",
      "\u001b[0;31mNameError\u001b[0m: name 'master_catalog_df' is not defined"
     ]
    }
   ],
   "source": [
    "from astropy.coordinates import SkyCoord\n",
    "import astropy.units as u\n",
    "\n",
    "# Create SkyCoord objects for the master catalog and the pandas field centers\n",
    "object_coords = SkyCoord(ra=master_catalog_df['RADEG'].values * u.deg,\n",
    "                         dec=master_catalog_df['DECDEG'].values * u.deg,\n",
    "                         frame='fk5')"
   ]
  },
  {
   "cell_type": "code",
   "execution_count": 9,
   "id": "1ad16a1a",
   "metadata": {},
   "outputs": [],
   "source": [
    "field_coords = SkyCoord(ra=pandas_field_centres['coord_ra_deg'].values * u.deg,\n",
    "                        dec=pandas_field_centres['coord_dec_deg'].values * u.deg,\n",
    "                        frame='fk5')"
   ]
  },
  {
   "cell_type": "code",
   "execution_count": 10,
   "id": "6a18c3be",
   "metadata": {},
   "outputs": [],
   "source": [
    "# Use match_to_catalog_sky to find the closest field center for each object\n",
    "idx, d2d, _ = object_coords.match_to_catalog_sky(field_coords)"
   ]
  },
  {
   "cell_type": "code",
   "execution_count": 11,
   "id": "2efbbd2c",
   "metadata": {},
   "outputs": [],
   "source": [
    "# Collect the results\n",
    "object_id = master_catalog_df['ID'].values\n",
    "best_fit_pointing = pandas_field_centres.index.values[idx]  \n",
    "min_dist = d2d.deg  # Minimum distances in degrees"
   ]
  },
  {
   "cell_type": "markdown",
   "id": "fb916645",
   "metadata": {},
   "source": [
    "Note that some object are not in any fields, and will have minimum distances greater than about 0.7 degs. Recall each field about 1x1 deg, so onject can be up to the to diagonal distance fom the centre - sqrt(0.5^2 + 0.5^2) ~0.7 "
   ]
  },
  {
   "cell_type": "code",
   "execution_count": 12,
   "id": "2fc70dec",
   "metadata": {},
   "outputs": [],
   "source": [
    "result_df = pd.DataFrame({\n",
    "    'Object ID': object_id,\n",
    "    'Nearest field': best_fit_pointing,\n",
    "    'Distance to nearest field': min_dist\n",
    "})\n",
    "result_df.to_csv('result_new.csv')"
   ]
  },
  {
   "cell_type": "code",
   "execution_count": 13,
   "id": "248dd8ee",
   "metadata": {},
   "outputs": [
    {
     "data": {
      "text/html": [
       "<div>\n",
       "<style scoped>\n",
       "    .dataframe tbody tr th:only-of-type {\n",
       "        vertical-align: middle;\n",
       "    }\n",
       "\n",
       "    .dataframe tbody tr th {\n",
       "        vertical-align: top;\n",
       "    }\n",
       "\n",
       "    .dataframe thead th {\n",
       "        text-align: right;\n",
       "    }\n",
       "</style>\n",
       "<table border=\"1\" class=\"dataframe\">\n",
       "  <thead>\n",
       "    <tr style=\"text-align: right;\">\n",
       "      <th></th>\n",
       "      <th>Object ID</th>\n",
       "      <th>Nearest field</th>\n",
       "      <th>Distance to nearest field</th>\n",
       "    </tr>\n",
       "  </thead>\n",
       "  <tbody>\n",
       "    <tr>\n",
       "      <th>0</th>\n",
       "      <td>C1</td>\n",
       "      <td>m095</td>\n",
       "      <td>2.539979</td>\n",
       "    </tr>\n",
       "    <tr>\n",
       "      <th>1</th>\n",
       "      <td>2M034</td>\n",
       "      <td>m404</td>\n",
       "      <td>3.322483</td>\n",
       "    </tr>\n",
       "    <tr>\n",
       "      <th>2</th>\n",
       "      <td>PAndAS-03</td>\n",
       "      <td>m243</td>\n",
       "      <td>0.023986</td>\n",
       "    </tr>\n",
       "    <tr>\n",
       "      <th>3</th>\n",
       "      <td>PAndAS-04</td>\n",
       "      <td>m368</td>\n",
       "      <td>0.467914</td>\n",
       "    </tr>\n",
       "    <tr>\n",
       "      <th>4</th>\n",
       "      <td>PAndAS-05</td>\n",
       "      <td>m310</td>\n",
       "      <td>0.127090</td>\n",
       "    </tr>\n",
       "    <tr>\n",
       "      <th>...</th>\n",
       "      <td>...</td>\n",
       "      <td>...</td>\n",
       "      <td>...</td>\n",
       "    </tr>\n",
       "    <tr>\n",
       "      <th>2266</th>\n",
       "      <td>C74</td>\n",
       "      <td>m323</td>\n",
       "      <td>0.881098</td>\n",
       "    </tr>\n",
       "    <tr>\n",
       "      <th>2267</th>\n",
       "      <td>C75</td>\n",
       "      <td>m215</td>\n",
       "      <td>0.585970</td>\n",
       "    </tr>\n",
       "    <tr>\n",
       "      <th>2268</th>\n",
       "      <td>SDSS18</td>\n",
       "      <td>m238</td>\n",
       "      <td>0.189372</td>\n",
       "    </tr>\n",
       "    <tr>\n",
       "      <th>2269</th>\n",
       "      <td>PAndAS-01</td>\n",
       "      <td>m305</td>\n",
       "      <td>0.309150</td>\n",
       "    </tr>\n",
       "    <tr>\n",
       "      <th>2270</th>\n",
       "      <td>PAndAS-02</td>\n",
       "      <td>m263</td>\n",
       "      <td>0.098432</td>\n",
       "    </tr>\n",
       "  </tbody>\n",
       "</table>\n",
       "<p>2271 rows × 3 columns</p>\n",
       "</div>"
      ],
      "text/plain": [
       "      Object ID Nearest field  Distance to nearest field\n",
       "0            C1          m095                   2.539979\n",
       "1         2M034          m404                   3.322483\n",
       "2     PAndAS-03          m243                   0.023986\n",
       "3     PAndAS-04          m368                   0.467914\n",
       "4     PAndAS-05          m310                   0.127090\n",
       "...         ...           ...                        ...\n",
       "2266        C74          m323                   0.881098\n",
       "2267        C75          m215                   0.585970\n",
       "2268     SDSS18          m238                   0.189372\n",
       "2269  PAndAS-01          m305                   0.309150\n",
       "2270  PAndAS-02          m263                   0.098432\n",
       "\n",
       "[2271 rows x 3 columns]"
      ]
     },
     "execution_count": 13,
     "metadata": {},
     "output_type": "execute_result"
    }
   ],
   "source": [
    "result_df"
   ]
  },
  {
   "cell_type": "markdown",
   "id": "f9889297",
   "metadata": {},
   "source": [
    "Gets nearest fields for a specific class of objects"
   ]
  },
  {
   "cell_type": "code",
   "execution_count": 36,
   "id": "130e9b1e",
   "metadata": {},
   "outputs": [
    {
     "data": {
      "text/html": [
       "<div>\n",
       "<style scoped>\n",
       "    .dataframe tbody tr th:only-of-type {\n",
       "        vertical-align: middle;\n",
       "    }\n",
       "\n",
       "    .dataframe tbody tr th {\n",
       "        vertical-align: top;\n",
       "    }\n",
       "\n",
       "    .dataframe thead th {\n",
       "        text-align: right;\n",
       "    }\n",
       "</style>\n",
       "<table border=\"1\" class=\"dataframe\">\n",
       "  <thead>\n",
       "    <tr style=\"text-align: right;\">\n",
       "      <th></th>\n",
       "      <th>ID</th>\n",
       "      <th>RADEG</th>\n",
       "      <th>DECDEG</th>\n",
       "      <th>CLASS</th>\n",
       "      <th>DATATABLE</th>\n",
       "    </tr>\n",
       "  </thead>\n",
       "  <tbody>\n",
       "    <tr>\n",
       "      <th>1</th>\n",
       "      <td>2M034</td>\n",
       "      <td>0.508375</td>\n",
       "      <td>51.606722</td>\n",
       "      <td>4</td>\n",
       "      <td>m31rbcV5</td>\n",
       "    </tr>\n",
       "    <tr>\n",
       "      <th>5</th>\n",
       "      <td>2M035</td>\n",
       "      <td>1.549625</td>\n",
       "      <td>41.503722</td>\n",
       "      <td>4</td>\n",
       "      <td>m31rbcV5</td>\n",
       "    </tr>\n",
       "    <tr>\n",
       "      <th>7</th>\n",
       "      <td>C2</td>\n",
       "      <td>2.079167</td>\n",
       "      <td>34.468611</td>\n",
       "      <td>4</td>\n",
       "      <td>di_tullio_zinn_13_table2</td>\n",
       "    </tr>\n",
       "    <tr>\n",
       "      <th>8</th>\n",
       "      <td>C3</td>\n",
       "      <td>2.143750</td>\n",
       "      <td>34.627222</td>\n",
       "      <td>4</td>\n",
       "      <td>di_tullio_zinn_13_table2</td>\n",
       "    </tr>\n",
       "    <tr>\n",
       "      <th>18</th>\n",
       "      <td>2M031</td>\n",
       "      <td>4.089208</td>\n",
       "      <td>34.200056</td>\n",
       "      <td>4</td>\n",
       "      <td>m31rbcV5</td>\n",
       "    </tr>\n",
       "  </tbody>\n",
       "</table>\n",
       "</div>"
      ],
      "text/plain": [
       "       ID     RADEG     DECDEG  CLASS                 DATATABLE\n",
       "1   2M034  0.508375  51.606722      4                  m31rbcV5\n",
       "5   2M035  1.549625  41.503722      4                  m31rbcV5\n",
       "7      C2  2.079167  34.468611      4  di_tullio_zinn_13_table2\n",
       "8      C3  2.143750  34.627222      4  di_tullio_zinn_13_table2\n",
       "18  2M031  4.089208  34.200056      4                  m31rbcV5"
      ]
     },
     "execution_count": 36,
     "metadata": {},
     "output_type": "execute_result"
    }
   ],
   "source": [
    "# Using master catalog:\n",
    "    # Filter for specific class (1 (GCs),8 extended GC),4 (galaxy))\n",
    "    # Make sure to store rad and dec\n",
    "filtered_catalog_df = master_catalog_df[master_catalog_df['CLASS'] == 4]\n",
    "filtered_catalog_df.head()"
   ]
  },
  {
   "cell_type": "code",
   "execution_count": 37,
   "id": "3ee13b60",
   "metadata": {},
   "outputs": [],
   "source": [
    "from astropy.coordinates import SkyCoord\n",
    "import astropy.units as u\n",
    "\n",
    "# Create SkyCoord objects for the master catalog and the pandas field centers\n",
    "object_coords = SkyCoord(ra=filtered_catalog_df['RADEG'].values * u.deg,\n",
    "                         dec=filtered_catalog_df['DECDEG'].values * u.deg,\n",
    "                         frame='fk5')"
   ]
  },
  {
   "cell_type": "code",
   "execution_count": 38,
   "id": "0b48c562",
   "metadata": {},
   "outputs": [],
   "source": [
    "field_coords = SkyCoord(ra=pandas_field_centres['coord_ra_deg'].values * u.deg,\n",
    "                        dec=pandas_field_centres['coord_dec_deg'].values * u.deg,\n",
    "                        frame='fk5')"
   ]
  },
  {
   "cell_type": "code",
   "execution_count": 39,
   "id": "62173413",
   "metadata": {},
   "outputs": [],
   "source": [
    "# Use match_to_catalog_sky to find the closest field center for each object\n",
    "idx, d2d, _ = object_coords.match_to_catalog_sky(field_coords)"
   ]
  },
  {
   "cell_type": "code",
   "execution_count": 40,
   "id": "57dda4df",
   "metadata": {},
   "outputs": [],
   "source": [
    "# Collect the results\n",
    "object_id = filtered_catalog_df['ID'].values\n",
    "raddeg = filtered_catalog_df['RADEG'].values\n",
    "decdeg = filtered_catalog_df['DECDEG'].values\n",
    "best_fit_pointing = pandas_field_centres.index.values[idx]  \n",
    "min_dist = d2d.deg  # Minimum distances in degrees"
   ]
  },
  {
   "cell_type": "code",
   "execution_count": 41,
   "id": "8d008399",
   "metadata": {},
   "outputs": [],
   "source": [
    "result_df = pd.DataFrame({\n",
    "    'Object ID': object_id,\n",
    "    'RADEG': raddeg,\n",
    "    'DECDEG': decdeg,\n",
    "    'Nearest field': best_fit_pointing,\n",
    "    'Distance to nearest field': min_dist\n",
    "})\n",
    "result_df.to_csv('result_G.csv')"
   ]
  },
  {
   "cell_type": "markdown",
   "id": "0557c01b",
   "metadata": {},
   "source": [
    "Find all the fields for a different csv"
   ]
  },
  {
   "cell_type": "code",
   "execution_count": 2,
   "id": "9531d54d",
   "metadata": {},
   "outputs": [],
   "source": [
    "import pandas as pd\n",
    "import numpy as np\n",
    "\n",
    "# Load the data\n",
    "yilun_data = pd.read_csv('rootness_initial_sample.csv')\n",
    "field_centres = pd.read_csv('pandas_field_centres.csv')\n",
    "\n",
    "# Function to calculate the Haversine distance between two points\n",
    "def haversine(lon1, lat1, lon2, lat2):\n",
    "    # Convert decimal degrees to radians\n",
    "    lon1, lat1, lon2, lat2 = map(np.radians, [lon1, lat1, lon2, lat2])\n",
    "    \n",
    "    # Haversine formula\n",
    "    dlon = lon2 - lon1\n",
    "    dlat = lat2 - lat1\n",
    "    a = np.sin(dlat/2)**2 + np.cos(lat1) * np.cos(lat2) * np.sin(dlon/2)**2\n",
    "    c = 2 * np.arcsin(np.sqrt(a))\n",
    "    \n",
    "    # Radius of earth in kilometers is 6371\n",
    "    km = 6371 * c\n",
    "    return km\n",
    "\n",
    "# Prepare the result dataframe\n",
    "result = []\n",
    "\n",
    "# Iterate over each row in the Yilun data\n",
    "for index, yilun_row in yilun_data.iterrows():\n",
    "    min_distance = float('inf')\n",
    "    nearest_field = None\n",
    "    \n",
    "    # Iterate over each row in the field centres data\n",
    "    for _, field_row in field_centres.iterrows():\n",
    "        dist = haversine(yilun_row['RAJ2000'], yilun_row['DEJ2000'], field_row['coord_ra_deg'], field_row['coord_dec_deg'])\n",
    "        if dist < min_distance:\n",
    "            min_distance = dist\n",
    "            nearest_field = field_row['FieldID']\n",
    "    \n",
    "    # Append the result\n",
    "    result.append({\n",
    "        'RADEG': yilun_row['RAJ2000'],\n",
    "        'DECDEG': yilun_row['DEJ2000'],\n",
    "        'Nearest field': nearest_field,\n",
    "        'Distance to nearest field': min_distance\n",
    "    })\n",
    "\n",
    "# Convert the result list to a DataFrame\n",
    "result_df = pd.DataFrame(result)\n",
    "\n",
    "# Save the result to a new CSV file\n",
    "result_df.to_csv('rootness_closest_fields.csv', index=False)"
   ]
  },
  {
   "cell_type": "markdown",
   "id": "f4cb1613",
   "metadata": {},
   "source": [
    "Check if any are outside of the bounds of the fields"
   ]
  },
  {
   "cell_type": "code",
   "execution_count": null,
   "id": "10aae162",
   "metadata": {},
   "outputs": [],
   "source": []
  },
  {
   "cell_type": "markdown",
   "id": "d64049ea",
   "metadata": {},
   "source": [
    "Find all the unique fields that these objects are found in"
   ]
  },
  {
   "cell_type": "code",
   "execution_count": 2,
   "id": "09357c16",
   "metadata": {},
   "outputs": [
    {
     "name": "stdout",
     "output_type": "stream",
     "text": [
      "['m005' 'm011' 'm014' 'm020' 'm022' 'm024' 'm025' 'm033' 'm035' 'm037'\n",
      " 'm043' 'm052' 'm058' 'm062' 'm070' 'm080' 'm082' 'm084' 'm085' 'm091'\n",
      " 'm092' 'm094' 'm095' 'm097' 'm102' 'm111' 'm124' 'm125' 'm126' 'm138'\n",
      " 'm142' 'm146' 'm148' 'm153' 'm161' 'm162' 'm165' 'm167' 'm168' 'm169'\n",
      " 'm173' 'm180' 'm183' 'm184' 'm185' 'm186' 'm187' 'm188' 'm189' 'm196'\n",
      " 'm204' 'm205' 'm206' 'm207' 'm208' 'm209' 'm210' 'm211' 'm212' 'm214'\n",
      " 'm223' 'm224' 'm225' 'm227' 'm228' 'm229' 'm231' 'm232' 'm233' 'm234'\n",
      " 'm235' 'm238' 'm240' 'm243' 'm248' 'm249' 'm253' 'm254' 'm255' 'm256'\n",
      " 'm257' 'm261' 'm263' 'm265' 'm266' 'm267' 'm268' 'm269' 'm274' 'm275'\n",
      " 'm276' 'm277' 'm278' 'm279' 'm280' 'm282' 'm285' 'm286' 'm293' 'm294'\n",
      " 'm296' 'm297' 'm301' 'm303' 'm304' 'm305' 'm306' 'm307' 'm310' 'm316'\n",
      " 'm317' 'm319' 'm321' 'm323' 'm327' 'm328' 'm333' 'm334' 'm335' 'm338'\n",
      " 'm340' 'm341' 'm342' 'm348' 'm351' 'm362' 'm368' 'm375' 'm379' 'm390'\n",
      " 'm391' 'm392' 'm395' 'm398' 'm402' 'm404']\n",
      "136\n",
      "Chunk 1: ['m005' 'm011' 'm014' 'm020' 'm022' 'm024' 'm025' 'm033' 'm035' 'm037'\n",
      " 'm043' 'm052' 'm058' 'm062' 'm070' 'm080' 'm082' 'm084' 'm085' 'm091'\n",
      " 'm092' 'm094' 'm095' 'm097' 'm102']\n",
      "Chunk 2: ['m111' 'm124' 'm125' 'm126' 'm138' 'm142' 'm146' 'm148' 'm153' 'm161'\n",
      " 'm162' 'm165' 'm167' 'm168' 'm169' 'm173' 'm180' 'm183' 'm184' 'm185'\n",
      " 'm186' 'm187' 'm188' 'm189' 'm196']\n",
      "Chunk 3: ['m204' 'm205' 'm206' 'm207' 'm208' 'm209' 'm210' 'm211' 'm212' 'm214'\n",
      " 'm223' 'm224' 'm225' 'm227' 'm228' 'm229' 'm231' 'm232' 'm233' 'm234'\n",
      " 'm235' 'm238' 'm240' 'm243' 'm248']\n",
      "Chunk 4: ['m249' 'm253' 'm254' 'm255' 'm256' 'm257' 'm261' 'm263' 'm265' 'm266'\n",
      " 'm267' 'm268' 'm269' 'm274' 'm275' 'm276' 'm277' 'm278' 'm279' 'm280'\n",
      " 'm282' 'm285' 'm286' 'm293' 'm294']\n",
      "Chunk 5: ['m296' 'm297' 'm301' 'm303' 'm304' 'm305' 'm306' 'm307' 'm310' 'm316'\n",
      " 'm317' 'm319' 'm321' 'm323' 'm327' 'm328' 'm333' 'm334' 'm335' 'm338'\n",
      " 'm340' 'm341' 'm342' 'm348' 'm351']\n",
      "Chunk 6: ['m362' 'm368' 'm375' 'm379' 'm390' 'm391' 'm392' 'm395' 'm398' 'm402'\n",
      " 'm404']\n"
     ]
    }
   ],
   "source": [
    "import pandas as pd\n",
    "import numpy as np\n",
    "\n",
    "# Load the three csv files\n",
    "df1 = pd.read_csv('result_GC.csv')\n",
    "df2 = pd.read_csv('result_G.csv')\n",
    "df3 = pd.read_csv('result_EGC.csv')\n",
    "\n",
    "# Get unique values\n",
    "unique_field_ids1 = df1['Nearest field'].unique()\n",
    "unique_field_ids2 = df2['Nearest field'].unique()\n",
    "unique_field_ids3 = df3['Nearest field'].unique()\n",
    "\n",
    "# Concatenate the unique values\n",
    "unique_field_ids = np.concatenate((unique_field_ids1, unique_field_ids2, unique_field_ids3))\n",
    "\n",
    "# Get unique values\n",
    "unique_field_ids = np.unique(unique_field_ids)\n",
    "\n",
    "# Order the unique values\n",
    "unique_field_ids.sort()\n",
    "\n",
    "# Output\n",
    "print(unique_field_ids)\n",
    "print(len(unique_field_ids))\n",
    "\n",
    "# Print unique field IDs in chunks of 25\n",
    "chunk_size = 5\n",
    "for i in range(0, len(unique_field_ids), chunk_size):\n",
    "    chunk = unique_field_ids[i:i + chunk_size]\n",
    "    print(f\"Chunk {i // chunk_size + 1}: {chunk}\")"
   ]
  },
  {
   "cell_type": "markdown",
   "id": "2ae479e5",
   "metadata": {},
   "source": [
    "Get unique fields for just one csv"
   ]
  },
  {
   "cell_type": "code",
   "execution_count": 3,
   "id": "6d0dc03c",
   "metadata": {},
   "outputs": [
    {
     "name": "stdout",
     "output_type": "stream",
     "text": [
      "['m105' 'm121' 'm124' 'm138' 'm142' 'm143' 'm144' 'm166' 'm168' 'm187'\n",
      " 'm188' 'm202' 'm203' 'm205' 'm211' 'm212' 'm222' 'm223' 'm225' 'm228'\n",
      " 'm229' 'm233' 'm235' 'm245' 'm248' 'm249' 'm250' 'm253' 'm257' 'm265'\n",
      " 'm266' 'm268' 'm272' 'm274' 'm275' 'm276' 'm285' 'm287' 'm293' 'm294'\n",
      " 'm298' 'm316' 'm319' 'm327' 'm335' 'm337' 'm339' 'm340' 'm346' 'm347'\n",
      " 'm356' 'm358' 'm359' 'm364' 'm375' 'm377' 'm382']\n",
      "57\n",
      "Chunk 1: ['m105' 'm121' 'm124' 'm138' 'm142' 'm143' 'm144' 'm166' 'm168' 'm187'\n",
      " 'm188' 'm202' 'm203' 'm205' 'm211' 'm212' 'm222' 'm223' 'm225' 'm228'\n",
      " 'm229' 'm233' 'm235' 'm245' 'm248' 'm249' 'm250' 'm253' 'm257' 'm265'\n",
      " 'm266' 'm268' 'm272' 'm274' 'm275']\n",
      "Chunk 2: ['m276' 'm285' 'm287' 'm293' 'm294' 'm298' 'm316' 'm319' 'm327' 'm335'\n",
      " 'm337' 'm339' 'm340' 'm346' 'm347' 'm356' 'm358' 'm359' 'm364' 'm375'\n",
      " 'm377' 'm382']\n"
     ]
    }
   ],
   "source": [
    "import pandas as pd\n",
    "import numpy as np\n",
    "\n",
    "# Load the CSV file\n",
    "df = pd.read_csv('rootness_closest_fields.csv')\n",
    "\n",
    "# Get unique values\n",
    "unique_field_ids = df['Nearest field'].unique()\n",
    "\n",
    "# Order the unique values\n",
    "unique_field_ids.sort()\n",
    "\n",
    "# Output\n",
    "print(unique_field_ids)\n",
    "print(len(unique_field_ids))\n",
    "\n",
    "# Print unique field IDs in chunks of 25\n",
    "chunk_size = 35\n",
    "for i in range(0, len(unique_field_ids), chunk_size):\n",
    "    chunk = unique_field_ids[i:i + chunk_size]\n",
    "    print(f\"Chunk {i // chunk_size + 1}: {chunk}\")"
   ]
  },
  {
   "cell_type": "markdown",
   "id": "98c65edb",
   "metadata": {},
   "source": [
    "Convert a fit file into its ccds"
   ]
  },
  {
   "cell_type": "code",
   "execution_count": 1,
   "id": "c2d1c49e",
   "metadata": {},
   "outputs": [
    {
     "name": "stdout",
     "output_type": "stream",
     "text": [
      "Processing file: C:/Users/Squid/Downloads/Fits\\m381_g.fit\n",
      "Created: ../data/ccd\\m381_g_ccd_1.fit\n",
      "Created: ../data/ccd\\m381_g_ccd_2.fit\n",
      "Created: ../data/ccd\\m381_g_ccd_3.fit\n",
      "Created: ../data/ccd\\m381_g_ccd_4.fit\n",
      "Created: ../data/ccd\\m381_g_ccd_5.fit\n",
      "Created: ../data/ccd\\m381_g_ccd_6.fit\n",
      "Created: ../data/ccd\\m381_g_ccd_7.fit\n",
      "Created: ../data/ccd\\m381_g_ccd_8.fit\n",
      "Created: ../data/ccd\\m381_g_ccd_9.fit\n",
      "Created: ../data/ccd\\m381_g_ccd_10.fit\n",
      "Created: ../data/ccd\\m381_g_ccd_11.fit\n",
      "Created: ../data/ccd\\m381_g_ccd_12.fit\n",
      "Created: ../data/ccd\\m381_g_ccd_13.fit\n",
      "Created: ../data/ccd\\m381_g_ccd_14.fit\n",
      "Created: ../data/ccd\\m381_g_ccd_15.fit\n",
      "Created: ../data/ccd\\m381_g_ccd_16.fit\n",
      "Created: ../data/ccd\\m381_g_ccd_17.fit\n",
      "Created: ../data/ccd\\m381_g_ccd_18.fit\n",
      "Created: ../data/ccd\\m381_g_ccd_19.fit\n",
      "Created: ../data/ccd\\m381_g_ccd_20.fit\n",
      "Created: ../data/ccd\\m381_g_ccd_21.fit\n",
      "Created: ../data/ccd\\m381_g_ccd_22.fit\n",
      "Created: ../data/ccd\\m381_g_ccd_23.fit\n",
      "Created: ../data/ccd\\m381_g_ccd_24.fit\n",
      "Created: ../data/ccd\\m381_g_ccd_25.fit\n",
      "Created: ../data/ccd\\m381_g_ccd_26.fit\n",
      "Created: ../data/ccd\\m381_g_ccd_27.fit\n",
      "Created: ../data/ccd\\m381_g_ccd_28.fit\n",
      "Created: ../data/ccd\\m381_g_ccd_29.fit\n",
      "Created: ../data/ccd\\m381_g_ccd_30.fit\n",
      "Created: ../data/ccd\\m381_g_ccd_31.fit\n",
      "Created: ../data/ccd\\m381_g_ccd_32.fit\n",
      "Created: ../data/ccd\\m381_g_ccd_33.fit\n",
      "Created: ../data/ccd\\m381_g_ccd_34.fit\n",
      "Created: ../data/ccd\\m381_g_ccd_35.fit\n",
      "Created: ../data/ccd\\m381_g_ccd_36.fit\n",
      "Processing file: C:/Users/Squid/Downloads/Fits\\m382_g.fit\n",
      "Created: ../data/ccd\\m382_g_ccd_1.fit\n",
      "Created: ../data/ccd\\m382_g_ccd_2.fit\n",
      "Created: ../data/ccd\\m382_g_ccd_3.fit\n",
      "Created: ../data/ccd\\m382_g_ccd_4.fit\n",
      "Created: ../data/ccd\\m382_g_ccd_5.fit\n",
      "Created: ../data/ccd\\m382_g_ccd_6.fit\n",
      "Created: ../data/ccd\\m382_g_ccd_7.fit\n",
      "Created: ../data/ccd\\m382_g_ccd_8.fit\n",
      "Created: ../data/ccd\\m382_g_ccd_9.fit\n",
      "Created: ../data/ccd\\m382_g_ccd_10.fit\n",
      "Created: ../data/ccd\\m382_g_ccd_11.fit\n",
      "Created: ../data/ccd\\m382_g_ccd_12.fit\n",
      "Created: ../data/ccd\\m382_g_ccd_13.fit\n",
      "Created: ../data/ccd\\m382_g_ccd_14.fit\n",
      "Created: ../data/ccd\\m382_g_ccd_15.fit\n",
      "Created: ../data/ccd\\m382_g_ccd_16.fit\n",
      "Created: ../data/ccd\\m382_g_ccd_17.fit\n",
      "Created: ../data/ccd\\m382_g_ccd_18.fit\n",
      "Created: ../data/ccd\\m382_g_ccd_19.fit\n",
      "Created: ../data/ccd\\m382_g_ccd_20.fit\n",
      "Created: ../data/ccd\\m382_g_ccd_21.fit\n",
      "Created: ../data/ccd\\m382_g_ccd_22.fit\n",
      "Created: ../data/ccd\\m382_g_ccd_23.fit\n",
      "Created: ../data/ccd\\m382_g_ccd_24.fit\n",
      "Created: ../data/ccd\\m382_g_ccd_25.fit\n",
      "Created: ../data/ccd\\m382_g_ccd_26.fit\n",
      "Created: ../data/ccd\\m382_g_ccd_27.fit\n",
      "Created: ../data/ccd\\m382_g_ccd_28.fit\n",
      "Created: ../data/ccd\\m382_g_ccd_29.fit\n",
      "Created: ../data/ccd\\m382_g_ccd_30.fit\n",
      "Created: ../data/ccd\\m382_g_ccd_31.fit\n",
      "Created: ../data/ccd\\m382_g_ccd_32.fit\n",
      "Created: ../data/ccd\\m382_g_ccd_33.fit\n",
      "Created: ../data/ccd\\m382_g_ccd_34.fit\n",
      "Created: ../data/ccd\\m382_g_ccd_35.fit\n",
      "Created: ../data/ccd\\m382_g_ccd_36.fit\n",
      "Processing file: C:/Users/Squid/Downloads/Fits\\m383_g.fit\n",
      "Created: ../data/ccd\\m383_g_ccd_1.fit\n",
      "Created: ../data/ccd\\m383_g_ccd_2.fit\n",
      "Created: ../data/ccd\\m383_g_ccd_3.fit\n",
      "Created: ../data/ccd\\m383_g_ccd_4.fit\n",
      "Created: ../data/ccd\\m383_g_ccd_5.fit\n",
      "Created: ../data/ccd\\m383_g_ccd_6.fit\n",
      "Created: ../data/ccd\\m383_g_ccd_7.fit\n",
      "Created: ../data/ccd\\m383_g_ccd_8.fit\n",
      "Created: ../data/ccd\\m383_g_ccd_9.fit\n",
      "Created: ../data/ccd\\m383_g_ccd_10.fit\n",
      "Created: ../data/ccd\\m383_g_ccd_11.fit\n",
      "Created: ../data/ccd\\m383_g_ccd_12.fit\n",
      "Created: ../data/ccd\\m383_g_ccd_13.fit\n",
      "Created: ../data/ccd\\m383_g_ccd_14.fit\n",
      "Created: ../data/ccd\\m383_g_ccd_15.fit\n",
      "Created: ../data/ccd\\m383_g_ccd_16.fit\n",
      "Created: ../data/ccd\\m383_g_ccd_17.fit\n",
      "Created: ../data/ccd\\m383_g_ccd_18.fit\n",
      "Created: ../data/ccd\\m383_g_ccd_19.fit\n",
      "Created: ../data/ccd\\m383_g_ccd_20.fit\n",
      "Created: ../data/ccd\\m383_g_ccd_21.fit\n",
      "Created: ../data/ccd\\m383_g_ccd_22.fit\n",
      "Created: ../data/ccd\\m383_g_ccd_23.fit\n",
      "Created: ../data/ccd\\m383_g_ccd_24.fit\n",
      "Created: ../data/ccd\\m383_g_ccd_25.fit\n",
      "Created: ../data/ccd\\m383_g_ccd_26.fit\n",
      "Created: ../data/ccd\\m383_g_ccd_27.fit\n",
      "Created: ../data/ccd\\m383_g_ccd_28.fit\n",
      "Created: ../data/ccd\\m383_g_ccd_29.fit\n",
      "Created: ../data/ccd\\m383_g_ccd_30.fit\n",
      "Created: ../data/ccd\\m383_g_ccd_31.fit\n",
      "Created: ../data/ccd\\m383_g_ccd_32.fit\n",
      "Created: ../data/ccd\\m383_g_ccd_33.fit\n",
      "Created: ../data/ccd\\m383_g_ccd_34.fit\n",
      "Created: ../data/ccd\\m383_g_ccd_35.fit\n",
      "Created: ../data/ccd\\m383_g_ccd_36.fit\n",
      "Processing file: C:/Users/Squid/Downloads/Fits\\m384_g.fit\n",
      "Created: ../data/ccd\\m384_g_ccd_1.fit\n",
      "Created: ../data/ccd\\m384_g_ccd_2.fit\n",
      "Created: ../data/ccd\\m384_g_ccd_3.fit\n",
      "Created: ../data/ccd\\m384_g_ccd_4.fit\n",
      "Created: ../data/ccd\\m384_g_ccd_5.fit\n",
      "Created: ../data/ccd\\m384_g_ccd_6.fit\n",
      "Created: ../data/ccd\\m384_g_ccd_7.fit\n",
      "Created: ../data/ccd\\m384_g_ccd_8.fit\n",
      "Created: ../data/ccd\\m384_g_ccd_9.fit\n",
      "Created: ../data/ccd\\m384_g_ccd_10.fit\n",
      "Created: ../data/ccd\\m384_g_ccd_11.fit\n",
      "Created: ../data/ccd\\m384_g_ccd_12.fit\n",
      "Created: ../data/ccd\\m384_g_ccd_13.fit\n",
      "Created: ../data/ccd\\m384_g_ccd_14.fit\n",
      "Created: ../data/ccd\\m384_g_ccd_15.fit\n",
      "Created: ../data/ccd\\m384_g_ccd_16.fit\n",
      "Created: ../data/ccd\\m384_g_ccd_17.fit\n",
      "Created: ../data/ccd\\m384_g_ccd_18.fit\n",
      "Created: ../data/ccd\\m384_g_ccd_19.fit\n",
      "Created: ../data/ccd\\m384_g_ccd_20.fit\n",
      "Created: ../data/ccd\\m384_g_ccd_21.fit\n",
      "Created: ../data/ccd\\m384_g_ccd_22.fit\n",
      "Created: ../data/ccd\\m384_g_ccd_23.fit\n",
      "Created: ../data/ccd\\m384_g_ccd_24.fit\n",
      "Created: ../data/ccd\\m384_g_ccd_25.fit\n",
      "Created: ../data/ccd\\m384_g_ccd_26.fit\n",
      "Created: ../data/ccd\\m384_g_ccd_27.fit\n",
      "Created: ../data/ccd\\m384_g_ccd_28.fit\n",
      "Created: ../data/ccd\\m384_g_ccd_29.fit\n",
      "Created: ../data/ccd\\m384_g_ccd_30.fit\n",
      "Created: ../data/ccd\\m384_g_ccd_31.fit\n",
      "Created: ../data/ccd\\m384_g_ccd_32.fit\n",
      "Created: ../data/ccd\\m384_g_ccd_33.fit\n",
      "Created: ../data/ccd\\m384_g_ccd_34.fit\n",
      "Created: ../data/ccd\\m384_g_ccd_35.fit\n",
      "Created: ../data/ccd\\m384_g_ccd_36.fit\n",
      "Processing file: C:/Users/Squid/Downloads/Fits\\m385_g.fit\n",
      "Created: ../data/ccd\\m385_g_ccd_1.fit\n",
      "Created: ../data/ccd\\m385_g_ccd_2.fit\n",
      "Created: ../data/ccd\\m385_g_ccd_3.fit\n",
      "Created: ../data/ccd\\m385_g_ccd_4.fit\n",
      "Created: ../data/ccd\\m385_g_ccd_5.fit\n",
      "Created: ../data/ccd\\m385_g_ccd_6.fit\n",
      "Created: ../data/ccd\\m385_g_ccd_7.fit\n",
      "Created: ../data/ccd\\m385_g_ccd_8.fit\n",
      "Created: ../data/ccd\\m385_g_ccd_9.fit\n",
      "Created: ../data/ccd\\m385_g_ccd_10.fit\n",
      "Created: ../data/ccd\\m385_g_ccd_11.fit\n",
      "Created: ../data/ccd\\m385_g_ccd_12.fit\n",
      "Created: ../data/ccd\\m385_g_ccd_13.fit\n",
      "Created: ../data/ccd\\m385_g_ccd_14.fit\n",
      "Created: ../data/ccd\\m385_g_ccd_15.fit\n",
      "Created: ../data/ccd\\m385_g_ccd_16.fit\n",
      "Created: ../data/ccd\\m385_g_ccd_17.fit\n",
      "Created: ../data/ccd\\m385_g_ccd_18.fit\n",
      "Created: ../data/ccd\\m385_g_ccd_19.fit\n",
      "Created: ../data/ccd\\m385_g_ccd_20.fit\n",
      "Created: ../data/ccd\\m385_g_ccd_21.fit\n",
      "Created: ../data/ccd\\m385_g_ccd_22.fit\n",
      "Created: ../data/ccd\\m385_g_ccd_23.fit\n",
      "Created: ../data/ccd\\m385_g_ccd_24.fit\n",
      "Created: ../data/ccd\\m385_g_ccd_25.fit\n",
      "Created: ../data/ccd\\m385_g_ccd_26.fit\n",
      "Created: ../data/ccd\\m385_g_ccd_27.fit\n",
      "Created: ../data/ccd\\m385_g_ccd_28.fit\n",
      "Created: ../data/ccd\\m385_g_ccd_29.fit\n",
      "Created: ../data/ccd\\m385_g_ccd_30.fit\n",
      "Created: ../data/ccd\\m385_g_ccd_31.fit\n",
      "Created: ../data/ccd\\m385_g_ccd_32.fit\n",
      "Created: ../data/ccd\\m385_g_ccd_33.fit\n",
      "Created: ../data/ccd\\m385_g_ccd_34.fit\n",
      "Created: ../data/ccd\\m385_g_ccd_35.fit\n",
      "Created: ../data/ccd\\m385_g_ccd_36.fit\n",
      "Processing file: C:/Users/Squid/Downloads/Fits\\m386_g.fit\n",
      "Created: ../data/ccd\\m386_g_ccd_1.fit\n",
      "Created: ../data/ccd\\m386_g_ccd_2.fit\n",
      "Created: ../data/ccd\\m386_g_ccd_3.fit\n",
      "Created: ../data/ccd\\m386_g_ccd_4.fit\n",
      "Created: ../data/ccd\\m386_g_ccd_5.fit\n",
      "Created: ../data/ccd\\m386_g_ccd_6.fit\n",
      "Created: ../data/ccd\\m386_g_ccd_7.fit\n",
      "Created: ../data/ccd\\m386_g_ccd_8.fit\n",
      "Created: ../data/ccd\\m386_g_ccd_9.fit\n",
      "Created: ../data/ccd\\m386_g_ccd_10.fit\n",
      "Created: ../data/ccd\\m386_g_ccd_11.fit\n",
      "Created: ../data/ccd\\m386_g_ccd_12.fit\n",
      "Created: ../data/ccd\\m386_g_ccd_13.fit\n",
      "Created: ../data/ccd\\m386_g_ccd_14.fit\n",
      "Created: ../data/ccd\\m386_g_ccd_15.fit\n",
      "Created: ../data/ccd\\m386_g_ccd_16.fit\n",
      "Created: ../data/ccd\\m386_g_ccd_17.fit\n",
      "Created: ../data/ccd\\m386_g_ccd_18.fit\n",
      "Created: ../data/ccd\\m386_g_ccd_19.fit\n",
      "Created: ../data/ccd\\m386_g_ccd_20.fit\n",
      "Created: ../data/ccd\\m386_g_ccd_21.fit\n",
      "Created: ../data/ccd\\m386_g_ccd_22.fit\n",
      "Created: ../data/ccd\\m386_g_ccd_23.fit\n",
      "Created: ../data/ccd\\m386_g_ccd_24.fit\n",
      "Created: ../data/ccd\\m386_g_ccd_25.fit\n",
      "Created: ../data/ccd\\m386_g_ccd_26.fit\n",
      "Created: ../data/ccd\\m386_g_ccd_27.fit\n",
      "Created: ../data/ccd\\m386_g_ccd_28.fit\n",
      "Created: ../data/ccd\\m386_g_ccd_29.fit\n",
      "Created: ../data/ccd\\m386_g_ccd_30.fit\n",
      "Created: ../data/ccd\\m386_g_ccd_31.fit\n",
      "Created: ../data/ccd\\m386_g_ccd_32.fit\n",
      "Created: ../data/ccd\\m386_g_ccd_33.fit\n",
      "Created: ../data/ccd\\m386_g_ccd_34.fit\n",
      "Created: ../data/ccd\\m386_g_ccd_35.fit\n",
      "Created: ../data/ccd\\m386_g_ccd_36.fit\n",
      "Processing file: C:/Users/Squid/Downloads/Fits\\m387_g.fit\n",
      "Created: ../data/ccd\\m387_g_ccd_1.fit\n",
      "Created: ../data/ccd\\m387_g_ccd_2.fit\n",
      "Created: ../data/ccd\\m387_g_ccd_3.fit\n",
      "Created: ../data/ccd\\m387_g_ccd_4.fit\n",
      "Created: ../data/ccd\\m387_g_ccd_5.fit\n",
      "Created: ../data/ccd\\m387_g_ccd_6.fit\n",
      "Created: ../data/ccd\\m387_g_ccd_7.fit\n",
      "Created: ../data/ccd\\m387_g_ccd_8.fit\n",
      "Created: ../data/ccd\\m387_g_ccd_9.fit\n",
      "Created: ../data/ccd\\m387_g_ccd_10.fit\n",
      "Created: ../data/ccd\\m387_g_ccd_11.fit\n",
      "Created: ../data/ccd\\m387_g_ccd_12.fit\n",
      "Created: ../data/ccd\\m387_g_ccd_13.fit\n",
      "Created: ../data/ccd\\m387_g_ccd_14.fit\n",
      "Created: ../data/ccd\\m387_g_ccd_15.fit\n",
      "Created: ../data/ccd\\m387_g_ccd_16.fit\n",
      "Created: ../data/ccd\\m387_g_ccd_17.fit\n",
      "Created: ../data/ccd\\m387_g_ccd_18.fit\n",
      "Created: ../data/ccd\\m387_g_ccd_19.fit\n",
      "Created: ../data/ccd\\m387_g_ccd_20.fit\n",
      "Created: ../data/ccd\\m387_g_ccd_21.fit\n",
      "Created: ../data/ccd\\m387_g_ccd_22.fit\n",
      "Created: ../data/ccd\\m387_g_ccd_23.fit\n",
      "Created: ../data/ccd\\m387_g_ccd_24.fit\n",
      "Created: ../data/ccd\\m387_g_ccd_25.fit\n",
      "Created: ../data/ccd\\m387_g_ccd_26.fit\n",
      "Created: ../data/ccd\\m387_g_ccd_27.fit\n",
      "Created: ../data/ccd\\m387_g_ccd_28.fit\n",
      "Created: ../data/ccd\\m387_g_ccd_29.fit\n",
      "Created: ../data/ccd\\m387_g_ccd_30.fit\n",
      "Created: ../data/ccd\\m387_g_ccd_31.fit\n",
      "Created: ../data/ccd\\m387_g_ccd_32.fit\n",
      "Created: ../data/ccd\\m387_g_ccd_33.fit\n",
      "Created: ../data/ccd\\m387_g_ccd_34.fit\n",
      "Created: ../data/ccd\\m387_g_ccd_35.fit\n",
      "Created: ../data/ccd\\m387_g_ccd_36.fit\n",
      "Processing file: C:/Users/Squid/Downloads/Fits\\m388_g.fit\n",
      "Created: ../data/ccd\\m388_g_ccd_1.fit\n",
      "Created: ../data/ccd\\m388_g_ccd_2.fit\n",
      "Created: ../data/ccd\\m388_g_ccd_3.fit\n",
      "Created: ../data/ccd\\m388_g_ccd_4.fit\n",
      "Created: ../data/ccd\\m388_g_ccd_5.fit\n",
      "Created: ../data/ccd\\m388_g_ccd_6.fit\n",
      "Created: ../data/ccd\\m388_g_ccd_7.fit\n",
      "Created: ../data/ccd\\m388_g_ccd_8.fit\n",
      "Created: ../data/ccd\\m388_g_ccd_9.fit\n",
      "Created: ../data/ccd\\m388_g_ccd_10.fit\n",
      "Created: ../data/ccd\\m388_g_ccd_11.fit\n",
      "Created: ../data/ccd\\m388_g_ccd_12.fit\n",
      "Created: ../data/ccd\\m388_g_ccd_13.fit\n",
      "Created: ../data/ccd\\m388_g_ccd_14.fit\n",
      "Created: ../data/ccd\\m388_g_ccd_15.fit\n",
      "Created: ../data/ccd\\m388_g_ccd_16.fit\n",
      "Created: ../data/ccd\\m388_g_ccd_17.fit\n",
      "Created: ../data/ccd\\m388_g_ccd_18.fit\n",
      "Created: ../data/ccd\\m388_g_ccd_19.fit\n",
      "Created: ../data/ccd\\m388_g_ccd_20.fit\n",
      "Created: ../data/ccd\\m388_g_ccd_21.fit\n",
      "Created: ../data/ccd\\m388_g_ccd_22.fit\n",
      "Created: ../data/ccd\\m388_g_ccd_23.fit\n",
      "Created: ../data/ccd\\m388_g_ccd_24.fit\n",
      "Created: ../data/ccd\\m388_g_ccd_25.fit\n",
      "Created: ../data/ccd\\m388_g_ccd_26.fit\n",
      "Created: ../data/ccd\\m388_g_ccd_27.fit\n",
      "Created: ../data/ccd\\m388_g_ccd_28.fit\n",
      "Created: ../data/ccd\\m388_g_ccd_29.fit\n",
      "Created: ../data/ccd\\m388_g_ccd_30.fit\n",
      "Created: ../data/ccd\\m388_g_ccd_31.fit\n",
      "Created: ../data/ccd\\m388_g_ccd_32.fit\n",
      "Created: ../data/ccd\\m388_g_ccd_33.fit\n",
      "Created: ../data/ccd\\m388_g_ccd_34.fit\n",
      "Created: ../data/ccd\\m388_g_ccd_35.fit\n",
      "Created: ../data/ccd\\m388_g_ccd_36.fit\n",
      "Processing file: C:/Users/Squid/Downloads/Fits\\m389_g.fit\n",
      "Created: ../data/ccd\\m389_g_ccd_1.fit\n",
      "Created: ../data/ccd\\m389_g_ccd_2.fit\n",
      "Created: ../data/ccd\\m389_g_ccd_3.fit\n",
      "Created: ../data/ccd\\m389_g_ccd_4.fit\n",
      "Created: ../data/ccd\\m389_g_ccd_5.fit\n",
      "Created: ../data/ccd\\m389_g_ccd_6.fit\n",
      "Created: ../data/ccd\\m389_g_ccd_7.fit\n",
      "Created: ../data/ccd\\m389_g_ccd_8.fit\n",
      "Created: ../data/ccd\\m389_g_ccd_9.fit\n",
      "Created: ../data/ccd\\m389_g_ccd_10.fit\n",
      "Created: ../data/ccd\\m389_g_ccd_11.fit\n",
      "Created: ../data/ccd\\m389_g_ccd_12.fit\n",
      "Created: ../data/ccd\\m389_g_ccd_13.fit\n",
      "Created: ../data/ccd\\m389_g_ccd_14.fit\n",
      "Created: ../data/ccd\\m389_g_ccd_15.fit\n",
      "Created: ../data/ccd\\m389_g_ccd_16.fit\n",
      "Created: ../data/ccd\\m389_g_ccd_17.fit\n",
      "Created: ../data/ccd\\m389_g_ccd_18.fit\n",
      "Created: ../data/ccd\\m389_g_ccd_19.fit\n",
      "Created: ../data/ccd\\m389_g_ccd_20.fit\n",
      "Created: ../data/ccd\\m389_g_ccd_21.fit\n",
      "Created: ../data/ccd\\m389_g_ccd_22.fit\n",
      "Created: ../data/ccd\\m389_g_ccd_23.fit\n",
      "Created: ../data/ccd\\m389_g_ccd_24.fit\n",
      "Created: ../data/ccd\\m389_g_ccd_25.fit\n",
      "Created: ../data/ccd\\m389_g_ccd_26.fit\n",
      "Created: ../data/ccd\\m389_g_ccd_27.fit\n",
      "Created: ../data/ccd\\m389_g_ccd_28.fit\n",
      "Created: ../data/ccd\\m389_g_ccd_29.fit\n",
      "Created: ../data/ccd\\m389_g_ccd_30.fit\n",
      "Created: ../data/ccd\\m389_g_ccd_31.fit\n",
      "Created: ../data/ccd\\m389_g_ccd_32.fit\n",
      "Created: ../data/ccd\\m389_g_ccd_33.fit\n",
      "Created: ../data/ccd\\m389_g_ccd_34.fit\n",
      "Created: ../data/ccd\\m389_g_ccd_35.fit\n",
      "Created: ../data/ccd\\m389_g_ccd_36.fit\n",
      "Processing file: C:/Users/Squid/Downloads/Fits\\m390_g.fit\n",
      "Created: ../data/ccd\\m390_g_ccd_1.fit\n",
      "Created: ../data/ccd\\m390_g_ccd_2.fit\n",
      "Created: ../data/ccd\\m390_g_ccd_3.fit\n",
      "Created: ../data/ccd\\m390_g_ccd_4.fit\n",
      "Created: ../data/ccd\\m390_g_ccd_5.fit\n",
      "Created: ../data/ccd\\m390_g_ccd_6.fit\n",
      "Created: ../data/ccd\\m390_g_ccd_7.fit\n",
      "Created: ../data/ccd\\m390_g_ccd_8.fit\n",
      "Created: ../data/ccd\\m390_g_ccd_9.fit\n",
      "Created: ../data/ccd\\m390_g_ccd_10.fit\n",
      "Created: ../data/ccd\\m390_g_ccd_11.fit\n",
      "Created: ../data/ccd\\m390_g_ccd_12.fit\n",
      "Created: ../data/ccd\\m390_g_ccd_13.fit\n",
      "Created: ../data/ccd\\m390_g_ccd_14.fit\n",
      "Created: ../data/ccd\\m390_g_ccd_15.fit\n",
      "Created: ../data/ccd\\m390_g_ccd_16.fit\n",
      "Created: ../data/ccd\\m390_g_ccd_17.fit\n",
      "Created: ../data/ccd\\m390_g_ccd_18.fit\n",
      "Created: ../data/ccd\\m390_g_ccd_19.fit\n",
      "Created: ../data/ccd\\m390_g_ccd_20.fit\n",
      "Created: ../data/ccd\\m390_g_ccd_21.fit\n",
      "Created: ../data/ccd\\m390_g_ccd_22.fit\n",
      "Created: ../data/ccd\\m390_g_ccd_23.fit\n",
      "Created: ../data/ccd\\m390_g_ccd_24.fit\n",
      "Created: ../data/ccd\\m390_g_ccd_25.fit\n",
      "Created: ../data/ccd\\m390_g_ccd_26.fit\n",
      "Created: ../data/ccd\\m390_g_ccd_27.fit\n",
      "Created: ../data/ccd\\m390_g_ccd_28.fit\n",
      "Created: ../data/ccd\\m390_g_ccd_29.fit\n",
      "Created: ../data/ccd\\m390_g_ccd_30.fit\n",
      "Created: ../data/ccd\\m390_g_ccd_31.fit\n",
      "Created: ../data/ccd\\m390_g_ccd_32.fit\n",
      "Created: ../data/ccd\\m390_g_ccd_33.fit\n",
      "Created: ../data/ccd\\m390_g_ccd_34.fit\n",
      "Created: ../data/ccd\\m390_g_ccd_35.fit\n",
      "Created: ../data/ccd\\m390_g_ccd_36.fit\n",
      "Processing file: C:/Users/Squid/Downloads/Fits\\m391_g.fit\n",
      "Created: ../data/ccd\\m391_g_ccd_1.fit\n",
      "Created: ../data/ccd\\m391_g_ccd_2.fit\n",
      "Created: ../data/ccd\\m391_g_ccd_3.fit\n",
      "Created: ../data/ccd\\m391_g_ccd_4.fit\n",
      "Created: ../data/ccd\\m391_g_ccd_5.fit\n",
      "Created: ../data/ccd\\m391_g_ccd_6.fit\n",
      "Created: ../data/ccd\\m391_g_ccd_7.fit\n",
      "Created: ../data/ccd\\m391_g_ccd_8.fit\n",
      "Created: ../data/ccd\\m391_g_ccd_9.fit\n",
      "Created: ../data/ccd\\m391_g_ccd_10.fit\n",
      "Created: ../data/ccd\\m391_g_ccd_11.fit\n",
      "Created: ../data/ccd\\m391_g_ccd_12.fit\n",
      "Created: ../data/ccd\\m391_g_ccd_13.fit\n",
      "Created: ../data/ccd\\m391_g_ccd_14.fit\n",
      "Created: ../data/ccd\\m391_g_ccd_15.fit\n",
      "Created: ../data/ccd\\m391_g_ccd_16.fit\n",
      "Created: ../data/ccd\\m391_g_ccd_17.fit\n",
      "Created: ../data/ccd\\m391_g_ccd_18.fit\n",
      "Created: ../data/ccd\\m391_g_ccd_19.fit\n",
      "Created: ../data/ccd\\m391_g_ccd_20.fit\n",
      "Created: ../data/ccd\\m391_g_ccd_21.fit\n",
      "Created: ../data/ccd\\m391_g_ccd_22.fit\n",
      "Created: ../data/ccd\\m391_g_ccd_23.fit\n",
      "Created: ../data/ccd\\m391_g_ccd_24.fit\n",
      "Created: ../data/ccd\\m391_g_ccd_25.fit\n",
      "Created: ../data/ccd\\m391_g_ccd_26.fit\n",
      "Created: ../data/ccd\\m391_g_ccd_27.fit\n",
      "Created: ../data/ccd\\m391_g_ccd_28.fit\n",
      "Created: ../data/ccd\\m391_g_ccd_29.fit\n",
      "Created: ../data/ccd\\m391_g_ccd_30.fit\n",
      "Created: ../data/ccd\\m391_g_ccd_31.fit\n",
      "Created: ../data/ccd\\m391_g_ccd_32.fit\n",
      "Created: ../data/ccd\\m391_g_ccd_33.fit\n",
      "Created: ../data/ccd\\m391_g_ccd_34.fit\n",
      "Created: ../data/ccd\\m391_g_ccd_35.fit\n",
      "Created: ../data/ccd\\m391_g_ccd_36.fit\n",
      "Processing file: C:/Users/Squid/Downloads/Fits\\m392_g.fit\n",
      "Created: ../data/ccd\\m392_g_ccd_1.fit\n",
      "Created: ../data/ccd\\m392_g_ccd_2.fit\n",
      "Created: ../data/ccd\\m392_g_ccd_3.fit\n",
      "Created: ../data/ccd\\m392_g_ccd_4.fit\n",
      "Created: ../data/ccd\\m392_g_ccd_5.fit\n",
      "Created: ../data/ccd\\m392_g_ccd_6.fit\n",
      "Created: ../data/ccd\\m392_g_ccd_7.fit\n",
      "Created: ../data/ccd\\m392_g_ccd_8.fit\n",
      "Created: ../data/ccd\\m392_g_ccd_9.fit\n",
      "Created: ../data/ccd\\m392_g_ccd_10.fit\n",
      "Created: ../data/ccd\\m392_g_ccd_11.fit\n",
      "Created: ../data/ccd\\m392_g_ccd_12.fit\n",
      "Created: ../data/ccd\\m392_g_ccd_13.fit\n",
      "Created: ../data/ccd\\m392_g_ccd_14.fit\n",
      "Created: ../data/ccd\\m392_g_ccd_15.fit\n",
      "Created: ../data/ccd\\m392_g_ccd_16.fit\n",
      "Created: ../data/ccd\\m392_g_ccd_17.fit\n",
      "Created: ../data/ccd\\m392_g_ccd_18.fit\n",
      "Created: ../data/ccd\\m392_g_ccd_19.fit\n",
      "Created: ../data/ccd\\m392_g_ccd_20.fit\n",
      "Created: ../data/ccd\\m392_g_ccd_21.fit\n",
      "Created: ../data/ccd\\m392_g_ccd_22.fit\n",
      "Created: ../data/ccd\\m392_g_ccd_23.fit\n",
      "Created: ../data/ccd\\m392_g_ccd_24.fit\n",
      "Created: ../data/ccd\\m392_g_ccd_25.fit\n",
      "Created: ../data/ccd\\m392_g_ccd_26.fit\n",
      "Created: ../data/ccd\\m392_g_ccd_27.fit\n",
      "Created: ../data/ccd\\m392_g_ccd_28.fit\n",
      "Created: ../data/ccd\\m392_g_ccd_29.fit\n",
      "Created: ../data/ccd\\m392_g_ccd_30.fit\n",
      "Created: ../data/ccd\\m392_g_ccd_31.fit\n",
      "Created: ../data/ccd\\m392_g_ccd_32.fit\n",
      "Created: ../data/ccd\\m392_g_ccd_33.fit\n",
      "Created: ../data/ccd\\m392_g_ccd_34.fit\n",
      "Created: ../data/ccd\\m392_g_ccd_35.fit\n",
      "Created: ../data/ccd\\m392_g_ccd_36.fit\n",
      "Processing file: C:/Users/Squid/Downloads/Fits\\m393_g.fit\n",
      "Created: ../data/ccd\\m393_g_ccd_1.fit\n",
      "Created: ../data/ccd\\m393_g_ccd_2.fit\n",
      "Created: ../data/ccd\\m393_g_ccd_3.fit\n",
      "Created: ../data/ccd\\m393_g_ccd_4.fit\n",
      "Created: ../data/ccd\\m393_g_ccd_5.fit\n",
      "Created: ../data/ccd\\m393_g_ccd_6.fit\n",
      "Created: ../data/ccd\\m393_g_ccd_7.fit\n",
      "Created: ../data/ccd\\m393_g_ccd_8.fit\n",
      "Created: ../data/ccd\\m393_g_ccd_9.fit\n",
      "Created: ../data/ccd\\m393_g_ccd_10.fit\n",
      "Created: ../data/ccd\\m393_g_ccd_11.fit\n",
      "Created: ../data/ccd\\m393_g_ccd_12.fit\n",
      "Created: ../data/ccd\\m393_g_ccd_13.fit\n",
      "Created: ../data/ccd\\m393_g_ccd_14.fit\n",
      "Created: ../data/ccd\\m393_g_ccd_15.fit\n",
      "Created: ../data/ccd\\m393_g_ccd_16.fit\n",
      "Created: ../data/ccd\\m393_g_ccd_17.fit\n",
      "Created: ../data/ccd\\m393_g_ccd_18.fit\n",
      "Created: ../data/ccd\\m393_g_ccd_19.fit\n",
      "Created: ../data/ccd\\m393_g_ccd_20.fit\n",
      "Created: ../data/ccd\\m393_g_ccd_21.fit\n",
      "Created: ../data/ccd\\m393_g_ccd_22.fit\n",
      "Created: ../data/ccd\\m393_g_ccd_23.fit\n",
      "Created: ../data/ccd\\m393_g_ccd_24.fit\n",
      "Created: ../data/ccd\\m393_g_ccd_25.fit\n",
      "Created: ../data/ccd\\m393_g_ccd_26.fit\n",
      "Created: ../data/ccd\\m393_g_ccd_27.fit\n",
      "Created: ../data/ccd\\m393_g_ccd_28.fit\n",
      "Created: ../data/ccd\\m393_g_ccd_29.fit\n",
      "Created: ../data/ccd\\m393_g_ccd_30.fit\n",
      "Created: ../data/ccd\\m393_g_ccd_31.fit\n",
      "Created: ../data/ccd\\m393_g_ccd_32.fit\n",
      "Created: ../data/ccd\\m393_g_ccd_33.fit\n",
      "Created: ../data/ccd\\m393_g_ccd_34.fit\n",
      "Created: ../data/ccd\\m393_g_ccd_35.fit\n",
      "Created: ../data/ccd\\m393_g_ccd_36.fit\n",
      "Processing file: C:/Users/Squid/Downloads/Fits\\m394_g.fit\n",
      "Created: ../data/ccd\\m394_g_ccd_1.fit\n",
      "Created: ../data/ccd\\m394_g_ccd_2.fit\n",
      "Created: ../data/ccd\\m394_g_ccd_3.fit\n",
      "Created: ../data/ccd\\m394_g_ccd_4.fit\n",
      "Created: ../data/ccd\\m394_g_ccd_5.fit\n",
      "Created: ../data/ccd\\m394_g_ccd_6.fit\n",
      "Created: ../data/ccd\\m394_g_ccd_7.fit\n",
      "Created: ../data/ccd\\m394_g_ccd_8.fit\n",
      "Created: ../data/ccd\\m394_g_ccd_9.fit\n",
      "Created: ../data/ccd\\m394_g_ccd_10.fit\n",
      "Created: ../data/ccd\\m394_g_ccd_11.fit\n",
      "Created: ../data/ccd\\m394_g_ccd_12.fit\n",
      "Created: ../data/ccd\\m394_g_ccd_13.fit\n",
      "Created: ../data/ccd\\m394_g_ccd_14.fit\n",
      "Created: ../data/ccd\\m394_g_ccd_15.fit\n",
      "Created: ../data/ccd\\m394_g_ccd_16.fit\n",
      "Created: ../data/ccd\\m394_g_ccd_17.fit\n",
      "Created: ../data/ccd\\m394_g_ccd_18.fit\n",
      "Created: ../data/ccd\\m394_g_ccd_19.fit\n",
      "Created: ../data/ccd\\m394_g_ccd_20.fit\n",
      "Created: ../data/ccd\\m394_g_ccd_21.fit\n",
      "Created: ../data/ccd\\m394_g_ccd_22.fit\n",
      "Created: ../data/ccd\\m394_g_ccd_23.fit\n",
      "Created: ../data/ccd\\m394_g_ccd_24.fit\n",
      "Created: ../data/ccd\\m394_g_ccd_25.fit\n",
      "Created: ../data/ccd\\m394_g_ccd_26.fit\n",
      "Created: ../data/ccd\\m394_g_ccd_27.fit\n",
      "Created: ../data/ccd\\m394_g_ccd_28.fit\n",
      "Created: ../data/ccd\\m394_g_ccd_29.fit\n",
      "Created: ../data/ccd\\m394_g_ccd_30.fit\n",
      "Created: ../data/ccd\\m394_g_ccd_31.fit\n",
      "Created: ../data/ccd\\m394_g_ccd_32.fit\n",
      "Created: ../data/ccd\\m394_g_ccd_33.fit\n",
      "Created: ../data/ccd\\m394_g_ccd_34.fit\n",
      "Created: ../data/ccd\\m394_g_ccd_35.fit\n",
      "Created: ../data/ccd\\m394_g_ccd_36.fit\n",
      "Processing file: C:/Users/Squid/Downloads/Fits\\m395_g.fit\n",
      "Created: ../data/ccd\\m395_g_ccd_1.fit\n",
      "Created: ../data/ccd\\m395_g_ccd_2.fit\n",
      "Created: ../data/ccd\\m395_g_ccd_3.fit\n",
      "Created: ../data/ccd\\m395_g_ccd_4.fit\n",
      "Created: ../data/ccd\\m395_g_ccd_5.fit\n",
      "Created: ../data/ccd\\m395_g_ccd_6.fit\n",
      "Created: ../data/ccd\\m395_g_ccd_7.fit\n",
      "Created: ../data/ccd\\m395_g_ccd_8.fit\n",
      "Created: ../data/ccd\\m395_g_ccd_9.fit\n",
      "Created: ../data/ccd\\m395_g_ccd_10.fit\n",
      "Created: ../data/ccd\\m395_g_ccd_11.fit\n",
      "Created: ../data/ccd\\m395_g_ccd_12.fit\n",
      "Created: ../data/ccd\\m395_g_ccd_13.fit\n",
      "Created: ../data/ccd\\m395_g_ccd_14.fit\n",
      "Created: ../data/ccd\\m395_g_ccd_15.fit\n",
      "Created: ../data/ccd\\m395_g_ccd_16.fit\n",
      "Created: ../data/ccd\\m395_g_ccd_17.fit\n",
      "Created: ../data/ccd\\m395_g_ccd_18.fit\n",
      "Created: ../data/ccd\\m395_g_ccd_19.fit\n",
      "Created: ../data/ccd\\m395_g_ccd_20.fit\n",
      "Created: ../data/ccd\\m395_g_ccd_21.fit\n",
      "Created: ../data/ccd\\m395_g_ccd_22.fit\n",
      "Created: ../data/ccd\\m395_g_ccd_23.fit\n",
      "Created: ../data/ccd\\m395_g_ccd_24.fit\n",
      "Created: ../data/ccd\\m395_g_ccd_25.fit\n",
      "Created: ../data/ccd\\m395_g_ccd_26.fit\n",
      "Created: ../data/ccd\\m395_g_ccd_27.fit\n",
      "Created: ../data/ccd\\m395_g_ccd_28.fit\n",
      "Created: ../data/ccd\\m395_g_ccd_29.fit\n",
      "Created: ../data/ccd\\m395_g_ccd_30.fit\n",
      "Created: ../data/ccd\\m395_g_ccd_31.fit\n",
      "Created: ../data/ccd\\m395_g_ccd_32.fit\n",
      "Created: ../data/ccd\\m395_g_ccd_33.fit\n",
      "Created: ../data/ccd\\m395_g_ccd_34.fit\n",
      "Created: ../data/ccd\\m395_g_ccd_35.fit\n",
      "Created: ../data/ccd\\m395_g_ccd_36.fit\n",
      "Processing file: C:/Users/Squid/Downloads/Fits\\m396_g.fit\n",
      "Created: ../data/ccd\\m396_g_ccd_1.fit\n",
      "Created: ../data/ccd\\m396_g_ccd_2.fit\n",
      "Created: ../data/ccd\\m396_g_ccd_3.fit\n",
      "Created: ../data/ccd\\m396_g_ccd_4.fit\n",
      "Created: ../data/ccd\\m396_g_ccd_5.fit\n",
      "Created: ../data/ccd\\m396_g_ccd_6.fit\n",
      "Created: ../data/ccd\\m396_g_ccd_7.fit\n",
      "Created: ../data/ccd\\m396_g_ccd_8.fit\n",
      "Created: ../data/ccd\\m396_g_ccd_9.fit\n",
      "Created: ../data/ccd\\m396_g_ccd_10.fit\n",
      "Created: ../data/ccd\\m396_g_ccd_11.fit\n",
      "Created: ../data/ccd\\m396_g_ccd_12.fit\n",
      "Created: ../data/ccd\\m396_g_ccd_13.fit\n",
      "Created: ../data/ccd\\m396_g_ccd_14.fit\n",
      "Created: ../data/ccd\\m396_g_ccd_15.fit\n",
      "Created: ../data/ccd\\m396_g_ccd_16.fit\n",
      "Created: ../data/ccd\\m396_g_ccd_17.fit\n",
      "Created: ../data/ccd\\m396_g_ccd_18.fit\n",
      "Created: ../data/ccd\\m396_g_ccd_19.fit\n",
      "Created: ../data/ccd\\m396_g_ccd_20.fit\n",
      "Created: ../data/ccd\\m396_g_ccd_21.fit\n",
      "Created: ../data/ccd\\m396_g_ccd_22.fit\n",
      "Created: ../data/ccd\\m396_g_ccd_23.fit\n",
      "Created: ../data/ccd\\m396_g_ccd_24.fit\n",
      "Created: ../data/ccd\\m396_g_ccd_25.fit\n",
      "Created: ../data/ccd\\m396_g_ccd_26.fit\n",
      "Created: ../data/ccd\\m396_g_ccd_27.fit\n",
      "Created: ../data/ccd\\m396_g_ccd_28.fit\n",
      "Created: ../data/ccd\\m396_g_ccd_29.fit\n",
      "Created: ../data/ccd\\m396_g_ccd_30.fit\n",
      "Created: ../data/ccd\\m396_g_ccd_31.fit\n",
      "Created: ../data/ccd\\m396_g_ccd_32.fit\n",
      "Created: ../data/ccd\\m396_g_ccd_33.fit\n",
      "Created: ../data/ccd\\m396_g_ccd_34.fit\n",
      "Created: ../data/ccd\\m396_g_ccd_35.fit\n",
      "Created: ../data/ccd\\m396_g_ccd_36.fit\n",
      "Processing file: C:/Users/Squid/Downloads/Fits\\m397_g.fit\n",
      "Created: ../data/ccd\\m397_g_ccd_1.fit\n",
      "Created: ../data/ccd\\m397_g_ccd_2.fit\n",
      "Created: ../data/ccd\\m397_g_ccd_3.fit\n",
      "Created: ../data/ccd\\m397_g_ccd_4.fit\n",
      "Created: ../data/ccd\\m397_g_ccd_5.fit\n",
      "Created: ../data/ccd\\m397_g_ccd_6.fit\n",
      "Created: ../data/ccd\\m397_g_ccd_7.fit\n",
      "Created: ../data/ccd\\m397_g_ccd_8.fit\n",
      "Created: ../data/ccd\\m397_g_ccd_9.fit\n",
      "Created: ../data/ccd\\m397_g_ccd_10.fit\n",
      "Created: ../data/ccd\\m397_g_ccd_11.fit\n",
      "Created: ../data/ccd\\m397_g_ccd_12.fit\n",
      "Created: ../data/ccd\\m397_g_ccd_13.fit\n",
      "Created: ../data/ccd\\m397_g_ccd_14.fit\n",
      "Created: ../data/ccd\\m397_g_ccd_15.fit\n",
      "Created: ../data/ccd\\m397_g_ccd_16.fit\n",
      "Created: ../data/ccd\\m397_g_ccd_17.fit\n",
      "Created: ../data/ccd\\m397_g_ccd_18.fit\n",
      "Created: ../data/ccd\\m397_g_ccd_19.fit\n",
      "Created: ../data/ccd\\m397_g_ccd_20.fit\n",
      "Created: ../data/ccd\\m397_g_ccd_21.fit\n",
      "Created: ../data/ccd\\m397_g_ccd_22.fit\n",
      "Created: ../data/ccd\\m397_g_ccd_23.fit\n",
      "Created: ../data/ccd\\m397_g_ccd_24.fit\n",
      "Created: ../data/ccd\\m397_g_ccd_25.fit\n",
      "Created: ../data/ccd\\m397_g_ccd_26.fit\n",
      "Created: ../data/ccd\\m397_g_ccd_27.fit\n",
      "Created: ../data/ccd\\m397_g_ccd_28.fit\n",
      "Created: ../data/ccd\\m397_g_ccd_29.fit\n",
      "Created: ../data/ccd\\m397_g_ccd_30.fit\n",
      "Created: ../data/ccd\\m397_g_ccd_31.fit\n",
      "Created: ../data/ccd\\m397_g_ccd_32.fit\n",
      "Created: ../data/ccd\\m397_g_ccd_33.fit\n",
      "Created: ../data/ccd\\m397_g_ccd_34.fit\n",
      "Created: ../data/ccd\\m397_g_ccd_35.fit\n",
      "Created: ../data/ccd\\m397_g_ccd_36.fit\n",
      "Processing file: C:/Users/Squid/Downloads/Fits\\m398_g.fit\n",
      "Created: ../data/ccd\\m398_g_ccd_1.fit\n",
      "Created: ../data/ccd\\m398_g_ccd_2.fit\n",
      "Created: ../data/ccd\\m398_g_ccd_3.fit\n",
      "Created: ../data/ccd\\m398_g_ccd_4.fit\n",
      "Created: ../data/ccd\\m398_g_ccd_5.fit\n",
      "Created: ../data/ccd\\m398_g_ccd_6.fit\n",
      "Created: ../data/ccd\\m398_g_ccd_7.fit\n",
      "Created: ../data/ccd\\m398_g_ccd_8.fit\n",
      "Created: ../data/ccd\\m398_g_ccd_9.fit\n",
      "Created: ../data/ccd\\m398_g_ccd_10.fit\n",
      "Created: ../data/ccd\\m398_g_ccd_11.fit\n",
      "Created: ../data/ccd\\m398_g_ccd_12.fit\n",
      "Created: ../data/ccd\\m398_g_ccd_13.fit\n",
      "Created: ../data/ccd\\m398_g_ccd_14.fit\n",
      "Created: ../data/ccd\\m398_g_ccd_15.fit\n",
      "Created: ../data/ccd\\m398_g_ccd_16.fit\n",
      "Created: ../data/ccd\\m398_g_ccd_17.fit\n",
      "Created: ../data/ccd\\m398_g_ccd_18.fit\n",
      "Created: ../data/ccd\\m398_g_ccd_19.fit\n",
      "Created: ../data/ccd\\m398_g_ccd_20.fit\n",
      "Created: ../data/ccd\\m398_g_ccd_21.fit\n",
      "Created: ../data/ccd\\m398_g_ccd_22.fit\n",
      "Created: ../data/ccd\\m398_g_ccd_23.fit\n",
      "Created: ../data/ccd\\m398_g_ccd_24.fit\n",
      "Created: ../data/ccd\\m398_g_ccd_25.fit\n",
      "Created: ../data/ccd\\m398_g_ccd_26.fit\n",
      "Created: ../data/ccd\\m398_g_ccd_27.fit\n",
      "Created: ../data/ccd\\m398_g_ccd_28.fit\n",
      "Created: ../data/ccd\\m398_g_ccd_29.fit\n",
      "Created: ../data/ccd\\m398_g_ccd_30.fit\n",
      "Created: ../data/ccd\\m398_g_ccd_31.fit\n",
      "Created: ../data/ccd\\m398_g_ccd_32.fit\n",
      "Created: ../data/ccd\\m398_g_ccd_33.fit\n",
      "Created: ../data/ccd\\m398_g_ccd_34.fit\n",
      "Created: ../data/ccd\\m398_g_ccd_35.fit\n",
      "Created: ../data/ccd\\m398_g_ccd_36.fit\n",
      "Processing file: C:/Users/Squid/Downloads/Fits\\m399_g.fit\n",
      "Created: ../data/ccd\\m399_g_ccd_1.fit\n",
      "Created: ../data/ccd\\m399_g_ccd_2.fit\n",
      "Created: ../data/ccd\\m399_g_ccd_3.fit\n",
      "Created: ../data/ccd\\m399_g_ccd_4.fit\n",
      "Created: ../data/ccd\\m399_g_ccd_5.fit\n",
      "Created: ../data/ccd\\m399_g_ccd_6.fit\n",
      "Created: ../data/ccd\\m399_g_ccd_7.fit\n",
      "Created: ../data/ccd\\m399_g_ccd_8.fit\n",
      "Created: ../data/ccd\\m399_g_ccd_9.fit\n",
      "Created: ../data/ccd\\m399_g_ccd_10.fit\n",
      "Created: ../data/ccd\\m399_g_ccd_11.fit\n",
      "Created: ../data/ccd\\m399_g_ccd_12.fit\n",
      "Created: ../data/ccd\\m399_g_ccd_13.fit\n",
      "Created: ../data/ccd\\m399_g_ccd_14.fit\n",
      "Created: ../data/ccd\\m399_g_ccd_15.fit\n",
      "Created: ../data/ccd\\m399_g_ccd_16.fit\n",
      "Created: ../data/ccd\\m399_g_ccd_17.fit\n",
      "Created: ../data/ccd\\m399_g_ccd_18.fit\n",
      "Created: ../data/ccd\\m399_g_ccd_19.fit\n",
      "Created: ../data/ccd\\m399_g_ccd_20.fit\n",
      "Created: ../data/ccd\\m399_g_ccd_21.fit\n",
      "Created: ../data/ccd\\m399_g_ccd_22.fit\n",
      "Created: ../data/ccd\\m399_g_ccd_23.fit\n",
      "An error occurred while processing C:/Users/Squid/Downloads/Fits\\m399_g.fit: buffer is too small for requested array\n",
      "\n",
      "Processing file: C:/Users/Squid/Downloads/Fits\\m400_g.fit\n"
     ]
    },
    {
     "name": "stderr",
     "output_type": "stream",
     "text": [
      "WARNING: File may have been truncated: actual file length (932639512) is smaller than the expected size (960327360) [astropy.io.fits.file]\n"
     ]
    },
    {
     "name": "stdout",
     "output_type": "stream",
     "text": [
      "Created: ../data/ccd\\m400_g_ccd_1.fit\n",
      "Created: ../data/ccd\\m400_g_ccd_2.fit\n",
      "Created: ../data/ccd\\m400_g_ccd_3.fit\n",
      "Created: ../data/ccd\\m400_g_ccd_4.fit\n",
      "Created: ../data/ccd\\m400_g_ccd_5.fit\n",
      "Created: ../data/ccd\\m400_g_ccd_6.fit\n",
      "Created: ../data/ccd\\m400_g_ccd_7.fit\n",
      "Created: ../data/ccd\\m400_g_ccd_8.fit\n",
      "Created: ../data/ccd\\m400_g_ccd_9.fit\n",
      "Created: ../data/ccd\\m400_g_ccd_10.fit\n",
      "Created: ../data/ccd\\m400_g_ccd_11.fit\n",
      "Created: ../data/ccd\\m400_g_ccd_12.fit\n",
      "Created: ../data/ccd\\m400_g_ccd_13.fit\n",
      "Created: ../data/ccd\\m400_g_ccd_14.fit\n",
      "Created: ../data/ccd\\m400_g_ccd_15.fit\n",
      "Created: ../data/ccd\\m400_g_ccd_16.fit\n",
      "Created: ../data/ccd\\m400_g_ccd_17.fit\n",
      "Created: ../data/ccd\\m400_g_ccd_18.fit\n",
      "Created: ../data/ccd\\m400_g_ccd_19.fit\n",
      "Created: ../data/ccd\\m400_g_ccd_20.fit\n",
      "Created: ../data/ccd\\m400_g_ccd_21.fit\n",
      "Created: ../data/ccd\\m400_g_ccd_22.fit\n",
      "Created: ../data/ccd\\m400_g_ccd_23.fit\n",
      "Created: ../data/ccd\\m400_g_ccd_24.fit\n",
      "Created: ../data/ccd\\m400_g_ccd_25.fit\n",
      "Created: ../data/ccd\\m400_g_ccd_26.fit\n",
      "Created: ../data/ccd\\m400_g_ccd_27.fit\n",
      "Created: ../data/ccd\\m400_g_ccd_28.fit\n",
      "Created: ../data/ccd\\m400_g_ccd_29.fit\n",
      "Created: ../data/ccd\\m400_g_ccd_30.fit\n",
      "Created: ../data/ccd\\m400_g_ccd_31.fit\n",
      "Created: ../data/ccd\\m400_g_ccd_32.fit\n",
      "Created: ../data/ccd\\m400_g_ccd_33.fit\n",
      "Created: ../data/ccd\\m400_g_ccd_34.fit\n",
      "Created: ../data/ccd\\m400_g_ccd_35.fit\n",
      "Created: ../data/ccd\\m400_g_ccd_36.fit\n",
      "Processing file: C:/Users/Squid/Downloads/Fits\\m401_g.fit\n",
      "Created: ../data/ccd\\m401_g_ccd_1.fit\n",
      "Created: ../data/ccd\\m401_g_ccd_2.fit\n",
      "Created: ../data/ccd\\m401_g_ccd_3.fit\n",
      "Created: ../data/ccd\\m401_g_ccd_4.fit\n",
      "Created: ../data/ccd\\m401_g_ccd_5.fit\n",
      "Created: ../data/ccd\\m401_g_ccd_6.fit\n",
      "Created: ../data/ccd\\m401_g_ccd_7.fit\n",
      "Created: ../data/ccd\\m401_g_ccd_8.fit\n",
      "Created: ../data/ccd\\m401_g_ccd_9.fit\n",
      "Created: ../data/ccd\\m401_g_ccd_10.fit\n",
      "Created: ../data/ccd\\m401_g_ccd_11.fit\n",
      "Created: ../data/ccd\\m401_g_ccd_12.fit\n",
      "Created: ../data/ccd\\m401_g_ccd_13.fit\n",
      "Created: ../data/ccd\\m401_g_ccd_14.fit\n",
      "Created: ../data/ccd\\m401_g_ccd_15.fit\n",
      "Created: ../data/ccd\\m401_g_ccd_16.fit\n",
      "Created: ../data/ccd\\m401_g_ccd_17.fit\n",
      "Created: ../data/ccd\\m401_g_ccd_18.fit\n",
      "Created: ../data/ccd\\m401_g_ccd_19.fit\n",
      "Created: ../data/ccd\\m401_g_ccd_20.fit\n",
      "Created: ../data/ccd\\m401_g_ccd_21.fit\n",
      "Created: ../data/ccd\\m401_g_ccd_22.fit\n",
      "Created: ../data/ccd\\m401_g_ccd_23.fit\n",
      "Created: ../data/ccd\\m401_g_ccd_24.fit\n",
      "Created: ../data/ccd\\m401_g_ccd_25.fit\n",
      "Created: ../data/ccd\\m401_g_ccd_26.fit\n",
      "Created: ../data/ccd\\m401_g_ccd_27.fit\n",
      "Created: ../data/ccd\\m401_g_ccd_28.fit\n",
      "Created: ../data/ccd\\m401_g_ccd_29.fit\n",
      "Created: ../data/ccd\\m401_g_ccd_30.fit\n",
      "Created: ../data/ccd\\m401_g_ccd_31.fit\n",
      "Created: ../data/ccd\\m401_g_ccd_32.fit\n",
      "Created: ../data/ccd\\m401_g_ccd_33.fit\n",
      "Created: ../data/ccd\\m401_g_ccd_34.fit\n",
      "Created: ../data/ccd\\m401_g_ccd_35.fit\n",
      "Created: ../data/ccd\\m401_g_ccd_36.fit\n",
      "Processing file: C:/Users/Squid/Downloads/Fits\\m402_g.fit\n",
      "Created: ../data/ccd\\m402_g_ccd_1.fit\n",
      "Created: ../data/ccd\\m402_g_ccd_2.fit\n",
      "Created: ../data/ccd\\m402_g_ccd_3.fit\n",
      "Created: ../data/ccd\\m402_g_ccd_4.fit\n",
      "Created: ../data/ccd\\m402_g_ccd_5.fit\n",
      "Created: ../data/ccd\\m402_g_ccd_6.fit\n",
      "Created: ../data/ccd\\m402_g_ccd_7.fit\n",
      "Created: ../data/ccd\\m402_g_ccd_8.fit\n",
      "Created: ../data/ccd\\m402_g_ccd_9.fit\n",
      "Created: ../data/ccd\\m402_g_ccd_10.fit\n",
      "Created: ../data/ccd\\m402_g_ccd_11.fit\n",
      "Created: ../data/ccd\\m402_g_ccd_12.fit\n",
      "Created: ../data/ccd\\m402_g_ccd_13.fit\n",
      "Created: ../data/ccd\\m402_g_ccd_14.fit\n",
      "Created: ../data/ccd\\m402_g_ccd_15.fit\n",
      "Created: ../data/ccd\\m402_g_ccd_16.fit\n",
      "Created: ../data/ccd\\m402_g_ccd_17.fit\n",
      "Created: ../data/ccd\\m402_g_ccd_18.fit\n",
      "Created: ../data/ccd\\m402_g_ccd_19.fit\n",
      "Created: ../data/ccd\\m402_g_ccd_20.fit\n",
      "Created: ../data/ccd\\m402_g_ccd_21.fit\n",
      "Created: ../data/ccd\\m402_g_ccd_22.fit\n",
      "Created: ../data/ccd\\m402_g_ccd_23.fit\n",
      "Created: ../data/ccd\\m402_g_ccd_24.fit\n",
      "Created: ../data/ccd\\m402_g_ccd_25.fit\n",
      "Created: ../data/ccd\\m402_g_ccd_26.fit\n",
      "Created: ../data/ccd\\m402_g_ccd_27.fit\n",
      "Created: ../data/ccd\\m402_g_ccd_28.fit\n",
      "Created: ../data/ccd\\m402_g_ccd_29.fit\n",
      "Created: ../data/ccd\\m402_g_ccd_30.fit\n",
      "Created: ../data/ccd\\m402_g_ccd_31.fit\n",
      "Created: ../data/ccd\\m402_g_ccd_32.fit\n",
      "Created: ../data/ccd\\m402_g_ccd_33.fit\n",
      "Created: ../data/ccd\\m402_g_ccd_34.fit\n",
      "Created: ../data/ccd\\m402_g_ccd_35.fit\n",
      "Created: ../data/ccd\\m402_g_ccd_36.fit\n",
      "Processing file: C:/Users/Squid/Downloads/Fits\\m403_g.fit\n",
      "Created: ../data/ccd\\m403_g_ccd_1.fit\n",
      "Created: ../data/ccd\\m403_g_ccd_2.fit\n",
      "Created: ../data/ccd\\m403_g_ccd_3.fit\n",
      "Created: ../data/ccd\\m403_g_ccd_4.fit\n",
      "Created: ../data/ccd\\m403_g_ccd_5.fit\n",
      "Created: ../data/ccd\\m403_g_ccd_6.fit\n",
      "Created: ../data/ccd\\m403_g_ccd_7.fit\n",
      "Created: ../data/ccd\\m403_g_ccd_8.fit\n",
      "Created: ../data/ccd\\m403_g_ccd_9.fit\n",
      "Created: ../data/ccd\\m403_g_ccd_10.fit\n",
      "Created: ../data/ccd\\m403_g_ccd_11.fit\n",
      "Created: ../data/ccd\\m403_g_ccd_12.fit\n",
      "Created: ../data/ccd\\m403_g_ccd_13.fit\n",
      "Created: ../data/ccd\\m403_g_ccd_14.fit\n",
      "Created: ../data/ccd\\m403_g_ccd_15.fit\n",
      "Created: ../data/ccd\\m403_g_ccd_16.fit\n",
      "Created: ../data/ccd\\m403_g_ccd_17.fit\n",
      "Created: ../data/ccd\\m403_g_ccd_18.fit\n",
      "Created: ../data/ccd\\m403_g_ccd_19.fit\n",
      "Created: ../data/ccd\\m403_g_ccd_20.fit\n",
      "Created: ../data/ccd\\m403_g_ccd_21.fit\n",
      "Created: ../data/ccd\\m403_g_ccd_22.fit\n",
      "Created: ../data/ccd\\m403_g_ccd_23.fit\n",
      "Created: ../data/ccd\\m403_g_ccd_24.fit\n",
      "Created: ../data/ccd\\m403_g_ccd_25.fit\n",
      "Created: ../data/ccd\\m403_g_ccd_26.fit\n",
      "Created: ../data/ccd\\m403_g_ccd_27.fit\n",
      "Created: ../data/ccd\\m403_g_ccd_28.fit\n",
      "Created: ../data/ccd\\m403_g_ccd_29.fit\n",
      "Created: ../data/ccd\\m403_g_ccd_30.fit\n",
      "Created: ../data/ccd\\m403_g_ccd_31.fit\n",
      "Created: ../data/ccd\\m403_g_ccd_32.fit\n",
      "Created: ../data/ccd\\m403_g_ccd_33.fit\n",
      "Created: ../data/ccd\\m403_g_ccd_34.fit\n",
      "Created: ../data/ccd\\m403_g_ccd_35.fit\n",
      "Created: ../data/ccd\\m403_g_ccd_36.fit\n",
      "Processing file: C:/Users/Squid/Downloads/Fits\\m404_g.fit\n",
      "Created: ../data/ccd\\m404_g_ccd_1.fit\n",
      "Created: ../data/ccd\\m404_g_ccd_2.fit\n",
      "Created: ../data/ccd\\m404_g_ccd_3.fit\n",
      "Created: ../data/ccd\\m404_g_ccd_4.fit\n",
      "Created: ../data/ccd\\m404_g_ccd_5.fit\n",
      "Created: ../data/ccd\\m404_g_ccd_6.fit\n",
      "Created: ../data/ccd\\m404_g_ccd_7.fit\n",
      "Created: ../data/ccd\\m404_g_ccd_8.fit\n",
      "Created: ../data/ccd\\m404_g_ccd_9.fit\n",
      "Created: ../data/ccd\\m404_g_ccd_10.fit\n",
      "Created: ../data/ccd\\m404_g_ccd_11.fit\n",
      "Created: ../data/ccd\\m404_g_ccd_12.fit\n",
      "Created: ../data/ccd\\m404_g_ccd_13.fit\n",
      "Created: ../data/ccd\\m404_g_ccd_14.fit\n",
      "Created: ../data/ccd\\m404_g_ccd_15.fit\n",
      "Created: ../data/ccd\\m404_g_ccd_16.fit\n",
      "Created: ../data/ccd\\m404_g_ccd_17.fit\n",
      "Created: ../data/ccd\\m404_g_ccd_18.fit\n",
      "Created: ../data/ccd\\m404_g_ccd_19.fit\n",
      "Created: ../data/ccd\\m404_g_ccd_20.fit\n",
      "Created: ../data/ccd\\m404_g_ccd_21.fit\n",
      "Created: ../data/ccd\\m404_g_ccd_22.fit\n",
      "Created: ../data/ccd\\m404_g_ccd_23.fit\n",
      "Created: ../data/ccd\\m404_g_ccd_24.fit\n",
      "Created: ../data/ccd\\m404_g_ccd_25.fit\n",
      "Created: ../data/ccd\\m404_g_ccd_26.fit\n",
      "Created: ../data/ccd\\m404_g_ccd_27.fit\n",
      "Created: ../data/ccd\\m404_g_ccd_28.fit\n",
      "Created: ../data/ccd\\m404_g_ccd_29.fit\n",
      "Created: ../data/ccd\\m404_g_ccd_30.fit\n",
      "Created: ../data/ccd\\m404_g_ccd_31.fit\n",
      "Created: ../data/ccd\\m404_g_ccd_32.fit\n",
      "Created: ../data/ccd\\m404_g_ccd_33.fit\n",
      "Created: ../data/ccd\\m404_g_ccd_34.fit\n",
      "Created: ../data/ccd\\m404_g_ccd_35.fit\n",
      "Created: ../data/ccd\\m404_g_ccd_36.fit\n",
      "Processing file: C:/Users/Squid/Downloads/Fits\\m405_g.fit\n",
      "Created: ../data/ccd\\m405_g_ccd_1.fit\n",
      "Created: ../data/ccd\\m405_g_ccd_2.fit\n",
      "Created: ../data/ccd\\m405_g_ccd_3.fit\n",
      "Created: ../data/ccd\\m405_g_ccd_4.fit\n",
      "Created: ../data/ccd\\m405_g_ccd_5.fit\n",
      "Created: ../data/ccd\\m405_g_ccd_6.fit\n",
      "Created: ../data/ccd\\m405_g_ccd_7.fit\n",
      "Created: ../data/ccd\\m405_g_ccd_8.fit\n",
      "Created: ../data/ccd\\m405_g_ccd_9.fit\n",
      "Created: ../data/ccd\\m405_g_ccd_10.fit\n",
      "Created: ../data/ccd\\m405_g_ccd_11.fit\n",
      "Created: ../data/ccd\\m405_g_ccd_12.fit\n",
      "Created: ../data/ccd\\m405_g_ccd_13.fit\n",
      "Created: ../data/ccd\\m405_g_ccd_14.fit\n",
      "Created: ../data/ccd\\m405_g_ccd_15.fit\n",
      "Created: ../data/ccd\\m405_g_ccd_16.fit\n",
      "Created: ../data/ccd\\m405_g_ccd_17.fit\n",
      "Created: ../data/ccd\\m405_g_ccd_18.fit\n",
      "Created: ../data/ccd\\m405_g_ccd_19.fit\n",
      "Created: ../data/ccd\\m405_g_ccd_20.fit\n",
      "Created: ../data/ccd\\m405_g_ccd_21.fit\n",
      "Created: ../data/ccd\\m405_g_ccd_22.fit\n",
      "Created: ../data/ccd\\m405_g_ccd_23.fit\n",
      "Created: ../data/ccd\\m405_g_ccd_24.fit\n",
      "Created: ../data/ccd\\m405_g_ccd_25.fit\n",
      "Created: ../data/ccd\\m405_g_ccd_26.fit\n",
      "Created: ../data/ccd\\m405_g_ccd_27.fit\n",
      "Created: ../data/ccd\\m405_g_ccd_28.fit\n",
      "Created: ../data/ccd\\m405_g_ccd_29.fit\n",
      "Created: ../data/ccd\\m405_g_ccd_30.fit\n",
      "Created: ../data/ccd\\m405_g_ccd_31.fit\n",
      "Created: ../data/ccd\\m405_g_ccd_32.fit\n",
      "Created: ../data/ccd\\m405_g_ccd_33.fit\n",
      "Created: ../data/ccd\\m405_g_ccd_34.fit\n",
      "Created: ../data/ccd\\m405_g_ccd_35.fit\n",
      "Created: ../data/ccd\\m405_g_ccd_36.fit\n",
      "Processing file: C:/Users/Squid/Downloads/Fits\\m406_g.fit\n",
      "Created: ../data/ccd\\m406_g_ccd_1.fit\n",
      "Created: ../data/ccd\\m406_g_ccd_2.fit\n",
      "Created: ../data/ccd\\m406_g_ccd_3.fit\n",
      "Created: ../data/ccd\\m406_g_ccd_4.fit\n",
      "Created: ../data/ccd\\m406_g_ccd_5.fit\n",
      "Created: ../data/ccd\\m406_g_ccd_6.fit\n",
      "Created: ../data/ccd\\m406_g_ccd_7.fit\n",
      "Created: ../data/ccd\\m406_g_ccd_8.fit\n",
      "Created: ../data/ccd\\m406_g_ccd_9.fit\n",
      "Created: ../data/ccd\\m406_g_ccd_10.fit\n",
      "Created: ../data/ccd\\m406_g_ccd_11.fit\n",
      "Created: ../data/ccd\\m406_g_ccd_12.fit\n",
      "Created: ../data/ccd\\m406_g_ccd_13.fit\n",
      "Created: ../data/ccd\\m406_g_ccd_14.fit\n",
      "Created: ../data/ccd\\m406_g_ccd_15.fit\n",
      "Created: ../data/ccd\\m406_g_ccd_16.fit\n",
      "Created: ../data/ccd\\m406_g_ccd_17.fit\n",
      "Created: ../data/ccd\\m406_g_ccd_18.fit\n",
      "Created: ../data/ccd\\m406_g_ccd_19.fit\n",
      "Created: ../data/ccd\\m406_g_ccd_20.fit\n",
      "Created: ../data/ccd\\m406_g_ccd_21.fit\n",
      "Created: ../data/ccd\\m406_g_ccd_22.fit\n",
      "Created: ../data/ccd\\m406_g_ccd_23.fit\n",
      "Created: ../data/ccd\\m406_g_ccd_24.fit\n",
      "Created: ../data/ccd\\m406_g_ccd_25.fit\n",
      "Created: ../data/ccd\\m406_g_ccd_26.fit\n",
      "Created: ../data/ccd\\m406_g_ccd_27.fit\n",
      "Created: ../data/ccd\\m406_g_ccd_28.fit\n",
      "Created: ../data/ccd\\m406_g_ccd_29.fit\n",
      "Created: ../data/ccd\\m406_g_ccd_30.fit\n",
      "Created: ../data/ccd\\m406_g_ccd_31.fit\n",
      "Created: ../data/ccd\\m406_g_ccd_32.fit\n",
      "Created: ../data/ccd\\m406_g_ccd_33.fit\n",
      "Created: ../data/ccd\\m406_g_ccd_34.fit\n",
      "Created: ../data/ccd\\m406_g_ccd_35.fit\n",
      "Created: ../data/ccd\\m406_g_ccd_36.fit\n"
     ]
    }
   ],
   "source": [
    "from astropy.io import fits\n",
    "import os\n",
    "import glob\n",
    "\n",
    "# Define the input and output directories\n",
    "input_dir = os.path.expanduser('C:/Users/Squid/Downloads/Fits')\n",
    "output_dir = '../data/ccd'\n",
    "\n",
    "# Create the output directory if it doesn't exist\n",
    "os.makedirs(output_dir, exist_ok=True)\n",
    "\n",
    "# Get a list of all FITS files in the input directory\n",
    "fits_files = glob.glob(os.path.join(input_dir, '*.fit'))\n",
    "\n",
    "# Loop over each FITS file\n",
    "for fits_file in fits_files:\n",
    "    print(f\"Processing file: {fits_file}\")\n",
    "    try:\n",
    "        # Open the FITS file\n",
    "        hdul = fits.open(fits_file)\n",
    "\n",
    "        # Get the base name of the input file without extension\n",
    "        base_name = os.path.splitext(os.path.basename(fits_file))[0]\n",
    "\n",
    "        # Loop through each HDU (Header/Data Unit) in the FITS file\n",
    "        for i, hdu in enumerate(hdul):\n",
    "            # Check if the HDU contains image data\n",
    "            if isinstance(hdu, fits.ImageHDU) or isinstance(hdu, fits.PrimaryHDU) and i != 0:\n",
    "                # Extract the data\n",
    "                data = hdu.data\n",
    "                # Save the data to a new FITS file\n",
    "                output_filename = os.path.join(output_dir, f'{base_name}_ccd_{i}.fit')\n",
    "                fits.writeto(output_filename, data, hdu.header, overwrite=True)\n",
    "                print(f\"Created: {output_filename}\")\n",
    "\n",
    "        # Close the FITS file\n",
    "        hdul.close()\n",
    "\n",
    "    except Exception as e:\n",
    "        print(f\"An error occurred while processing {fits_file}: {e}\\n\")"
   ]
  },
  {
   "cell_type": "markdown",
   "id": "9d120dc1",
   "metadata": {},
   "source": [
    "Experimenting the checking of if something is in range"
   ]
  },
  {
   "cell_type": "code",
   "execution_count": 14,
   "id": "8218f9ee",
   "metadata": {},
   "outputs": [
    {
     "name": "stdout",
     "output_type": "stream",
     "text": [
      "The sky coordinate is outside the image.\n"
     ]
    },
    {
     "name": "stderr",
     "output_type": "stream",
     "text": [
      "WARNING: FITSFixedWarning: RADECSYS= 'FK5 ' / Coordinate system for equinox (FK4/FK5/GAPPT) \n",
      "the RADECSYS keyword is deprecated, use RADESYSa. [astropy.wcs.wcs]\n",
      "WARNING: FITSFixedWarning: PROJP1 = 1.0000000E+00 \n",
      "the PROJPn keyword is deprecated, use PVi_ma. [astropy.wcs.wcs]\n",
      "WARNING: FITSFixedWarning: PROJP3 = 7.5000000E+01 \n",
      "the PROJPn keyword is deprecated, use PVi_ma. [astropy.wcs.wcs]\n",
      "WARNING: FITSFixedWarning: 'datfix' made the change 'Invalid parameter values: MJD-OBS and DATE-OBS are inconsistent'. [astropy.wcs.wcs]\n"
     ]
    }
   ],
   "source": [
    "from astropy.io import fits\n",
    "from astropy.wcs import WCS\n",
    "from astropy.coordinates import SkyCoord\n",
    "import astropy.units as u\n",
    "\n",
    "# Step 1: Load the FITS file and extract WCS\n",
    "fits_file = '/Users/ahuxor/Astro_projects/GC_detection_in_images/PandAS_data/m001_g_ccd35.fit'  # Replace with your FITS file path\n",
    "with fits.open(fits_file) as hdulist:\n",
    "    # Adjust the index if your image is not in the primary HDU\n",
    "    header = hdulist[0].header\n",
    "    data = hdulist[0].data\n",
    "\n",
    "# Extract WCS information\n",
    "wcs = WCS(header)\n",
    "\n",
    "# Step 2: Define your sky coordinate (RA, Dec)\n",
    "ra = 24.3  # Right Ascension in degrees\n",
    "dec = 27.2    # Declination in degrees\n",
    "sky_coord = SkyCoord(ra=ra * u.deg, dec=dec * u.deg, frame='icrs')\n",
    "\n",
    "# Convert sky coordinate to pixel coordinate\n",
    "# wcs.world_to_pixel returns (x_pixel, y_pixel)\n",
    "x_pixel, y_pixel = wcs.world_to_pixel(sky_coord)\n",
    "\n",
    "# Step 3: Check if pixel coordinates are within image bounds\n",
    "# Image dimensions\n",
    "naxis1 = header['NAXIS1']  # Width of the image\n",
    "naxis2 = header['NAXIS2']  # Height of the image\n",
    "\n",
    "# Function to check if pixel is within image bounds\n",
    "def is_within_image(x, y, nx, ny):\n",
    "    return (0 <= x < nx) and (0 <= y < ny)\n",
    "\n",
    "if is_within_image(x_pixel, y_pixel, naxis1, naxis2):\n",
    "    print(\"The sky coordinate is within the image.\")\n",
    "else:\n",
    "    print(\"The sky coordinate is outside the image.\")\n"
   ]
  },
  {
   "cell_type": "code",
   "execution_count": 15,
   "id": "711e700f",
   "metadata": {},
   "outputs": [
    {
     "name": "stdout",
     "output_type": "stream",
     "text": [
      "/Users/ahuxor/Astro_projects/GC_detection_in_images/PandAS_data/m001_g_ccd1.fit\r\n",
      "/Users/ahuxor/Astro_projects/GC_detection_in_images/PandAS_data/m001_g_ccd10.fit\r\n",
      "/Users/ahuxor/Astro_projects/GC_detection_in_images/PandAS_data/m001_g_ccd11.fit\r\n",
      "/Users/ahuxor/Astro_projects/GC_detection_in_images/PandAS_data/m001_g_ccd12.fit\r\n",
      "/Users/ahuxor/Astro_projects/GC_detection_in_images/PandAS_data/m001_g_ccd13.fit\r\n",
      "/Users/ahuxor/Astro_projects/GC_detection_in_images/PandAS_data/m001_g_ccd14.fit\r\n",
      "/Users/ahuxor/Astro_projects/GC_detection_in_images/PandAS_data/m001_g_ccd15.fit\r\n",
      "/Users/ahuxor/Astro_projects/GC_detection_in_images/PandAS_data/m001_g_ccd16.fit\r\n",
      "/Users/ahuxor/Astro_projects/GC_detection_in_images/PandAS_data/m001_g_ccd17.fit\r\n",
      "/Users/ahuxor/Astro_projects/GC_detection_in_images/PandAS_data/m001_g_ccd18.fit\r\n",
      "/Users/ahuxor/Astro_projects/GC_detection_in_images/PandAS_data/m001_g_ccd19.fit\r\n",
      "/Users/ahuxor/Astro_projects/GC_detection_in_images/PandAS_data/m001_g_ccd2.fit\r\n",
      "/Users/ahuxor/Astro_projects/GC_detection_in_images/PandAS_data/m001_g_ccd20.fit\r\n",
      "/Users/ahuxor/Astro_projects/GC_detection_in_images/PandAS_data/m001_g_ccd21.fit\r\n",
      "/Users/ahuxor/Astro_projects/GC_detection_in_images/PandAS_data/m001_g_ccd22.fit\r\n",
      "/Users/ahuxor/Astro_projects/GC_detection_in_images/PandAS_data/m001_g_ccd23.fit\r\n",
      "/Users/ahuxor/Astro_projects/GC_detection_in_images/PandAS_data/m001_g_ccd24.fit\r\n",
      "/Users/ahuxor/Astro_projects/GC_detection_in_images/PandAS_data/m001_g_ccd25.fit\r\n",
      "/Users/ahuxor/Astro_projects/GC_detection_in_images/PandAS_data/m001_g_ccd26.fit\r\n",
      "/Users/ahuxor/Astro_projects/GC_detection_in_images/PandAS_data/m001_g_ccd27.fit\r\n",
      "/Users/ahuxor/Astro_projects/GC_detection_in_images/PandAS_data/m001_g_ccd28.fit\r\n",
      "/Users/ahuxor/Astro_projects/GC_detection_in_images/PandAS_data/m001_g_ccd29.fit\r\n",
      "/Users/ahuxor/Astro_projects/GC_detection_in_images/PandAS_data/m001_g_ccd3.fit\r\n",
      "/Users/ahuxor/Astro_projects/GC_detection_in_images/PandAS_data/m001_g_ccd30.fit\r\n",
      "/Users/ahuxor/Astro_projects/GC_detection_in_images/PandAS_data/m001_g_ccd31.fit\r\n",
      "/Users/ahuxor/Astro_projects/GC_detection_in_images/PandAS_data/m001_g_ccd32.fit\r\n",
      "/Users/ahuxor/Astro_projects/GC_detection_in_images/PandAS_data/m001_g_ccd33.fit\r\n",
      "/Users/ahuxor/Astro_projects/GC_detection_in_images/PandAS_data/m001_g_ccd34.fit\r\n",
      "/Users/ahuxor/Astro_projects/GC_detection_in_images/PandAS_data/m001_g_ccd35.fit\r\n",
      "/Users/ahuxor/Astro_projects/GC_detection_in_images/PandAS_data/m001_g_ccd4.fit\r\n",
      "/Users/ahuxor/Astro_projects/GC_detection_in_images/PandAS_data/m001_g_ccd5.fit\r\n",
      "/Users/ahuxor/Astro_projects/GC_detection_in_images/PandAS_data/m001_g_ccd6.fit\r\n",
      "/Users/ahuxor/Astro_projects/GC_detection_in_images/PandAS_data/m001_g_ccd7.fit\r\n",
      "/Users/ahuxor/Astro_projects/GC_detection_in_images/PandAS_data/m001_g_ccd8.fit\r\n",
      "/Users/ahuxor/Astro_projects/GC_detection_in_images/PandAS_data/m001_g_ccd9.fit\r\n"
     ]
    }
   ],
   "source": [
    "! ls /Users/ahuxor/Astro_projects/GC_detection_in_images/PandAS_data/m001_g_ccd*"
   ]
  },
  {
   "cell_type": "code",
   "execution_count": 2,
   "id": "96d7afcc",
   "metadata": {},
   "outputs": [],
   "source": [
    "import glob\n",
    "\n",
    "# Example: Get all FITS files in a directory\n",
    "fits_files = glob.glob('../data/m005_g_ccd*.fit')"
   ]
  },
  {
   "cell_type": "markdown",
   "id": "fcb54f05",
   "metadata": {},
   "source": [
    "If we order all the csvs, then just limit the csv based on what mxxx there are.\n",
    "Code below, for one of the classes, go over all their ccds, if it is within said ccd, extract an image"
   ]
  },
  {
   "cell_type": "code",
   "execution_count": 2,
   "id": "cb3dc185",
   "metadata": {},
   "outputs": [
    {
     "name": "stderr",
     "output_type": "stream",
     "text": [
      "WARNING: FITSFixedWarning: RADECSYS= 'FK5 ' / Coordinate system for equinox (FK4/FK5/GAPPT) \n",
      "the RADECSYS keyword is deprecated, use RADESYSa. [astropy.wcs.wcs]\n",
      "WARNING: FITSFixedWarning: PROJP1 = 1.0000000E+00 \n",
      "the PROJPn keyword is deprecated, use PVi_ma. [astropy.wcs.wcs]\n",
      "WARNING: FITSFixedWarning: PROJP3 = 7.5000000E+01 \n",
      "the PROJPn keyword is deprecated, use PVi_ma. [astropy.wcs.wcs]\n",
      "WARNING: FITSFixedWarning: 'datfix' made the change 'Invalid parameter values: MJD-OBS and DATE-OBS are inconsistent'. [astropy.wcs.wcs]\n"
     ]
    },
    {
     "name": "stdout",
     "output_type": "stream",
     "text": [
      "The sky coordinate (11.574, 47.828555) is within the image.\n",
      "Cutout saved to: ../data/cutouts\\cutout_m381_g_ccd_10_11.574_47.828555.png\n"
     ]
    },
    {
     "name": "stderr",
     "output_type": "stream",
     "text": [
      "WARNING: FITSFixedWarning: RADECSYS= 'FK5 ' / Coordinate system for equinox (FK4/FK5/GAPPT) \n",
      "the RADECSYS keyword is deprecated, use RADESYSa. [astropy.wcs.wcs]\n",
      "WARNING: FITSFixedWarning: PROJP1 = 1.0000000E+00 \n",
      "the PROJPn keyword is deprecated, use PVi_ma. [astropy.wcs.wcs]\n",
      "WARNING: FITSFixedWarning: PROJP3 = 7.5000000E+01 \n",
      "the PROJPn keyword is deprecated, use PVi_ma. [astropy.wcs.wcs]\n",
      "WARNING: FITSFixedWarning: 'datfix' made the change 'Invalid parameter values: MJD-OBS and DATE-OBS are inconsistent'. [astropy.wcs.wcs]\n"
     ]
    },
    {
     "name": "stdout",
     "output_type": "stream",
     "text": [
      "The sky coordinate (10.222183, 47.686978) is within the image.\n",
      "Cutout saved to: ../data/cutouts\\cutout_m381_g_ccd_27_10.222183_47.686978.png\n"
     ]
    },
    {
     "name": "stderr",
     "output_type": "stream",
     "text": [
      "WARNING: FITSFixedWarning: RADECSYS= 'FK5 ' / Coordinate system for equinox (FK4/FK5/GAPPT) \n",
      "the RADECSYS keyword is deprecated, use RADESYSa. [astropy.wcs.wcs]\n",
      "WARNING: FITSFixedWarning: PROJP1 = 1.0000000E+00 \n",
      "the PROJPn keyword is deprecated, use PVi_ma. [astropy.wcs.wcs]\n",
      "WARNING: FITSFixedWarning: PROJP3 = 7.5000000E+01 \n",
      "the PROJPn keyword is deprecated, use PVi_ma. [astropy.wcs.wcs]\n",
      "WARNING: FITSFixedWarning: 'datfix' made the change 'Invalid parameter values: MJD-OBS and DATE-OBS are inconsistent'. [astropy.wcs.wcs]\n"
     ]
    },
    {
     "name": "stdout",
     "output_type": "stream",
     "text": [
      "The sky coordinate (10.906022, 47.452016) is within the image.\n",
      "Cutout saved to: ../data/cutouts\\cutout_m381_g_ccd_32_10.906022_47.452016.png\n"
     ]
    },
    {
     "name": "stderr",
     "output_type": "stream",
     "text": [
      "WARNING: FITSFixedWarning: RADECSYS= 'FK5 ' / Coordinate system for equinox (FK4/FK5/GAPPT) \n",
      "the RADECSYS keyword is deprecated, use RADESYSa. [astropy.wcs.wcs]\n",
      "WARNING: FITSFixedWarning: PROJP1 = 1.0000000E+00 \n",
      "the PROJPn keyword is deprecated, use PVi_ma. [astropy.wcs.wcs]\n",
      "WARNING: FITSFixedWarning: PROJP3 = 7.5000000E+01 \n",
      "the PROJPn keyword is deprecated, use PVi_ma. [astropy.wcs.wcs]\n",
      "WARNING: FITSFixedWarning: 'datfix' made the change 'Invalid parameter values: MJD-OBS and DATE-OBS are inconsistent'. [astropy.wcs.wcs]\n"
     ]
    },
    {
     "name": "stdout",
     "output_type": "stream",
     "text": [
      "The sky coordinate (10.25293, 47.988597) is within the image.\n",
      "Cutout saved to: ../data/cutouts\\cutout_m381_g_ccd_9_10.25293_47.988597.png\n"
     ]
    },
    {
     "name": "stderr",
     "output_type": "stream",
     "text": [
      "WARNING: FITSFixedWarning: RADECSYS= 'FK5 ' / Coordinate system for equinox (FK4/FK5/GAPPT) \n",
      "the RADECSYS keyword is deprecated, use RADESYSa. [astropy.wcs.wcs]\n",
      "WARNING: FITSFixedWarning: PROJP1 = 1.0000000E+00 \n",
      "the PROJPn keyword is deprecated, use PVi_ma. [astropy.wcs.wcs]\n",
      "WARNING: FITSFixedWarning: PROJP3 = 7.5000000E+01 \n",
      "the PROJPn keyword is deprecated, use PVi_ma. [astropy.wcs.wcs]\n",
      "WARNING: FITSFixedWarning: 'datfix' made the change 'Invalid parameter values: MJD-OBS and DATE-OBS are inconsistent'. [astropy.wcs.wcs]\n"
     ]
    },
    {
     "name": "stdout",
     "output_type": "stream",
     "text": [
      "The sky coordinate (10.222183, 47.686978) is within the image.\n",
      "Cutout saved to: ../data/cutouts\\cutout_m382_g_ccd_19_10.222183_47.686978.png\n"
     ]
    },
    {
     "name": "stderr",
     "output_type": "stream",
     "text": [
      "WARNING: FITSFixedWarning: RADECSYS= 'FK5 ' / Coordinate system for equinox (FK4/FK5/GAPPT) \n",
      "the RADECSYS keyword is deprecated, use RADESYSa. [astropy.wcs.wcs]\n",
      "WARNING: FITSFixedWarning: PROJP1 = 1.0000000E+00 \n",
      "the PROJPn keyword is deprecated, use PVi_ma. [astropy.wcs.wcs]\n",
      "WARNING: FITSFixedWarning: PROJP3 = 7.5000000E+01 \n",
      "the PROJPn keyword is deprecated, use PVi_ma. [astropy.wcs.wcs]\n",
      "WARNING: FITSFixedWarning: 'datfix' made the change 'Invalid parameter values: MJD-OBS and DATE-OBS are inconsistent'. [astropy.wcs.wcs]\n"
     ]
    },
    {
     "name": "stdout",
     "output_type": "stream",
     "text": [
      "The sky coordinate (9.538052, 47.556469) is within the image.\n",
      "Cutout saved to: ../data/cutouts\\cutout_m382_g_ccd_23_9.538052_47.556469.png\n"
     ]
    },
    {
     "name": "stderr",
     "output_type": "stream",
     "text": [
      "WARNING: FITSFixedWarning: RADECSYS= 'FK5 ' / Coordinate system for equinox (FK4/FK5/GAPPT) \n",
      "the RADECSYS keyword is deprecated, use RADESYSa. [astropy.wcs.wcs]\n",
      "WARNING: FITSFixedWarning: PROJP1 = 1.0000000E+00 \n",
      "the PROJPn keyword is deprecated, use PVi_ma. [astropy.wcs.wcs]\n",
      "WARNING: FITSFixedWarning: PROJP3 = 7.5000000E+01 \n",
      "the PROJPn keyword is deprecated, use PVi_ma. [astropy.wcs.wcs]\n",
      "WARNING: FITSFixedWarning: 'datfix' made the change 'Invalid parameter values: MJD-OBS and DATE-OBS are inconsistent'. [astropy.wcs.wcs]\n"
     ]
    },
    {
     "name": "stdout",
     "output_type": "stream",
     "text": [
      "The sky coordinate (8.808495, 47.557556) is within the image.\n",
      "Cutout saved to: ../data/cutouts\\cutout_m382_g_ccd_27_8.808495_47.557556.png\n"
     ]
    },
    {
     "name": "stderr",
     "output_type": "stream",
     "text": [
      "WARNING: FITSFixedWarning: RADECSYS= 'FK5 ' / Coordinate system for equinox (FK4/FK5/GAPPT) \n",
      "the RADECSYS keyword is deprecated, use RADESYSa. [astropy.wcs.wcs]\n",
      "WARNING: FITSFixedWarning: PROJP1 = 1.0000000E+00 \n",
      "the PROJPn keyword is deprecated, use PVi_ma. [astropy.wcs.wcs]\n",
      "WARNING: FITSFixedWarning: PROJP3 = 7.5000000E+01 \n",
      "the PROJPn keyword is deprecated, use PVi_ma. [astropy.wcs.wcs]\n",
      "WARNING: FITSFixedWarning: 'datfix' made the change 'Invalid parameter values: MJD-OBS and DATE-OBS are inconsistent'. [astropy.wcs.wcs]\n"
     ]
    },
    {
     "name": "stdout",
     "output_type": "stream",
     "text": [
      "The sky coordinate (9.669105, 47.381723) is within the image.\n",
      "Cutout saved to: ../data/cutouts\\cutout_m382_g_ccd_31_9.669105_47.381723.png\n"
     ]
    },
    {
     "name": "stderr",
     "output_type": "stream",
     "text": [
      "WARNING: FITSFixedWarning: RADECSYS= 'FK5 ' / Coordinate system for equinox (FK4/FK5/GAPPT) \n",
      "the RADECSYS keyword is deprecated, use RADESYSa. [astropy.wcs.wcs]\n",
      "WARNING: FITSFixedWarning: PROJP1 = 1.0000000E+00 \n",
      "the PROJPn keyword is deprecated, use PVi_ma. [astropy.wcs.wcs]\n",
      "WARNING: FITSFixedWarning: PROJP3 = 7.5000000E+01 \n",
      "the PROJPn keyword is deprecated, use PVi_ma. [astropy.wcs.wcs]\n",
      "WARNING: FITSFixedWarning: 'datfix' made the change 'Invalid parameter values: MJD-OBS and DATE-OBS are inconsistent'. [astropy.wcs.wcs]\n"
     ]
    },
    {
     "name": "stdout",
     "output_type": "stream",
     "text": [
      "The sky coordinate (8.801547, 48.169291) is within the image.\n",
      "Cutout saved to: ../data/cutouts\\cutout_m382_g_ccd_9_8.801547_48.169291.png\n"
     ]
    },
    {
     "name": "stderr",
     "output_type": "stream",
     "text": [
      "WARNING: FITSFixedWarning: RADECSYS= 'FK5 ' / Coordinate system for equinox (FK4/FK5/GAPPT) \n",
      "the RADECSYS keyword is deprecated, use RADESYSa. [astropy.wcs.wcs]\n",
      "WARNING: FITSFixedWarning: PROJP1 = 1.0000000E+00 \n",
      "the PROJPn keyword is deprecated, use PVi_ma. [astropy.wcs.wcs]\n",
      "WARNING: FITSFixedWarning: PROJP3 = 7.5000000E+01 \n",
      "the PROJPn keyword is deprecated, use PVi_ma. [astropy.wcs.wcs]\n",
      "WARNING: FITSFixedWarning: 'datfix' made the change 'Invalid parameter values: MJD-OBS and DATE-OBS are inconsistent'. [astropy.wcs.wcs]\n"
     ]
    },
    {
     "name": "stdout",
     "output_type": "stream",
     "text": [
      "The sky coordinate (20.553969, 47.625468) is within the image.\n",
      "Cutout saved to: ../data/cutouts\\cutout_m383_g_ccd_22_20.553969_47.625468.png\n"
     ]
    },
    {
     "name": "stderr",
     "output_type": "stream",
     "text": [
      "WARNING: FITSFixedWarning: RADECSYS= 'FK5 ' / Coordinate system for equinox (FK4/FK5/GAPPT) \n",
      "the RADECSYS keyword is deprecated, use RADESYSa. [astropy.wcs.wcs]\n",
      "WARNING: FITSFixedWarning: PROJP1 = 1.0000000E+00 \n",
      "the PROJPn keyword is deprecated, use PVi_ma. [astropy.wcs.wcs]\n",
      "WARNING: FITSFixedWarning: PROJP3 = 7.5000000E+01 \n",
      "the PROJPn keyword is deprecated, use PVi_ma. [astropy.wcs.wcs]\n",
      "WARNING: FITSFixedWarning: 'datfix' made the change 'Invalid parameter values: MJD-OBS and DATE-OBS are inconsistent'. [astropy.wcs.wcs]\n"
     ]
    },
    {
     "name": "stdout",
     "output_type": "stream",
     "text": [
      "The sky coordinate (20.780487, 48.041985) is within the image.\n",
      "Cutout saved to: ../data/cutouts\\cutout_m383_g_ccd_3_20.780487_48.041985.png\n"
     ]
    },
    {
     "name": "stderr",
     "output_type": "stream",
     "text": [
      "WARNING: FITSFixedWarning: RADECSYS= 'FK5 ' / Coordinate system for equinox (FK4/FK5/GAPPT) \n",
      "the RADECSYS keyword is deprecated, use RADESYSa. [astropy.wcs.wcs]\n",
      "WARNING: FITSFixedWarning: PROJP1 = 1.0000000E+00 \n",
      "the PROJPn keyword is deprecated, use PVi_ma. [astropy.wcs.wcs]\n",
      "WARNING: FITSFixedWarning: PROJP3 = 7.5000000E+01 \n",
      "the PROJPn keyword is deprecated, use PVi_ma. [astropy.wcs.wcs]\n",
      "WARNING: FITSFixedWarning: 'datfix' made the change 'Invalid parameter values: MJD-OBS and DATE-OBS are inconsistent'. [astropy.wcs.wcs]\n"
     ]
    },
    {
     "name": "stdout",
     "output_type": "stream",
     "text": [
      "The sky coordinate (20.506693, 48.040819) is within the image.\n",
      "Cutout saved to: ../data/cutouts\\cutout_m383_g_ccd_4_20.506693_48.040819.png\n"
     ]
    },
    {
     "name": "stderr",
     "output_type": "stream",
     "text": [
      "WARNING: FITSFixedWarning: RADECSYS= 'FK5 ' / Coordinate system for equinox (FK4/FK5/GAPPT) \n",
      "the RADECSYS keyword is deprecated, use RADESYSa. [astropy.wcs.wcs]\n",
      "WARNING: FITSFixedWarning: PROJP1 = 1.0000000E+00 \n",
      "the PROJPn keyword is deprecated, use PVi_ma. [astropy.wcs.wcs]\n",
      "WARNING: FITSFixedWarning: PROJP3 = 7.5000000E+01 \n",
      "the PROJPn keyword is deprecated, use PVi_ma. [astropy.wcs.wcs]\n",
      "WARNING: FITSFixedWarning: 'datfix' made the change 'Invalid parameter values: MJD-OBS and DATE-OBS are inconsistent'. [astropy.wcs.wcs]\n"
     ]
    },
    {
     "name": "stdout",
     "output_type": "stream",
     "text": [
      "The sky coordinate (0.635399, 48.073968) is within the image.\n",
      "Cutout saved to: ../data/cutouts\\cutout_m384_g_ccd_1_0.635399_48.073968.png\n"
     ]
    },
    {
     "name": "stderr",
     "output_type": "stream",
     "text": [
      "WARNING: FITSFixedWarning: RADECSYS= 'FK5 ' / Coordinate system for equinox (FK4/FK5/GAPPT) \n",
      "the RADECSYS keyword is deprecated, use RADESYSa. [astropy.wcs.wcs]\n",
      "WARNING: FITSFixedWarning: PROJP1 = 1.0000000E+00 \n",
      "the PROJPn keyword is deprecated, use PVi_ma. [astropy.wcs.wcs]\n",
      "WARNING: FITSFixedWarning: PROJP3 = 7.5000000E+01 \n",
      "the PROJPn keyword is deprecated, use PVi_ma. [astropy.wcs.wcs]\n",
      "WARNING: FITSFixedWarning: 'datfix' made the change 'Invalid parameter values: MJD-OBS and DATE-OBS are inconsistent'. [astropy.wcs.wcs]\n"
     ]
    },
    {
     "name": "stdout",
     "output_type": "stream",
     "text": [
      "The sky coordinate (0.635399, 48.073968) is within the image.\n",
      "Cutout saved to: ../data/cutouts\\cutout_m385_g_ccd_18_0.635399_48.073968.png\n"
     ]
    },
    {
     "name": "stderr",
     "output_type": "stream",
     "text": [
      "WARNING: FITSFixedWarning: RADECSYS= 'FK5 ' / Coordinate system for equinox (FK4/FK5/GAPPT) \n",
      "the RADECSYS keyword is deprecated, use RADESYSa. [astropy.wcs.wcs]\n",
      "WARNING: FITSFixedWarning: PROJP1 = 1.0000000E+00 \n",
      "the PROJPn keyword is deprecated, use PVi_ma. [astropy.wcs.wcs]\n",
      "WARNING: FITSFixedWarning: PROJP3 = 7.5000000E+01 \n",
      "the PROJPn keyword is deprecated, use PVi_ma. [astropy.wcs.wcs]\n",
      "WARNING: FITSFixedWarning: 'datfix' made the change 'Invalid parameter values: MJD-OBS and DATE-OBS are inconsistent'. [astropy.wcs.wcs]\n"
     ]
    },
    {
     "name": "stdout",
     "output_type": "stream",
     "text": [
      "The sky coordinate (1.72238, 48.237936) is within the image.\n",
      "Cutout saved to: ../data/cutouts\\cutout_m385_g_ccd_3_1.72238_48.237936.png\n"
     ]
    },
    {
     "name": "stderr",
     "output_type": "stream",
     "text": [
      "WARNING: FITSFixedWarning: RADECSYS= 'FK5 ' / Coordinate system for equinox (FK4/FK5/GAPPT) \n",
      "the RADECSYS keyword is deprecated, use RADESYSa. [astropy.wcs.wcs]\n",
      "WARNING: FITSFixedWarning: PROJP1 = 1.0000000E+00 \n",
      "the PROJPn keyword is deprecated, use PVi_ma. [astropy.wcs.wcs]\n",
      "WARNING: FITSFixedWarning: PROJP3 = 7.5000000E+01 \n",
      "the PROJPn keyword is deprecated, use PVi_ma. [astropy.wcs.wcs]\n",
      "WARNING: FITSFixedWarning: 'datfix' made the change 'Invalid parameter values: MJD-OBS and DATE-OBS are inconsistent'. [astropy.wcs.wcs]\n"
     ]
    },
    {
     "name": "stdout",
     "output_type": "stream",
     "text": [
      "The sky coordinate (3.189969, 47.693874) is within the image.\n",
      "Cutout saved to: ../data/cutouts\\cutout_m387_g_ccd_29_3.189969_47.693874.png\n"
     ]
    },
    {
     "name": "stderr",
     "output_type": "stream",
     "text": [
      "WARNING: FITSFixedWarning: RADECSYS= 'FK5 ' / Coordinate system for equinox (FK4/FK5/GAPPT) \n",
      "the RADECSYS keyword is deprecated, use RADESYSa. [astropy.wcs.wcs]\n",
      "WARNING: FITSFixedWarning: PROJP1 = 1.0000000E+00 \n",
      "the PROJPn keyword is deprecated, use PVi_ma. [astropy.wcs.wcs]\n",
      "WARNING: FITSFixedWarning: PROJP3 = 7.5000000E+01 \n",
      "the PROJPn keyword is deprecated, use PVi_ma. [astropy.wcs.wcs]\n",
      "WARNING: FITSFixedWarning: 'datfix' made the change 'Invalid parameter values: MJD-OBS and DATE-OBS are inconsistent'. [astropy.wcs.wcs]\n"
     ]
    },
    {
     "name": "stdout",
     "output_type": "stream",
     "text": [
      "The sky coordinate (2.279475, 48.364497) is within the image.\n",
      "Cutout saved to: ../data/cutouts\\cutout_m387_g_ccd_7_2.279475_48.364497.png\n"
     ]
    },
    {
     "name": "stderr",
     "output_type": "stream",
     "text": [
      "WARNING: FITSFixedWarning: RADECSYS= 'FK5 ' / Coordinate system for equinox (FK4/FK5/GAPPT) \n",
      "the RADECSYS keyword is deprecated, use RADESYSa. [astropy.wcs.wcs]\n",
      "WARNING: FITSFixedWarning: PROJP1 = 1.0000000E+00 \n",
      "the PROJPn keyword is deprecated, use PVi_ma. [astropy.wcs.wcs]\n",
      "WARNING: FITSFixedWarning: PROJP3 = 7.5000000E+01 \n",
      "the PROJPn keyword is deprecated, use PVi_ma. [astropy.wcs.wcs]\n",
      "WARNING: FITSFixedWarning: 'datfix' made the change 'Invalid parameter values: MJD-OBS and DATE-OBS are inconsistent'. [astropy.wcs.wcs]\n"
     ]
    },
    {
     "name": "stdout",
     "output_type": "stream",
     "text": [
      "The sky coordinate (18.228523, 48.059643) is within the image.\n",
      "Cutout saved to: ../data/cutouts\\cutout_m388_g_ccd_11_18.228523_48.059643.png\n"
     ]
    },
    {
     "name": "stderr",
     "output_type": "stream",
     "text": [
      "WARNING: FITSFixedWarning: RADECSYS= 'FK5 ' / Coordinate system for equinox (FK4/FK5/GAPPT) \n",
      "the RADECSYS keyword is deprecated, use RADESYSa. [astropy.wcs.wcs]\n",
      "WARNING: FITSFixedWarning: PROJP1 = 1.0000000E+00 \n",
      "the PROJPn keyword is deprecated, use PVi_ma. [astropy.wcs.wcs]\n",
      "WARNING: FITSFixedWarning: PROJP3 = 7.5000000E+01 \n",
      "the PROJPn keyword is deprecated, use PVi_ma. [astropy.wcs.wcs]\n",
      "WARNING: FITSFixedWarning: 'datfix' made the change 'Invalid parameter values: MJD-OBS and DATE-OBS are inconsistent'. [astropy.wcs.wcs]\n"
     ]
    },
    {
     "name": "stdout",
     "output_type": "stream",
     "text": [
      "The sky coordinate (17.132227, 47.820212) is within the image.\n",
      "Cutout saved to: ../data/cutouts\\cutout_m388_g_ccd_27_17.132227_47.820212.png\n"
     ]
    },
    {
     "name": "stderr",
     "output_type": "stream",
     "text": [
      "WARNING: FITSFixedWarning: RADECSYS= 'FK5 ' / Coordinate system for equinox (FK4/FK5/GAPPT) \n",
      "the RADECSYS keyword is deprecated, use RADESYSa. [astropy.wcs.wcs]\n",
      "WARNING: FITSFixedWarning: PROJP1 = 1.0000000E+00 \n",
      "the PROJPn keyword is deprecated, use PVi_ma. [astropy.wcs.wcs]\n",
      "WARNING: FITSFixedWarning: PROJP3 = 7.5000000E+01 \n",
      "the PROJPn keyword is deprecated, use PVi_ma. [astropy.wcs.wcs]\n",
      "WARNING: FITSFixedWarning: 'datfix' made the change 'Invalid parameter values: MJD-OBS and DATE-OBS are inconsistent'. [astropy.wcs.wcs]\n"
     ]
    },
    {
     "name": "stdout",
     "output_type": "stream",
     "text": [
      "The sky coordinate (18.395156, 47.711116) is within the image.\n",
      "Cutout saved to: ../data/cutouts\\cutout_m388_g_ccd_28_18.395156_47.711116.png\n"
     ]
    },
    {
     "name": "stderr",
     "output_type": "stream",
     "text": [
      "WARNING: FITSFixedWarning: RADECSYS= 'FK5 ' / Coordinate system for equinox (FK4/FK5/GAPPT) \n",
      "the RADECSYS keyword is deprecated, use RADESYSa. [astropy.wcs.wcs]\n",
      "WARNING: FITSFixedWarning: PROJP1 = 1.0000000E+00 \n",
      "the PROJPn keyword is deprecated, use PVi_ma. [astropy.wcs.wcs]\n",
      "WARNING: FITSFixedWarning: PROJP3 = 7.5000000E+01 \n",
      "the PROJPn keyword is deprecated, use PVi_ma. [astropy.wcs.wcs]\n",
      "WARNING: FITSFixedWarning: 'datfix' made the change 'Invalid parameter values: MJD-OBS and DATE-OBS are inconsistent'. [astropy.wcs.wcs]\n"
     ]
    },
    {
     "name": "stdout",
     "output_type": "stream",
     "text": [
      "The sky coordinate (17.464467, 47.597155) is within the image.\n",
      "Cutout saved to: ../data/cutouts\\cutout_m388_g_ccd_34_17.464467_47.597155.png\n"
     ]
    },
    {
     "name": "stderr",
     "output_type": "stream",
     "text": [
      "WARNING: FITSFixedWarning: RADECSYS= 'FK5 ' / Coordinate system for equinox (FK4/FK5/GAPPT) \n",
      "the RADECSYS keyword is deprecated, use RADESYSa. [astropy.wcs.wcs]\n",
      "WARNING: FITSFixedWarning: PROJP1 = 1.0000000E+00 \n",
      "the PROJPn keyword is deprecated, use PVi_ma. [astropy.wcs.wcs]\n",
      "WARNING: FITSFixedWarning: PROJP3 = 7.5000000E+01 \n",
      "the PROJPn keyword is deprecated, use PVi_ma. [astropy.wcs.wcs]\n",
      "WARNING: FITSFixedWarning: 'datfix' made the change 'Invalid parameter values: MJD-OBS and DATE-OBS are inconsistent'. [astropy.wcs.wcs]\n"
     ]
    },
    {
     "name": "stdout",
     "output_type": "stream",
     "text": [
      "The sky coordinate (17.804548, 48.421773) is within the image.\n",
      "Cutout saved to: ../data/cutouts\\cutout_m388_g_ccd_5_17.804548_48.421773.png\n"
     ]
    },
    {
     "name": "stderr",
     "output_type": "stream",
     "text": [
      "WARNING: FITSFixedWarning: RADECSYS= 'FK5 ' / Coordinate system for equinox (FK4/FK5/GAPPT) \n",
      "the RADECSYS keyword is deprecated, use RADESYSa. [astropy.wcs.wcs]\n",
      "WARNING: FITSFixedWarning: PROJP1 = 1.0000000E+00 \n",
      "the PROJPn keyword is deprecated, use PVi_ma. [astropy.wcs.wcs]\n",
      "WARNING: FITSFixedWarning: PROJP3 = 7.5000000E+01 \n",
      "the PROJPn keyword is deprecated, use PVi_ma. [astropy.wcs.wcs]\n",
      "WARNING: FITSFixedWarning: 'datfix' made the change 'Invalid parameter values: MJD-OBS and DATE-OBS are inconsistent'. [astropy.wcs.wcs]\n"
     ]
    },
    {
     "name": "stdout",
     "output_type": "stream",
     "text": [
      "The sky coordinate (4.626844, 48.260931) is within the image.\n",
      "Cutout saved to: ../data/cutouts\\cutout_m389_g_ccd_10_4.626844_48.260931.png\n"
     ]
    },
    {
     "name": "stderr",
     "output_type": "stream",
     "text": [
      "WARNING: FITSFixedWarning: RADECSYS= 'FK5 ' / Coordinate system for equinox (FK4/FK5/GAPPT) \n",
      "the RADECSYS keyword is deprecated, use RADESYSa. [astropy.wcs.wcs]\n",
      "WARNING: FITSFixedWarning: PROJP1 = 1.0000000E+00 \n",
      "the PROJPn keyword is deprecated, use PVi_ma. [astropy.wcs.wcs]\n",
      "WARNING: FITSFixedWarning: PROJP3 = 7.5000000E+01 \n",
      "the PROJPn keyword is deprecated, use PVi_ma. [astropy.wcs.wcs]\n",
      "WARNING: FITSFixedWarning: 'datfix' made the change 'Invalid parameter values: MJD-OBS and DATE-OBS are inconsistent'. [astropy.wcs.wcs]\n"
     ]
    },
    {
     "name": "stdout",
     "output_type": "stream",
     "text": [
      "The sky coordinate (3.642637, 48.254423) is within the image.\n",
      "Cutout saved to: ../data/cutouts\\cutout_m389_g_ccd_16_3.642637_48.254423.png\n"
     ]
    },
    {
     "name": "stderr",
     "output_type": "stream",
     "text": [
      "WARNING: FITSFixedWarning: RADECSYS= 'FK5 ' / Coordinate system for equinox (FK4/FK5/GAPPT) \n",
      "the RADECSYS keyword is deprecated, use RADESYSa. [astropy.wcs.wcs]\n",
      "WARNING: FITSFixedWarning: PROJP1 = 1.0000000E+00 \n",
      "the PROJPn keyword is deprecated, use PVi_ma. [astropy.wcs.wcs]\n",
      "WARNING: FITSFixedWarning: PROJP3 = 7.5000000E+01 \n",
      "the PROJPn keyword is deprecated, use PVi_ma. [astropy.wcs.wcs]\n",
      "WARNING: FITSFixedWarning: 'datfix' made the change 'Invalid parameter values: MJD-OBS and DATE-OBS are inconsistent'. [astropy.wcs.wcs]\n"
     ]
    },
    {
     "name": "stdout",
     "output_type": "stream",
     "text": [
      "The sky coordinate (4.721539, 48.016727) is within the image.\n",
      "Cutout saved to: ../data/cutouts\\cutout_m389_g_ccd_19_4.721539_48.016727.png\n"
     ]
    },
    {
     "name": "stderr",
     "output_type": "stream",
     "text": [
      "WARNING: FITSFixedWarning: RADECSYS= 'FK5 ' / Coordinate system for equinox (FK4/FK5/GAPPT) \n",
      "the RADECSYS keyword is deprecated, use RADESYSa. [astropy.wcs.wcs]\n",
      "WARNING: FITSFixedWarning: PROJP1 = 1.0000000E+00 \n",
      "the PROJPn keyword is deprecated, use PVi_ma. [astropy.wcs.wcs]\n",
      "WARNING: FITSFixedWarning: PROJP3 = 7.5000000E+01 \n",
      "the PROJPn keyword is deprecated, use PVi_ma. [astropy.wcs.wcs]\n",
      "WARNING: FITSFixedWarning: 'datfix' made the change 'Invalid parameter values: MJD-OBS and DATE-OBS are inconsistent'. [astropy.wcs.wcs]\n"
     ]
    },
    {
     "name": "stdout",
     "output_type": "stream",
     "text": [
      "The sky coordinate (4.496625, 47.766195) is within the image.\n",
      "Cutout saved to: ../data/cutouts\\cutout_m389_g_ccd_29_4.496625_47.766195.png\n"
     ]
    },
    {
     "name": "stderr",
     "output_type": "stream",
     "text": [
      "WARNING: FITSFixedWarning: RADECSYS= 'FK5 ' / Coordinate system for equinox (FK4/FK5/GAPPT) \n",
      "the RADECSYS keyword is deprecated, use RADESYSa. [astropy.wcs.wcs]\n",
      "WARNING: FITSFixedWarning: PROJP1 = 1.0000000E+00 \n",
      "the PROJPn keyword is deprecated, use PVi_ma. [astropy.wcs.wcs]\n",
      "WARNING: FITSFixedWarning: PROJP3 = 7.5000000E+01 \n",
      "the PROJPn keyword is deprecated, use PVi_ma. [astropy.wcs.wcs]\n",
      "WARNING: FITSFixedWarning: 'datfix' made the change 'Invalid parameter values: MJD-OBS and DATE-OBS are inconsistent'. [astropy.wcs.wcs]\n"
     ]
    },
    {
     "name": "stdout",
     "output_type": "stream",
     "text": [
      "The sky coordinate (3.683178, 48.579029) is within the image.\n",
      "Cutout saved to: ../data/cutouts\\cutout_m389_g_ccd_7_3.683178_48.579029.png\n"
     ]
    },
    {
     "name": "stderr",
     "output_type": "stream",
     "text": [
      "WARNING: FITSFixedWarning: RADECSYS= 'FK5 ' / Coordinate system for equinox (FK4/FK5/GAPPT) \n",
      "the RADECSYS keyword is deprecated, use RADESYSa. [astropy.wcs.wcs]\n",
      "WARNING: FITSFixedWarning: PROJP1 = 1.0000000E+00 \n",
      "the PROJPn keyword is deprecated, use PVi_ma. [astropy.wcs.wcs]\n",
      "WARNING: FITSFixedWarning: PROJP3 = 7.5000000E+01 \n",
      "the PROJPn keyword is deprecated, use PVi_ma. [astropy.wcs.wcs]\n",
      "WARNING: FITSFixedWarning: 'datfix' made the change 'Invalid parameter values: MJD-OBS and DATE-OBS are inconsistent'. [astropy.wcs.wcs]\n"
     ]
    },
    {
     "name": "stdout",
     "output_type": "stream",
     "text": [
      "The sky coordinate (5.460383, 48.269615) is within the image.\n",
      "Cutout saved to: ../data/cutouts\\cutout_m390_g_ccd_12_5.460383_48.269615.png\n"
     ]
    },
    {
     "name": "stderr",
     "output_type": "stream",
     "text": [
      "WARNING: FITSFixedWarning: RADECSYS= 'FK5 ' / Coordinate system for equinox (FK4/FK5/GAPPT) \n",
      "the RADECSYS keyword is deprecated, use RADESYSa. [astropy.wcs.wcs]\n",
      "WARNING: FITSFixedWarning: PROJP1 = 1.0000000E+00 \n",
      "the PROJPn keyword is deprecated, use PVi_ma. [astropy.wcs.wcs]\n",
      "WARNING: FITSFixedWarning: PROJP3 = 7.5000000E+01 \n",
      "the PROJPn keyword is deprecated, use PVi_ma. [astropy.wcs.wcs]\n",
      "WARNING: FITSFixedWarning: 'datfix' made the change 'Invalid parameter values: MJD-OBS and DATE-OBS are inconsistent'. [astropy.wcs.wcs]\n"
     ]
    },
    {
     "name": "stdout",
     "output_type": "stream",
     "text": [
      "The sky coordinate (4.626844, 48.260931) is within the image.\n",
      "Cutout saved to: ../data/cutouts\\cutout_m390_g_ccd_17_4.626844_48.260931.png\n"
     ]
    },
    {
     "name": "stderr",
     "output_type": "stream",
     "text": [
      "WARNING: FITSFixedWarning: RADECSYS= 'FK5 ' / Coordinate system for equinox (FK4/FK5/GAPPT) \n",
      "the RADECSYS keyword is deprecated, use RADESYSa. [astropy.wcs.wcs]\n",
      "WARNING: FITSFixedWarning: PROJP1 = 1.0000000E+00 \n",
      "the PROJPn keyword is deprecated, use PVi_ma. [astropy.wcs.wcs]\n",
      "WARNING: FITSFixedWarning: PROJP3 = 7.5000000E+01 \n",
      "the PROJPn keyword is deprecated, use PVi_ma. [astropy.wcs.wcs]\n",
      "WARNING: FITSFixedWarning: 'datfix' made the change 'Invalid parameter values: MJD-OBS and DATE-OBS are inconsistent'. [astropy.wcs.wcs]\n"
     ]
    },
    {
     "name": "stdout",
     "output_type": "stream",
     "text": [
      "The sky coordinate (4.721539, 48.016727) is within the image.\n",
      "Cutout saved to: ../data/cutouts\\cutout_m390_g_ccd_26_4.721539_48.016727.png\n"
     ]
    },
    {
     "name": "stderr",
     "output_type": "stream",
     "text": [
      "WARNING: FITSFixedWarning: RADECSYS= 'FK5 ' / Coordinate system for equinox (FK4/FK5/GAPPT) \n",
      "the RADECSYS keyword is deprecated, use RADESYSa. [astropy.wcs.wcs]\n",
      "WARNING: FITSFixedWarning: PROJP1 = 1.0000000E+00 \n",
      "the PROJPn keyword is deprecated, use PVi_ma. [astropy.wcs.wcs]\n",
      "WARNING: FITSFixedWarning: PROJP3 = 7.5000000E+01 \n",
      "the PROJPn keyword is deprecated, use PVi_ma. [astropy.wcs.wcs]\n",
      "WARNING: FITSFixedWarning: 'datfix' made the change 'Invalid parameter values: MJD-OBS and DATE-OBS are inconsistent'. [astropy.wcs.wcs]\n"
     ]
    },
    {
     "name": "stdout",
     "output_type": "stream",
     "text": [
      "The sky coordinate (5.44742, 47.701042) is within the image.\n",
      "Cutout saved to: ../data/cutouts\\cutout_m390_g_ccd_30_5.44742_47.701042.png\n"
     ]
    },
    {
     "name": "stderr",
     "output_type": "stream",
     "text": [
      "WARNING: FITSFixedWarning: RADECSYS= 'FK5 ' / Coordinate system for equinox (FK4/FK5/GAPPT) \n",
      "the RADECSYS keyword is deprecated, use RADESYSa. [astropy.wcs.wcs]\n",
      "WARNING: FITSFixedWarning: PROJP1 = 1.0000000E+00 \n",
      "the PROJPn keyword is deprecated, use PVi_ma. [astropy.wcs.wcs]\n",
      "WARNING: FITSFixedWarning: PROJP3 = 7.5000000E+01 \n",
      "the PROJPn keyword is deprecated, use PVi_ma. [astropy.wcs.wcs]\n",
      "WARNING: FITSFixedWarning: 'datfix' made the change 'Invalid parameter values: MJD-OBS and DATE-OBS are inconsistent'. [astropy.wcs.wcs]\n"
     ]
    },
    {
     "name": "stdout",
     "output_type": "stream",
     "text": [
      "The sky coordinate (4.949949, 47.737419) is within the image.\n",
      "Cutout saved to: ../data/cutouts\\cutout_m390_g_ccd_33_4.949949_47.737419.png\n"
     ]
    },
    {
     "name": "stderr",
     "output_type": "stream",
     "text": [
      "WARNING: FITSFixedWarning: RADECSYS= 'FK5 ' / Coordinate system for equinox (FK4/FK5/GAPPT) \n",
      "the RADECSYS keyword is deprecated, use RADESYSa. [astropy.wcs.wcs]\n",
      "WARNING: FITSFixedWarning: PROJP1 = 1.0000000E+00 \n",
      "the PROJPn keyword is deprecated, use PVi_ma. [astropy.wcs.wcs]\n",
      "WARNING: FITSFixedWarning: PROJP3 = 7.5000000E+01 \n",
      "the PROJPn keyword is deprecated, use PVi_ma. [astropy.wcs.wcs]\n",
      "WARNING: FITSFixedWarning: 'datfix' made the change 'Invalid parameter values: MJD-OBS and DATE-OBS are inconsistent'. [astropy.wcs.wcs]\n"
     ]
    },
    {
     "name": "stdout",
     "output_type": "stream",
     "text": [
      "The sky coordinate (4.496625, 47.766195) is within the image.\n",
      "Cutout saved to: ../data/cutouts\\cutout_m390_g_ccd_36_4.496625_47.766195.png\n"
     ]
    },
    {
     "name": "stderr",
     "output_type": "stream",
     "text": [
      "WARNING: FITSFixedWarning: RADECSYS= 'FK5 ' / Coordinate system for equinox (FK4/FK5/GAPPT) \n",
      "the RADECSYS keyword is deprecated, use RADESYSa. [astropy.wcs.wcs]\n",
      "WARNING: FITSFixedWarning: PROJP1 = 1.0000000E+00 \n",
      "the PROJPn keyword is deprecated, use PVi_ma. [astropy.wcs.wcs]\n",
      "WARNING: FITSFixedWarning: PROJP3 = 7.5000000E+01 \n",
      "the PROJPn keyword is deprecated, use PVi_ma. [astropy.wcs.wcs]\n",
      "WARNING: FITSFixedWarning: 'datfix' made the change 'Invalid parameter values: MJD-OBS and DATE-OBS are inconsistent'. [astropy.wcs.wcs]\n"
     ]
    },
    {
     "name": "stdout",
     "output_type": "stream",
     "text": [
      "The sky coordinate (4.791999, 48.428132) is within the image.\n",
      "Cutout saved to: ../data/cutouts\\cutout_m390_g_ccd_7_4.791999_48.428132.png\n"
     ]
    },
    {
     "name": "stderr",
     "output_type": "stream",
     "text": [
      "WARNING: FITSFixedWarning: RADECSYS= 'FK5 ' / Coordinate system for equinox (FK4/FK5/GAPPT) \n",
      "the RADECSYS keyword is deprecated, use RADESYSa. [astropy.wcs.wcs]\n",
      "WARNING: FITSFixedWarning: PROJP1 = 1.0000000E+00 \n",
      "the PROJPn keyword is deprecated, use PVi_ma. [astropy.wcs.wcs]\n",
      "WARNING: FITSFixedWarning: PROJP3 = 7.5000000E+01 \n",
      "the PROJPn keyword is deprecated, use PVi_ma. [astropy.wcs.wcs]\n",
      "WARNING: FITSFixedWarning: 'datfix' made the change 'Invalid parameter values: MJD-OBS and DATE-OBS are inconsistent'. [astropy.wcs.wcs]\n"
     ]
    },
    {
     "name": "stdout",
     "output_type": "stream",
     "text": [
      "The sky coordinate (16.11209, 48.26062) is within the image.\n",
      "Cutout saved to: ../data/cutouts\\cutout_m391_g_ccd_16_16.11209_48.26062.png\n"
     ]
    },
    {
     "name": "stderr",
     "output_type": "stream",
     "text": [
      "WARNING: FITSFixedWarning: RADECSYS= 'FK5 ' / Coordinate system for equinox (FK4/FK5/GAPPT) \n",
      "the RADECSYS keyword is deprecated, use RADESYSa. [astropy.wcs.wcs]\n",
      "WARNING: FITSFixedWarning: PROJP1 = 1.0000000E+00 \n",
      "the PROJPn keyword is deprecated, use PVi_ma. [astropy.wcs.wcs]\n",
      "WARNING: FITSFixedWarning: PROJP3 = 7.5000000E+01 \n",
      "the PROJPn keyword is deprecated, use PVi_ma. [astropy.wcs.wcs]\n",
      "WARNING: FITSFixedWarning: 'datfix' made the change 'Invalid parameter values: MJD-OBS and DATE-OBS are inconsistent'. [astropy.wcs.wcs]\n"
     ]
    },
    {
     "name": "stdout",
     "output_type": "stream",
     "text": [
      "The sky coordinate (16.784357, 47.685498) is within the image.\n",
      "Cutout saved to: ../data/cutouts\\cutout_m391_g_ccd_30_16.784357_47.685498.png\n"
     ]
    },
    {
     "name": "stderr",
     "output_type": "stream",
     "text": [
      "WARNING: FITSFixedWarning: RADECSYS= 'FK5 ' / Coordinate system for equinox (FK4/FK5/GAPPT) \n",
      "the RADECSYS keyword is deprecated, use RADESYSa. [astropy.wcs.wcs]\n",
      "WARNING: FITSFixedWarning: PROJP1 = 1.0000000E+00 \n",
      "the PROJPn keyword is deprecated, use PVi_ma. [astropy.wcs.wcs]\n",
      "WARNING: FITSFixedWarning: PROJP3 = 7.5000000E+01 \n",
      "the PROJPn keyword is deprecated, use PVi_ma. [astropy.wcs.wcs]\n",
      "WARNING: FITSFixedWarning: 'datfix' made the change 'Invalid parameter values: MJD-OBS and DATE-OBS are inconsistent'. [astropy.wcs.wcs]\n"
     ]
    },
    {
     "name": "stdout",
     "output_type": "stream",
     "text": [
      "The sky coordinate (16.457292, 47.619365) is within the image.\n",
      "Cutout saved to: ../data/cutouts\\cutout_m391_g_ccd_32_16.457292_47.619365.png\n"
     ]
    },
    {
     "name": "stderr",
     "output_type": "stream",
     "text": [
      "WARNING: FITSFixedWarning: RADECSYS= 'FK5 ' / Coordinate system for equinox (FK4/FK5/GAPPT) \n",
      "the RADECSYS keyword is deprecated, use RADESYSa. [astropy.wcs.wcs]\n",
      "WARNING: FITSFixedWarning: PROJP1 = 1.0000000E+00 \n",
      "the PROJPn keyword is deprecated, use PVi_ma. [astropy.wcs.wcs]\n",
      "WARNING: FITSFixedWarning: PROJP3 = 7.5000000E+01 \n",
      "the PROJPn keyword is deprecated, use PVi_ma. [astropy.wcs.wcs]\n",
      "WARNING: FITSFixedWarning: 'datfix' made the change 'Invalid parameter values: MJD-OBS and DATE-OBS are inconsistent'. [astropy.wcs.wcs]\n"
     ]
    },
    {
     "name": "stdout",
     "output_type": "stream",
     "text": [
      "The sky coordinate (16.190906, 48.531391) is within the image.\n",
      "Cutout saved to: ../data/cutouts\\cutout_m391_g_ccd_6_16.190906_48.531391.png\n"
     ]
    },
    {
     "name": "stderr",
     "output_type": "stream",
     "text": [
      "WARNING: FITSFixedWarning: RADECSYS= 'FK5 ' / Coordinate system for equinox (FK4/FK5/GAPPT) \n",
      "the RADECSYS keyword is deprecated, use RADESYSa. [astropy.wcs.wcs]\n",
      "WARNING: FITSFixedWarning: PROJP1 = 1.0000000E+00 \n",
      "the PROJPn keyword is deprecated, use PVi_ma. [astropy.wcs.wcs]\n",
      "WARNING: FITSFixedWarning: PROJP3 = 7.5000000E+01 \n",
      "the PROJPn keyword is deprecated, use PVi_ma. [astropy.wcs.wcs]\n",
      "WARNING: FITSFixedWarning: 'datfix' made the change 'Invalid parameter values: MJD-OBS and DATE-OBS are inconsistent'. [astropy.wcs.wcs]\n"
     ]
    },
    {
     "name": "stdout",
     "output_type": "stream",
     "text": [
      "The sky coordinate (15.109902, 48.039672) is within the image.\n",
      "Cutout saved to: ../data/cutouts\\cutout_m392_g_ccd_22_15.109902_48.039672.png\n"
     ]
    },
    {
     "name": "stderr",
     "output_type": "stream",
     "text": [
      "WARNING: FITSFixedWarning: RADECSYS= 'FK5 ' / Coordinate system for equinox (FK4/FK5/GAPPT) \n",
      "the RADECSYS keyword is deprecated, use RADESYSa. [astropy.wcs.wcs]\n",
      "WARNING: FITSFixedWarning: PROJP1 = 1.0000000E+00 \n",
      "the PROJPn keyword is deprecated, use PVi_ma. [astropy.wcs.wcs]\n",
      "WARNING: FITSFixedWarning: PROJP3 = 7.5000000E+01 \n",
      "the PROJPn keyword is deprecated, use PVi_ma. [astropy.wcs.wcs]\n",
      "WARNING: FITSFixedWarning: 'datfix' made the change 'Invalid parameter values: MJD-OBS and DATE-OBS are inconsistent'. [astropy.wcs.wcs]\n"
     ]
    },
    {
     "name": "stdout",
     "output_type": "stream",
     "text": [
      "The sky coordinate (14.714501, 47.901624) is within the image.\n",
      "Cutout saved to: ../data/cutouts\\cutout_m392_g_ccd_25_14.714501_47.901624.png\n"
     ]
    },
    {
     "name": "stderr",
     "output_type": "stream",
     "text": [
      "WARNING: FITSFixedWarning: RADECSYS= 'FK5 ' / Coordinate system for equinox (FK4/FK5/GAPPT) \n",
      "the RADECSYS keyword is deprecated, use RADESYSa. [astropy.wcs.wcs]\n",
      "WARNING: FITSFixedWarning: PROJP1 = 1.0000000E+00 \n",
      "the PROJPn keyword is deprecated, use PVi_ma. [astropy.wcs.wcs]\n",
      "WARNING: FITSFixedWarning: PROJP3 = 7.5000000E+01 \n",
      "the PROJPn keyword is deprecated, use PVi_ma. [astropy.wcs.wcs]\n",
      "WARNING: FITSFixedWarning: 'datfix' made the change 'Invalid parameter values: MJD-OBS and DATE-OBS are inconsistent'. [astropy.wcs.wcs]\n"
     ]
    },
    {
     "name": "stdout",
     "output_type": "stream",
     "text": [
      "The sky coordinate (14.567445, 48.081189) is within the image.\n",
      "Cutout saved to: ../data/cutouts\\cutout_m392_g_ccd_26_14.567445_48.081189.png\n"
     ]
    },
    {
     "name": "stderr",
     "output_type": "stream",
     "text": [
      "WARNING: FITSFixedWarning: RADECSYS= 'FK5 ' / Coordinate system for equinox (FK4/FK5/GAPPT) \n",
      "the RADECSYS keyword is deprecated, use RADESYSa. [astropy.wcs.wcs]\n",
      "WARNING: FITSFixedWarning: PROJP1 = 1.0000000E+00 \n",
      "the PROJPn keyword is deprecated, use PVi_ma. [astropy.wcs.wcs]\n",
      "WARNING: FITSFixedWarning: PROJP3 = 7.5000000E+01 \n",
      "the PROJPn keyword is deprecated, use PVi_ma. [astropy.wcs.wcs]\n",
      "WARNING: FITSFixedWarning: 'datfix' made the change 'Invalid parameter values: MJD-OBS and DATE-OBS are inconsistent'. [astropy.wcs.wcs]\n"
     ]
    },
    {
     "name": "stdout",
     "output_type": "stream",
     "text": [
      "The sky coordinate (14.712664, 47.653926) is within the image.\n",
      "Cutout saved to: ../data/cutouts\\cutout_m392_g_ccd_34_14.712664_47.653926.png\n"
     ]
    },
    {
     "name": "stderr",
     "output_type": "stream",
     "text": [
      "WARNING: FITSFixedWarning: RADECSYS= 'FK5 ' / Coordinate system for equinox (FK4/FK5/GAPPT) \n",
      "the RADECSYS keyword is deprecated, use RADESYSa. [astropy.wcs.wcs]\n",
      "WARNING: FITSFixedWarning: PROJP1 = 1.0000000E+00 \n",
      "the PROJPn keyword is deprecated, use PVi_ma. [astropy.wcs.wcs]\n",
      "WARNING: FITSFixedWarning: PROJP3 = 7.5000000E+01 \n",
      "the PROJPn keyword is deprecated, use PVi_ma. [astropy.wcs.wcs]\n",
      "WARNING: FITSFixedWarning: 'datfix' made the change 'Invalid parameter values: MJD-OBS and DATE-OBS are inconsistent'. [astropy.wcs.wcs]\n"
     ]
    },
    {
     "name": "stdout",
     "output_type": "stream",
     "text": [
      "The sky coordinate (14.279342, 47.862121) is within the image.\n",
      "Cutout saved to: ../data/cutouts\\cutout_m392_g_ccd_36_14.279342_47.862121.png\n"
     ]
    },
    {
     "name": "stderr",
     "output_type": "stream",
     "text": [
      "WARNING: FITSFixedWarning: RADECSYS= 'FK5 ' / Coordinate system for equinox (FK4/FK5/GAPPT) \n",
      "the RADECSYS keyword is deprecated, use RADESYSa. [astropy.wcs.wcs]\n",
      "WARNING: FITSFixedWarning: PROJP1 = 1.0000000E+00 \n",
      "the PROJPn keyword is deprecated, use PVi_ma. [astropy.wcs.wcs]\n",
      "WARNING: FITSFixedWarning: PROJP3 = 7.5000000E+01 \n",
      "the PROJPn keyword is deprecated, use PVi_ma. [astropy.wcs.wcs]\n",
      "WARNING: FITSFixedWarning: 'datfix' made the change 'Invalid parameter values: MJD-OBS and DATE-OBS are inconsistent'. [astropy.wcs.wcs]\n"
     ]
    },
    {
     "name": "stdout",
     "output_type": "stream",
     "text": [
      "The sky coordinate (14.792942, 48.574295) is within the image.\n",
      "Cutout saved to: ../data/cutouts\\cutout_m392_g_ccd_6_14.792942_48.574295.png\n"
     ]
    },
    {
     "name": "stderr",
     "output_type": "stream",
     "text": [
      "WARNING: FITSFixedWarning: RADECSYS= 'FK5 ' / Coordinate system for equinox (FK4/FK5/GAPPT) \n",
      "the RADECSYS keyword is deprecated, use RADESYSa. [astropy.wcs.wcs]\n",
      "WARNING: FITSFixedWarning: PROJP1 = 1.0000000E+00 \n",
      "the PROJPn keyword is deprecated, use PVi_ma. [astropy.wcs.wcs]\n",
      "WARNING: FITSFixedWarning: PROJP3 = 7.5000000E+01 \n",
      "the PROJPn keyword is deprecated, use PVi_ma. [astropy.wcs.wcs]\n",
      "WARNING: FITSFixedWarning: 'datfix' made the change 'Invalid parameter values: MJD-OBS and DATE-OBS are inconsistent'. [astropy.wcs.wcs]\n"
     ]
    },
    {
     "name": "stdout",
     "output_type": "stream",
     "text": [
      "The sky coordinate (14.279342, 47.862121) is within the image.\n",
      "Cutout saved to: ../data/cutouts\\cutout_m393_g_ccd_28_14.279342_47.862121.png\n"
     ]
    },
    {
     "name": "stderr",
     "output_type": "stream",
     "text": [
      "WARNING: FITSFixedWarning: RADECSYS= 'FK5 ' / Coordinate system for equinox (FK4/FK5/GAPPT) \n",
      "the RADECSYS keyword is deprecated, use RADESYSa. [astropy.wcs.wcs]\n",
      "WARNING: FITSFixedWarning: PROJP1 = 1.0000000E+00 \n",
      "the PROJPn keyword is deprecated, use PVi_ma. [astropy.wcs.wcs]\n",
      "WARNING: FITSFixedWarning: PROJP3 = 7.5000000E+01 \n",
      "the PROJPn keyword is deprecated, use PVi_ma. [astropy.wcs.wcs]\n",
      "WARNING: FITSFixedWarning: 'datfix' made the change 'Invalid parameter values: MJD-OBS and DATE-OBS are inconsistent'. [astropy.wcs.wcs]\n"
     ]
    },
    {
     "name": "stdout",
     "output_type": "stream",
     "text": [
      "The sky coordinate (6.050245, 48.291811) is within the image.\n",
      "Cutout saved to: ../data/cutouts\\cutout_m394_g_ccd_18_6.050245_48.291811.png\n"
     ]
    },
    {
     "name": "stderr",
     "output_type": "stream",
     "text": [
      "WARNING: FITSFixedWarning: RADECSYS= 'FK5 ' / Coordinate system for equinox (FK4/FK5/GAPPT) \n",
      "the RADECSYS keyword is deprecated, use RADESYSa. [astropy.wcs.wcs]\n",
      "WARNING: FITSFixedWarning: PROJP1 = 1.0000000E+00 \n",
      "the PROJPn keyword is deprecated, use PVi_ma. [astropy.wcs.wcs]\n",
      "WARNING: FITSFixedWarning: PROJP3 = 7.5000000E+01 \n",
      "the PROJPn keyword is deprecated, use PVi_ma. [astropy.wcs.wcs]\n",
      "WARNING: FITSFixedWarning: 'datfix' made the change 'Invalid parameter values: MJD-OBS and DATE-OBS are inconsistent'. [astropy.wcs.wcs]\n"
     ]
    },
    {
     "name": "stdout",
     "output_type": "stream",
     "text": [
      "The sky coordinate (7.032969, 48.10094) is within the image.\n",
      "Cutout saved to: ../data/cutouts\\cutout_m394_g_ccd_21_7.032969_48.10094.png\n"
     ]
    },
    {
     "name": "stderr",
     "output_type": "stream",
     "text": [
      "WARNING: FITSFixedWarning: RADECSYS= 'FK5 ' / Coordinate system for equinox (FK4/FK5/GAPPT) \n",
      "the RADECSYS keyword is deprecated, use RADESYSa. [astropy.wcs.wcs]\n",
      "WARNING: FITSFixedWarning: PROJP1 = 1.0000000E+00 \n",
      "the PROJPn keyword is deprecated, use PVi_ma. [astropy.wcs.wcs]\n",
      "WARNING: FITSFixedWarning: PROJP3 = 7.5000000E+01 \n",
      "the PROJPn keyword is deprecated, use PVi_ma. [astropy.wcs.wcs]\n",
      "WARNING: FITSFixedWarning: 'datfix' made the change 'Invalid parameter values: MJD-OBS and DATE-OBS are inconsistent'. [astropy.wcs.wcs]\n"
     ]
    },
    {
     "name": "stdout",
     "output_type": "stream",
     "text": [
      "The sky coordinate (6.777431, 47.851317) is within the image.\n",
      "Cutout saved to: ../data/cutouts\\cutout_m394_g_ccd_31_6.777431_47.851317.png\n"
     ]
    },
    {
     "name": "stderr",
     "output_type": "stream",
     "text": [
      "WARNING: FITSFixedWarning: RADECSYS= 'FK5 ' / Coordinate system for equinox (FK4/FK5/GAPPT) \n",
      "the RADECSYS keyword is deprecated, use RADESYSa. [astropy.wcs.wcs]\n",
      "WARNING: FITSFixedWarning: PROJP1 = 1.0000000E+00 \n",
      "the PROJPn keyword is deprecated, use PVi_ma. [astropy.wcs.wcs]\n",
      "WARNING: FITSFixedWarning: PROJP3 = 7.5000000E+01 \n",
      "the PROJPn keyword is deprecated, use PVi_ma. [astropy.wcs.wcs]\n",
      "WARNING: FITSFixedWarning: 'datfix' made the change 'Invalid parameter values: MJD-OBS and DATE-OBS are inconsistent'. [astropy.wcs.wcs]\n"
     ]
    },
    {
     "name": "stdout",
     "output_type": "stream",
     "text": [
      "The sky coordinate (8.755915, 48.59004) is within the image.\n",
      "Cutout saved to: ../data/cutouts\\cutout_m395_g_ccd_1_8.755915_48.59004.png\n",
      "The sky coordinate (8.801547, 48.169291) is within the image.\n",
      "Cutout saved to: ../data/cutouts\\cutout_m395_g_ccd_10_8.801547_48.169291.png\n"
     ]
    },
    {
     "name": "stderr",
     "output_type": "stream",
     "text": [
      "WARNING: FITSFixedWarning: RADECSYS= 'FK5 ' / Coordinate system for equinox (FK4/FK5/GAPPT) \n",
      "the RADECSYS keyword is deprecated, use RADESYSa. [astropy.wcs.wcs]\n",
      "WARNING: FITSFixedWarning: PROJP1 = 1.0000000E+00 \n",
      "the PROJPn keyword is deprecated, use PVi_ma. [astropy.wcs.wcs]\n",
      "WARNING: FITSFixedWarning: PROJP3 = 7.5000000E+01 \n",
      "the PROJPn keyword is deprecated, use PVi_ma. [astropy.wcs.wcs]\n",
      "WARNING: FITSFixedWarning: 'datfix' made the change 'Invalid parameter values: MJD-OBS and DATE-OBS are inconsistent'. [astropy.wcs.wcs]\n",
      "WARNING: FITSFixedWarning: RADECSYS= 'FK5 ' / Coordinate system for equinox (FK4/FK5/GAPPT) \n",
      "the RADECSYS keyword is deprecated, use RADESYSa. [astropy.wcs.wcs]\n",
      "WARNING: FITSFixedWarning: PROJP1 = 1.0000000E+00 \n",
      "the PROJPn keyword is deprecated, use PVi_ma. [astropy.wcs.wcs]\n",
      "WARNING: FITSFixedWarning: PROJP3 = 7.5000000E+01 \n",
      "the PROJPn keyword is deprecated, use PVi_ma. [astropy.wcs.wcs]\n",
      "WARNING: FITSFixedWarning: 'datfix' made the change 'Invalid parameter values: MJD-OBS and DATE-OBS are inconsistent'. [astropy.wcs.wcs]\n"
     ]
    },
    {
     "name": "stdout",
     "output_type": "stream",
     "text": [
      "The sky coordinate (8.599014, 48.372806) is within the image.\n",
      "Cutout saved to: ../data/cutouts\\cutout_m395_g_ccd_11_8.599014_48.372806.png\n"
     ]
    },
    {
     "name": "stderr",
     "output_type": "stream",
     "text": [
      "WARNING: FITSFixedWarning: RADECSYS= 'FK5 ' / Coordinate system for equinox (FK4/FK5/GAPPT) \n",
      "the RADECSYS keyword is deprecated, use RADESYSa. [astropy.wcs.wcs]\n",
      "WARNING: FITSFixedWarning: PROJP1 = 1.0000000E+00 \n",
      "the PROJPn keyword is deprecated, use PVi_ma. [astropy.wcs.wcs]\n",
      "WARNING: FITSFixedWarning: PROJP3 = 7.5000000E+01 \n",
      "the PROJPn keyword is deprecated, use PVi_ma. [astropy.wcs.wcs]\n",
      "WARNING: FITSFixedWarning: 'datfix' made the change 'Invalid parameter values: MJD-OBS and DATE-OBS are inconsistent'. [astropy.wcs.wcs]\n"
     ]
    },
    {
     "name": "stdout",
     "output_type": "stream",
     "text": [
      "The sky coordinate (8.270117, 48.184112) is within the image.\n",
      "Cutout saved to: ../data/cutouts\\cutout_m395_g_ccd_13_8.270117_48.184112.png\n"
     ]
    },
    {
     "name": "stderr",
     "output_type": "stream",
     "text": [
      "WARNING: FITSFixedWarning: RADECSYS= 'FK5 ' / Coordinate system for equinox (FK4/FK5/GAPPT) \n",
      "the RADECSYS keyword is deprecated, use RADESYSa. [astropy.wcs.wcs]\n",
      "WARNING: FITSFixedWarning: PROJP1 = 1.0000000E+00 \n",
      "the PROJPn keyword is deprecated, use PVi_ma. [astropy.wcs.wcs]\n",
      "WARNING: FITSFixedWarning: PROJP3 = 7.5000000E+01 \n",
      "the PROJPn keyword is deprecated, use PVi_ma. [astropy.wcs.wcs]\n",
      "WARNING: FITSFixedWarning: 'datfix' made the change 'Invalid parameter values: MJD-OBS and DATE-OBS are inconsistent'. [astropy.wcs.wcs]\n"
     ]
    },
    {
     "name": "stdout",
     "output_type": "stream",
     "text": [
      "The sky coordinate (8.521929, 48.104229) is within the image.\n",
      "Cutout saved to: ../data/cutouts\\cutout_m395_g_ccd_21_8.521929_48.104229.png\n"
     ]
    },
    {
     "name": "stderr",
     "output_type": "stream",
     "text": [
      "WARNING: FITSFixedWarning: RADECSYS= 'FK5 ' / Coordinate system for equinox (FK4/FK5/GAPPT) \n",
      "the RADECSYS keyword is deprecated, use RADESYSa. [astropy.wcs.wcs]\n",
      "WARNING: FITSFixedWarning: PROJP1 = 1.0000000E+00 \n",
      "the PROJPn keyword is deprecated, use PVi_ma. [astropy.wcs.wcs]\n",
      "WARNING: FITSFixedWarning: PROJP3 = 7.5000000E+01 \n",
      "the PROJPn keyword is deprecated, use PVi_ma. [astropy.wcs.wcs]\n",
      "WARNING: FITSFixedWarning: 'datfix' made the change 'Invalid parameter values: MJD-OBS and DATE-OBS are inconsistent'. [astropy.wcs.wcs]\n"
     ]
    },
    {
     "name": "stdout",
     "output_type": "stream",
     "text": [
      "The sky coordinate (8.095838, 47.997353) is within the image.\n",
      "Cutout saved to: ../data/cutouts\\cutout_m395_g_ccd_23_8.095838_47.997353.png\n"
     ]
    },
    {
     "name": "stderr",
     "output_type": "stream",
     "text": [
      "WARNING: FITSFixedWarning: RADECSYS= 'FK5 ' / Coordinate system for equinox (FK4/FK5/GAPPT) \n",
      "the RADECSYS keyword is deprecated, use RADESYSa. [astropy.wcs.wcs]\n",
      "WARNING: FITSFixedWarning: PROJP1 = 1.0000000E+00 \n",
      "the PROJPn keyword is deprecated, use PVi_ma. [astropy.wcs.wcs]\n",
      "WARNING: FITSFixedWarning: PROJP3 = 7.5000000E+01 \n",
      "the PROJPn keyword is deprecated, use PVi_ma. [astropy.wcs.wcs]\n",
      "WARNING: FITSFixedWarning: 'datfix' made the change 'Invalid parameter values: MJD-OBS and DATE-OBS are inconsistent'. [astropy.wcs.wcs]\n"
     ]
    },
    {
     "name": "stdout",
     "output_type": "stream",
     "text": [
      "The sky coordinate (8.431023, 48.600061) is within the image.\n",
      "Cutout saved to: ../data/cutouts\\cutout_m395_g_ccd_3_8.431023_48.600061.png\n"
     ]
    },
    {
     "name": "stderr",
     "output_type": "stream",
     "text": [
      "WARNING: FITSFixedWarning: RADECSYS= 'FK5 ' / Coordinate system for equinox (FK4/FK5/GAPPT) \n",
      "the RADECSYS keyword is deprecated, use RADESYSa. [astropy.wcs.wcs]\n",
      "WARNING: FITSFixedWarning: PROJP1 = 1.0000000E+00 \n",
      "the PROJPn keyword is deprecated, use PVi_ma. [astropy.wcs.wcs]\n",
      "WARNING: FITSFixedWarning: PROJP3 = 7.5000000E+01 \n",
      "the PROJPn keyword is deprecated, use PVi_ma. [astropy.wcs.wcs]\n",
      "WARNING: FITSFixedWarning: 'datfix' made the change 'Invalid parameter values: MJD-OBS and DATE-OBS are inconsistent'. [astropy.wcs.wcs]\n"
     ]
    },
    {
     "name": "stdout",
     "output_type": "stream",
     "text": [
      "The sky coordinate (7.552902, 48.465202) is within the image.\n",
      "Cutout saved to: ../data/cutouts\\cutout_m395_g_ccd_8_7.552902_48.465202.png\n"
     ]
    },
    {
     "name": "stderr",
     "output_type": "stream",
     "text": [
      "WARNING: FITSFixedWarning: RADECSYS= 'FK5 ' / Coordinate system for equinox (FK4/FK5/GAPPT) \n",
      "the RADECSYS keyword is deprecated, use RADESYSa. [astropy.wcs.wcs]\n",
      "WARNING: FITSFixedWarning: PROJP1 = 1.0000000E+00 \n",
      "the PROJPn keyword is deprecated, use PVi_ma. [astropy.wcs.wcs]\n",
      "WARNING: FITSFixedWarning: PROJP3 = 7.5000000E+01 \n",
      "the PROJPn keyword is deprecated, use PVi_ma. [astropy.wcs.wcs]\n",
      "WARNING: FITSFixedWarning: 'datfix' made the change 'Invalid parameter values: MJD-OBS and DATE-OBS are inconsistent'. [astropy.wcs.wcs]\n"
     ]
    },
    {
     "name": "stdout",
     "output_type": "stream",
     "text": [
      "The sky coordinate (12.859575, 48.960821) is within the image.\n",
      "Cutout saved to: ../data/cutouts\\cutout_m396_g_ccd_1_12.859575_48.960821.png\n"
     ]
    },
    {
     "name": "stderr",
     "output_type": "stream",
     "text": [
      "WARNING: FITSFixedWarning: RADECSYS= 'FK5 ' / Coordinate system for equinox (FK4/FK5/GAPPT) \n",
      "the RADECSYS keyword is deprecated, use RADESYSa. [astropy.wcs.wcs]\n",
      "WARNING: FITSFixedWarning: PROJP1 = 1.0000000E+00 \n",
      "the PROJPn keyword is deprecated, use PVi_ma. [astropy.wcs.wcs]\n",
      "WARNING: FITSFixedWarning: PROJP3 = 7.5000000E+01 \n",
      "the PROJPn keyword is deprecated, use PVi_ma. [astropy.wcs.wcs]\n",
      "WARNING: FITSFixedWarning: 'datfix' made the change 'Invalid parameter values: MJD-OBS and DATE-OBS are inconsistent'. [astropy.wcs.wcs]\n"
     ]
    },
    {
     "name": "stdout",
     "output_type": "stream",
     "text": [
      "The sky coordinate (12.627822, 48.065792) is within the image.\n",
      "Cutout saved to: ../data/cutouts\\cutout_m396_g_ccd_29_12.627822_48.065792.png\n"
     ]
    },
    {
     "name": "stderr",
     "output_type": "stream",
     "text": [
      "WARNING: FITSFixedWarning: RADECSYS= 'FK5 ' / Coordinate system for equinox (FK4/FK5/GAPPT) \n",
      "the RADECSYS keyword is deprecated, use RADESYSa. [astropy.wcs.wcs]\n",
      "WARNING: FITSFixedWarning: PROJP1 = 1.0000000E+00 \n",
      "the PROJPn keyword is deprecated, use PVi_ma. [astropy.wcs.wcs]\n",
      "WARNING: FITSFixedWarning: PROJP3 = 7.5000000E+01 \n",
      "the PROJPn keyword is deprecated, use PVi_ma. [astropy.wcs.wcs]\n",
      "WARNING: FITSFixedWarning: 'datfix' made the change 'Invalid parameter values: MJD-OBS and DATE-OBS are inconsistent'. [astropy.wcs.wcs]\n"
     ]
    },
    {
     "name": "stdout",
     "output_type": "stream",
     "text": [
      "The sky coordinate (11.314694, 48.308261) is within the image.\n",
      "Cutout saved to: ../data/cutouts\\cutout_m397_g_ccd_30_11.314694_48.308261.png\n"
     ]
    },
    {
     "name": "stderr",
     "output_type": "stream",
     "text": [
      "WARNING: FITSFixedWarning: RADECSYS= 'FK5 ' / Coordinate system for equinox (FK4/FK5/GAPPT) \n",
      "the RADECSYS keyword is deprecated, use RADESYSa. [astropy.wcs.wcs]\n",
      "WARNING: FITSFixedWarning: PROJP1 = 1.0000000E+00 \n",
      "the PROJPn keyword is deprecated, use PVi_ma. [astropy.wcs.wcs]\n",
      "WARNING: FITSFixedWarning: PROJP3 = 7.5000000E+01 \n",
      "the PROJPn keyword is deprecated, use PVi_ma. [astropy.wcs.wcs]\n",
      "WARNING: FITSFixedWarning: 'datfix' made the change 'Invalid parameter values: MJD-OBS and DATE-OBS are inconsistent'. [astropy.wcs.wcs]\n"
     ]
    },
    {
     "name": "stdout",
     "output_type": "stream",
     "text": [
      "The sky coordinate (9.739549, 48.819328) is within the image.\n",
      "Cutout saved to: ../data/cutouts\\cutout_m398_g_ccd_13_9.739549_48.819328.png\n"
     ]
    },
    {
     "name": "stderr",
     "output_type": "stream",
     "text": [
      "WARNING: FITSFixedWarning: RADECSYS= 'FK5 ' / Coordinate system for equinox (FK4/FK5/GAPPT) \n",
      "the RADECSYS keyword is deprecated, use RADESYSa. [astropy.wcs.wcs]\n",
      "WARNING: FITSFixedWarning: PROJP1 = 1.0000000E+00 \n",
      "the PROJPn keyword is deprecated, use PVi_ma. [astropy.wcs.wcs]\n",
      "WARNING: FITSFixedWarning: PROJP3 = 7.5000000E+01 \n",
      "the PROJPn keyword is deprecated, use PVi_ma. [astropy.wcs.wcs]\n",
      "WARNING: FITSFixedWarning: 'datfix' made the change 'Invalid parameter values: MJD-OBS and DATE-OBS are inconsistent'. [astropy.wcs.wcs]\n"
     ]
    },
    {
     "name": "stdout",
     "output_type": "stream",
     "text": [
      "The sky coordinate (9.578037, 48.557292) is within the image.\n",
      "Cutout saved to: ../data/cutouts\\cutout_m398_g_ccd_23_9.578037_48.557292.png\n"
     ]
    },
    {
     "name": "stderr",
     "output_type": "stream",
     "text": [
      "WARNING: FITSFixedWarning: RADECSYS= 'FK5 ' / Coordinate system for equinox (FK4/FK5/GAPPT) \n",
      "the RADECSYS keyword is deprecated, use RADESYSa. [astropy.wcs.wcs]\n",
      "WARNING: FITSFixedWarning: PROJP1 = 1.0000000E+00 \n",
      "the PROJPn keyword is deprecated, use PVi_ma. [astropy.wcs.wcs]\n",
      "WARNING: FITSFixedWarning: PROJP3 = 7.5000000E+01 \n",
      "the PROJPn keyword is deprecated, use PVi_ma. [astropy.wcs.wcs]\n",
      "WARNING: FITSFixedWarning: 'datfix' made the change 'Invalid parameter values: MJD-OBS and DATE-OBS are inconsistent'. [astropy.wcs.wcs]\n"
     ]
    },
    {
     "name": "stdout",
     "output_type": "stream",
     "text": [
      "The sky coordinate (9.578457, 48.457107) is within the image.\n",
      "Cutout saved to: ../data/cutouts\\cutout_m398_g_ccd_32_9.578457_48.457107.png\n"
     ]
    },
    {
     "name": "stderr",
     "output_type": "stream",
     "text": [
      "WARNING: FITSFixedWarning: RADECSYS= 'FK5 ' / Coordinate system for equinox (FK4/FK5/GAPPT) \n",
      "the RADECSYS keyword is deprecated, use RADESYSa. [astropy.wcs.wcs]\n",
      "WARNING: FITSFixedWarning: PROJP1 = 1.0000000E+00 \n",
      "the PROJPn keyword is deprecated, use PVi_ma. [astropy.wcs.wcs]\n",
      "WARNING: FITSFixedWarning: PROJP3 = 7.5000000E+01 \n",
      "the PROJPn keyword is deprecated, use PVi_ma. [astropy.wcs.wcs]\n",
      "WARNING: FITSFixedWarning: 'datfix' made the change 'Invalid parameter values: MJD-OBS and DATE-OBS are inconsistent'. [astropy.wcs.wcs]\n"
     ]
    },
    {
     "name": "stdout",
     "output_type": "stream",
     "text": [
      "The sky coordinate (4.344263, 49.115287) is within the image.\n",
      "Cutout saved to: ../data/cutouts\\cutout_m399_g_ccd_12_4.344263_49.115287.png\n"
     ]
    },
    {
     "name": "stderr",
     "output_type": "stream",
     "text": [
      "WARNING: FITSFixedWarning: RADECSYS= 'FK5 ' / Coordinate system for equinox (FK4/FK5/GAPPT) \n",
      "the RADECSYS keyword is deprecated, use RADESYSa. [astropy.wcs.wcs]\n",
      "WARNING: FITSFixedWarning: PROJP1 = 1.0000000E+00 \n",
      "the PROJPn keyword is deprecated, use PVi_ma. [astropy.wcs.wcs]\n",
      "WARNING: FITSFixedWarning: PROJP3 = 7.5000000E+01 \n",
      "the PROJPn keyword is deprecated, use PVi_ma. [astropy.wcs.wcs]\n",
      "WARNING: FITSFixedWarning: 'datfix' made the change 'Invalid parameter values: MJD-OBS and DATE-OBS are inconsistent'. [astropy.wcs.wcs]\n"
     ]
    },
    {
     "name": "stdout",
     "output_type": "stream",
     "text": [
      "The sky coordinate (4.452792, 48.873228) is within the image.\n",
      "Cutout saved to: ../data/cutouts\\cutout_m399_g_ccd_20_4.452792_48.873228.png\n"
     ]
    },
    {
     "name": "stderr",
     "output_type": "stream",
     "text": [
      "WARNING: FITSFixedWarning: RADECSYS= 'FK5 ' / Coordinate system for equinox (FK4/FK5/GAPPT) \n",
      "the RADECSYS keyword is deprecated, use RADESYSa. [astropy.wcs.wcs]\n",
      "WARNING: FITSFixedWarning: PROJP1 = 1.0000000E+00 \n",
      "the PROJPn keyword is deprecated, use PVi_ma. [astropy.wcs.wcs]\n",
      "WARNING: FITSFixedWarning: PROJP3 = 7.5000000E+01 \n",
      "the PROJPn keyword is deprecated, use PVi_ma. [astropy.wcs.wcs]\n",
      "WARNING: FITSFixedWarning: 'datfix' made the change 'Invalid parameter values: MJD-OBS and DATE-OBS are inconsistent'. [astropy.wcs.wcs]\n"
     ]
    },
    {
     "name": "stdout",
     "output_type": "stream",
     "text": [
      "The sky coordinate (5.869352, 49.222022) is within the image.\n",
      "Cutout saved to: ../data/cutouts\\cutout_m400_g_ccd_10_5.869352_49.222022.png\n"
     ]
    },
    {
     "name": "stderr",
     "output_type": "stream",
     "text": [
      "WARNING: FITSFixedWarning: RADECSYS= 'FK5 ' / Coordinate system for equinox (FK4/FK5/GAPPT) \n",
      "the RADECSYS keyword is deprecated, use RADESYSa. [astropy.wcs.wcs]\n",
      "WARNING: FITSFixedWarning: PROJP1 = 1.0000000E+00 \n",
      "the PROJPn keyword is deprecated, use PVi_ma. [astropy.wcs.wcs]\n",
      "WARNING: FITSFixedWarning: PROJP3 = 7.5000000E+01 \n",
      "the PROJPn keyword is deprecated, use PVi_ma. [astropy.wcs.wcs]\n",
      "WARNING: FITSFixedWarning: 'datfix' made the change 'Invalid parameter values: MJD-OBS and DATE-OBS are inconsistent'. [astropy.wcs.wcs]\n"
     ]
    },
    {
     "name": "stdout",
     "output_type": "stream",
     "text": [
      "The sky coordinate (5.231674, 48.898035) is within the image.\n",
      "Cutout saved to: ../data/cutouts\\cutout_m400_g_ccd_23_5.231674_48.898035.png\n"
     ]
    },
    {
     "name": "stderr",
     "output_type": "stream",
     "text": [
      "WARNING: FITSFixedWarning: RADECSYS= 'FK5 ' / Coordinate system for equinox (FK4/FK5/GAPPT) \n",
      "the RADECSYS keyword is deprecated, use RADESYSa. [astropy.wcs.wcs]\n",
      "WARNING: FITSFixedWarning: PROJP1 = 1.0000000E+00 \n",
      "the PROJPn keyword is deprecated, use PVi_ma. [astropy.wcs.wcs]\n",
      "WARNING: FITSFixedWarning: PROJP3 = 7.5000000E+01 \n",
      "the PROJPn keyword is deprecated, use PVi_ma. [astropy.wcs.wcs]\n",
      "WARNING: FITSFixedWarning: 'datfix' made the change 'Invalid parameter values: MJD-OBS and DATE-OBS are inconsistent'. [astropy.wcs.wcs]\n"
     ]
    },
    {
     "name": "stdout",
     "output_type": "stream",
     "text": [
      "The sky coordinate (4.452792, 48.873228) is within the image.\n",
      "Cutout saved to: ../data/cutouts\\cutout_m400_g_ccd_27_4.452792_48.873228.png\n"
     ]
    },
    {
     "name": "stderr",
     "output_type": "stream",
     "text": [
      "WARNING: FITSFixedWarning: RADECSYS= 'FK5 ' / Coordinate system for equinox (FK4/FK5/GAPPT) \n",
      "the RADECSYS keyword is deprecated, use RADESYSa. [astropy.wcs.wcs]\n",
      "WARNING: FITSFixedWarning: PROJP1 = 1.0000000E+00 \n",
      "the PROJPn keyword is deprecated, use PVi_ma. [astropy.wcs.wcs]\n",
      "WARNING: FITSFixedWarning: PROJP3 = 7.5000000E+01 \n",
      "the PROJPn keyword is deprecated, use PVi_ma. [astropy.wcs.wcs]\n",
      "WARNING: FITSFixedWarning: 'datfix' made the change 'Invalid parameter values: MJD-OBS and DATE-OBS are inconsistent'. [astropy.wcs.wcs]\n"
     ]
    },
    {
     "name": "stdout",
     "output_type": "stream",
     "text": [
      "The sky coordinate (7.067065, 49.311399) is within the image.\n",
      "Cutout saved to: ../data/cutouts\\cutout_m401_g_ccd_11_7.067065_49.311399.png\n"
     ]
    },
    {
     "name": "stderr",
     "output_type": "stream",
     "text": [
      "WARNING: FITSFixedWarning: RADECSYS= 'FK5 ' / Coordinate system for equinox (FK4/FK5/GAPPT) \n",
      "the RADECSYS keyword is deprecated, use RADESYSa. [astropy.wcs.wcs]\n",
      "WARNING: FITSFixedWarning: PROJP1 = 1.0000000E+00 \n",
      "the PROJPn keyword is deprecated, use PVi_ma. [astropy.wcs.wcs]\n",
      "WARNING: FITSFixedWarning: PROJP3 = 7.5000000E+01 \n",
      "the PROJPn keyword is deprecated, use PVi_ma. [astropy.wcs.wcs]\n",
      "WARNING: FITSFixedWarning: 'datfix' made the change 'Invalid parameter values: MJD-OBS and DATE-OBS are inconsistent'. [astropy.wcs.wcs]\n"
     ]
    },
    {
     "name": "stdout",
     "output_type": "stream",
     "text": [
      "The sky coordinate (6.736634, 49.276078) is within the image.\n",
      "Cutout saved to: ../data/cutouts\\cutout_m401_g_ccd_13_6.736634_49.276078.png\n",
      "The sky coordinate (6.687547, 49.272901) is within the image.\n",
      "Cutout saved to: ../data/cutouts\\cutout_m401_g_ccd_14_6.687547_49.272901.png\n"
     ]
    },
    {
     "name": "stderr",
     "output_type": "stream",
     "text": [
      "WARNING: FITSFixedWarning: RADECSYS= 'FK5 ' / Coordinate system for equinox (FK4/FK5/GAPPT) \n",
      "the RADECSYS keyword is deprecated, use RADESYSa. [astropy.wcs.wcs]\n",
      "WARNING: FITSFixedWarning: PROJP1 = 1.0000000E+00 \n",
      "the PROJPn keyword is deprecated, use PVi_ma. [astropy.wcs.wcs]\n",
      "WARNING: FITSFixedWarning: PROJP3 = 7.5000000E+01 \n",
      "the PROJPn keyword is deprecated, use PVi_ma. [astropy.wcs.wcs]\n",
      "WARNING: FITSFixedWarning: 'datfix' made the change 'Invalid parameter values: MJD-OBS and DATE-OBS are inconsistent'. [astropy.wcs.wcs]\n"
     ]
    },
    {
     "name": "stdout",
     "output_type": "stream",
     "text": [
      "The sky coordinate (6.672968, 49.296678) is within the image.\n",
      "Cutout saved to: ../data/cutouts\\cutout_m401_g_ccd_14_6.672968_49.296678.png\n",
      "The sky coordinate (6.706293, 49.272416) is within the image.\n",
      "Cutout saved to: ../data/cutouts\\cutout_m401_g_ccd_14_6.706293_49.272416.png\n",
      "The sky coordinate (6.642419, 49.274912) is within the image.\n",
      "Cutout saved to: ../data/cutouts\\cutout_m401_g_ccd_14_6.642419_49.274912.png\n"
     ]
    },
    {
     "name": "stderr",
     "output_type": "stream",
     "text": [
      "WARNING: FITSFixedWarning: RADECSYS= 'FK5 ' / Coordinate system for equinox (FK4/FK5/GAPPT) \n",
      "the RADECSYS keyword is deprecated, use RADESYSa. [astropy.wcs.wcs]\n",
      "WARNING: FITSFixedWarning: PROJP1 = 1.0000000E+00 \n",
      "the PROJPn keyword is deprecated, use PVi_ma. [astropy.wcs.wcs]\n",
      "WARNING: FITSFixedWarning: PROJP3 = 7.5000000E+01 \n",
      "the PROJPn keyword is deprecated, use PVi_ma. [astropy.wcs.wcs]\n",
      "WARNING: FITSFixedWarning: 'datfix' made the change 'Invalid parameter values: MJD-OBS and DATE-OBS are inconsistent'. [astropy.wcs.wcs]\n"
     ]
    },
    {
     "name": "stdout",
     "output_type": "stream",
     "text": [
      "The sky coordinate (7.577692, 49.355394) is within the image.\n",
      "Cutout saved to: ../data/cutouts\\cutout_m402_g_ccd_17_7.577692_49.355394.png\n"
     ]
    },
    {
     "name": "stderr",
     "output_type": "stream",
     "text": [
      "WARNING: FITSFixedWarning: RADECSYS= 'FK5 ' / Coordinate system for equinox (FK4/FK5/GAPPT) \n",
      "the RADECSYS keyword is deprecated, use RADESYSa. [astropy.wcs.wcs]\n",
      "WARNING: FITSFixedWarning: PROJP1 = 1.0000000E+00 \n",
      "the PROJPn keyword is deprecated, use PVi_ma. [astropy.wcs.wcs]\n",
      "WARNING: FITSFixedWarning: PROJP3 = 7.5000000E+01 \n",
      "the PROJPn keyword is deprecated, use PVi_ma. [astropy.wcs.wcs]\n",
      "WARNING: FITSFixedWarning: 'datfix' made the change 'Invalid parameter values: MJD-OBS and DATE-OBS are inconsistent'. [astropy.wcs.wcs]\n"
     ]
    },
    {
     "name": "stdout",
     "output_type": "stream",
     "text": [
      "The sky coordinate (8.449784, 48.995935) is within the image.\n",
      "Cutout saved to: ../data/cutouts\\cutout_m402_g_ccd_21_8.449784_48.995935.png\n"
     ]
    },
    {
     "name": "stderr",
     "output_type": "stream",
     "text": [
      "WARNING: FITSFixedWarning: RADECSYS= 'FK5 ' / Coordinate system for equinox (FK4/FK5/GAPPT) \n",
      "the RADECSYS keyword is deprecated, use RADESYSa. [astropy.wcs.wcs]\n",
      "WARNING: FITSFixedWarning: PROJP1 = 1.0000000E+00 \n",
      "the PROJPn keyword is deprecated, use PVi_ma. [astropy.wcs.wcs]\n",
      "WARNING: FITSFixedWarning: PROJP3 = 7.5000000E+01 \n",
      "the PROJPn keyword is deprecated, use PVi_ma. [astropy.wcs.wcs]\n",
      "WARNING: FITSFixedWarning: 'datfix' made the change 'Invalid parameter values: MJD-OBS and DATE-OBS are inconsistent'. [astropy.wcs.wcs]\n"
     ]
    },
    {
     "name": "stdout",
     "output_type": "stream",
     "text": [
      "The sky coordinate (8.230279, 48.8731) is within the image.\n",
      "Cutout saved to: ../data/cutouts\\cutout_m402_g_ccd_31_8.230279_48.8731.png\n"
     ]
    },
    {
     "name": "stderr",
     "output_type": "stream",
     "text": [
      "WARNING: FITSFixedWarning: RADECSYS= 'FK5 ' / Coordinate system for equinox (FK4/FK5/GAPPT) \n",
      "the RADECSYS keyword is deprecated, use RADESYSa. [astropy.wcs.wcs]\n",
      "WARNING: FITSFixedWarning: PROJP1 = 1.0000000E+00 \n",
      "the PROJPn keyword is deprecated, use PVi_ma. [astropy.wcs.wcs]\n",
      "WARNING: FITSFixedWarning: PROJP3 = 7.5000000E+01 \n",
      "the PROJPn keyword is deprecated, use PVi_ma. [astropy.wcs.wcs]\n",
      "WARNING: FITSFixedWarning: 'datfix' made the change 'Invalid parameter values: MJD-OBS and DATE-OBS are inconsistent'. [astropy.wcs.wcs]\n"
     ]
    },
    {
     "name": "stdout",
     "output_type": "stream",
     "text": [
      "The sky coordinate (7.59287, 48.877151) is within the image.\n",
      "Cutout saved to: ../data/cutouts\\cutout_m402_g_ccd_35_7.59287_48.877151.png\n"
     ]
    },
    {
     "name": "stderr",
     "output_type": "stream",
     "text": [
      "WARNING: FITSFixedWarning: RADECSYS= 'FK5 ' / Coordinate system for equinox (FK4/FK5/GAPPT) \n",
      "the RADECSYS keyword is deprecated, use RADESYSa. [astropy.wcs.wcs]\n",
      "WARNING: FITSFixedWarning: PROJP1 = 1.0000000E+00 \n",
      "the PROJPn keyword is deprecated, use PVi_ma. [astropy.wcs.wcs]\n",
      "WARNING: FITSFixedWarning: PROJP3 = 7.5000000E+01 \n",
      "the PROJPn keyword is deprecated, use PVi_ma. [astropy.wcs.wcs]\n",
      "WARNING: FITSFixedWarning: 'datfix' made the change 'Invalid parameter values: MJD-OBS and DATE-OBS are inconsistent'. [astropy.wcs.wcs]\n"
     ]
    },
    {
     "name": "stdout",
     "output_type": "stream",
     "text": [
      "The sky coordinate (8.986751, 49.879569) is within the image.\n",
      "Cutout saved to: ../data/cutouts\\cutout_m403_g_ccd_17_8.986751_49.879569.png\n"
     ]
    },
    {
     "name": "stderr",
     "output_type": "stream",
     "text": [
      "WARNING: FITSFixedWarning: RADECSYS= 'FK5 ' / Coordinate system for equinox (FK4/FK5/GAPPT) \n",
      "the RADECSYS keyword is deprecated, use RADESYSa. [astropy.wcs.wcs]\n",
      "WARNING: FITSFixedWarning: PROJP1 = 1.0000000E+00 \n",
      "the PROJPn keyword is deprecated, use PVi_ma. [astropy.wcs.wcs]\n",
      "WARNING: FITSFixedWarning: PROJP3 = 7.5000000E+01 \n",
      "the PROJPn keyword is deprecated, use PVi_ma. [astropy.wcs.wcs]\n",
      "WARNING: FITSFixedWarning: 'datfix' made the change 'Invalid parameter values: MJD-OBS and DATE-OBS are inconsistent'. [astropy.wcs.wcs]\n"
     ]
    },
    {
     "name": "stdout",
     "output_type": "stream",
     "text": [
      "The sky coordinate (9.149664, 49.722609) is within the image.\n",
      "Cutout saved to: ../data/cutouts\\cutout_m403_g_ccd_25_9.149664_49.722609.png\n"
     ]
    },
    {
     "name": "stderr",
     "output_type": "stream",
     "text": [
      "WARNING: FITSFixedWarning: RADECSYS= 'FK5 ' / Coordinate system for equinox (FK4/FK5/GAPPT) \n",
      "the RADECSYS keyword is deprecated, use RADESYSa. [astropy.wcs.wcs]\n",
      "WARNING: FITSFixedWarning: PROJP1 = 1.0000000E+00 \n",
      "the PROJPn keyword is deprecated, use PVi_ma. [astropy.wcs.wcs]\n",
      "WARNING: FITSFixedWarning: PROJP3 = 7.5000000E+01 \n",
      "the PROJPn keyword is deprecated, use PVi_ma. [astropy.wcs.wcs]\n",
      "WARNING: FITSFixedWarning: 'datfix' made the change 'Invalid parameter values: MJD-OBS and DATE-OBS are inconsistent'. [astropy.wcs.wcs]\n"
     ]
    },
    {
     "name": "stdout",
     "output_type": "stream",
     "text": [
      "The sky coordinate (9.227293, 50.064239) is within the image.\n",
      "Cutout saved to: ../data/cutouts\\cutout_m403_g_ccd_7_9.227293_50.064239.png\n"
     ]
    },
    {
     "name": "stderr",
     "output_type": "stream",
     "text": [
      "WARNING: FITSFixedWarning: RADECSYS= 'FK5 ' / Coordinate system for equinox (FK4/FK5/GAPPT) \n",
      "the RADECSYS keyword is deprecated, use RADESYSa. [astropy.wcs.wcs]\n",
      "WARNING: FITSFixedWarning: PROJP1 = 1.0000000E+00 \n",
      "the PROJPn keyword is deprecated, use PVi_ma. [astropy.wcs.wcs]\n",
      "WARNING: FITSFixedWarning: PROJP3 = 7.5000000E+01 \n",
      "the PROJPn keyword is deprecated, use PVi_ma. [astropy.wcs.wcs]\n",
      "WARNING: FITSFixedWarning: 'datfix' made the change 'Invalid parameter values: MJD-OBS and DATE-OBS are inconsistent'. [astropy.wcs.wcs]\n"
     ]
    },
    {
     "name": "stdout",
     "output_type": "stream",
     "text": [
      "The sky coordinate (8.870515, 50.015634) is within the image.\n",
      "Cutout saved to: ../data/cutouts\\cutout_m403_g_ccd_9_8.870515_50.015634.png\n"
     ]
    },
    {
     "name": "stderr",
     "output_type": "stream",
     "text": [
      "WARNING: FITSFixedWarning: RADECSYS= 'FK5 ' / Coordinate system for equinox (FK4/FK5/GAPPT) \n",
      "the RADECSYS keyword is deprecated, use RADESYSa. [astropy.wcs.wcs]\n",
      "WARNING: FITSFixedWarning: PROJP1 = 1.0000000E+00 \n",
      "the PROJPn keyword is deprecated, use PVi_ma. [astropy.wcs.wcs]\n",
      "WARNING: FITSFixedWarning: PROJP3 = 7.5000000E+01 \n",
      "the PROJPn keyword is deprecated, use PVi_ma. [astropy.wcs.wcs]\n",
      "WARNING: FITSFixedWarning: 'datfix' made the change 'Invalid parameter values: MJD-OBS and DATE-OBS are inconsistent'. [astropy.wcs.wcs]\n"
     ]
    },
    {
     "name": "stdout",
     "output_type": "stream",
     "text": [
      "The sky coordinate (4.89219, 50.149287) is within the image.\n",
      "Cutout saved to: ../data/cutouts\\cutout_m404_g_ccd_16_4.89219_50.149287.png\n"
     ]
    },
    {
     "name": "stderr",
     "output_type": "stream",
     "text": [
      "WARNING: FITSFixedWarning: RADECSYS= 'FK5 ' / Coordinate system for equinox (FK4/FK5/GAPPT) \n",
      "the RADECSYS keyword is deprecated, use RADESYSa. [astropy.wcs.wcs]\n",
      "WARNING: FITSFixedWarning: PROJP1 = 1.0000000E+00 \n",
      "the PROJPn keyword is deprecated, use PVi_ma. [astropy.wcs.wcs]\n",
      "WARNING: FITSFixedWarning: PROJP3 = 7.5000000E+01 \n",
      "the PROJPn keyword is deprecated, use PVi_ma. [astropy.wcs.wcs]\n",
      "WARNING: FITSFixedWarning: 'datfix' made the change 'Invalid parameter values: MJD-OBS and DATE-OBS are inconsistent'. [astropy.wcs.wcs]\n"
     ]
    },
    {
     "name": "stdout",
     "output_type": "stream",
     "text": [
      "The sky coordinate (5.914287, 49.688538) is within the image.\n",
      "Cutout saved to: ../data/cutouts\\cutout_m404_g_ccd_28_5.914287_49.688538.png\n",
      "The sky coordinate (5.908595, 49.65135) is within the image.\n",
      "Cutout saved to: ../data/cutouts\\cutout_m404_g_ccd_28_5.908595_49.65135.png\n"
     ]
    },
    {
     "name": "stderr",
     "output_type": "stream",
     "text": [
      "WARNING: FITSFixedWarning: RADECSYS= 'FK5 ' / Coordinate system for equinox (FK4/FK5/GAPPT) \n",
      "the RADECSYS keyword is deprecated, use RADESYSa. [astropy.wcs.wcs]\n",
      "WARNING: FITSFixedWarning: PROJP1 = 1.0000000E+00 \n",
      "the PROJPn keyword is deprecated, use PVi_ma. [astropy.wcs.wcs]\n",
      "WARNING: FITSFixedWarning: PROJP3 = 7.5000000E+01 \n",
      "the PROJPn keyword is deprecated, use PVi_ma. [astropy.wcs.wcs]\n",
      "WARNING: FITSFixedWarning: 'datfix' made the change 'Invalid parameter values: MJD-OBS and DATE-OBS are inconsistent'. [astropy.wcs.wcs]\n"
     ]
    },
    {
     "name": "stdout",
     "output_type": "stream",
     "text": [
      "The sky coordinate (4.718824, 49.781574) is within the image.\n",
      "Cutout saved to: ../data/cutouts\\cutout_m404_g_ccd_35_4.718824_49.781574.png\n"
     ]
    },
    {
     "name": "stderr",
     "output_type": "stream",
     "text": [
      "WARNING: FITSFixedWarning: RADECSYS= 'FK5 ' / Coordinate system for equinox (FK4/FK5/GAPPT) \n",
      "the RADECSYS keyword is deprecated, use RADESYSa. [astropy.wcs.wcs]\n",
      "WARNING: FITSFixedWarning: PROJP1 = 1.0000000E+00 \n",
      "the PROJPn keyword is deprecated, use PVi_ma. [astropy.wcs.wcs]\n",
      "WARNING: FITSFixedWarning: PROJP3 = 7.5000000E+01 \n",
      "the PROJPn keyword is deprecated, use PVi_ma. [astropy.wcs.wcs]\n",
      "WARNING: FITSFixedWarning: 'datfix' made the change 'Invalid parameter values: MJD-OBS and DATE-OBS are inconsistent'. [astropy.wcs.wcs]\n"
     ]
    },
    {
     "name": "stdout",
     "output_type": "stream",
     "text": [
      "The sky coordinate (4.784436, 50.574086) is within the image.\n",
      "Cutout saved to: ../data/cutouts\\cutout_m404_g_ccd_7_4.784436_50.574086.png\n"
     ]
    },
    {
     "name": "stderr",
     "output_type": "stream",
     "text": [
      "WARNING: FITSFixedWarning: RADECSYS= 'FK5 ' / Coordinate system for equinox (FK4/FK5/GAPPT) \n",
      "the RADECSYS keyword is deprecated, use RADESYSa. [astropy.wcs.wcs]\n",
      "WARNING: FITSFixedWarning: PROJP1 = 1.0000000E+00 \n",
      "the PROJPn keyword is deprecated, use PVi_ma. [astropy.wcs.wcs]\n",
      "WARNING: FITSFixedWarning: PROJP3 = 7.5000000E+01 \n",
      "the PROJPn keyword is deprecated, use PVi_ma. [astropy.wcs.wcs]\n",
      "WARNING: FITSFixedWarning: 'datfix' made the change 'Invalid parameter values: MJD-OBS and DATE-OBS are inconsistent'. [astropy.wcs.wcs]\n"
     ]
    },
    {
     "name": "stdout",
     "output_type": "stream",
     "text": [
      "The sky coordinate (5.979532, 50.285628) is within the image.\n",
      "Cutout saved to: ../data/cutouts\\cutout_m405_g_ccd_18_5.979532_50.285628.png\n"
     ]
    },
    {
     "name": "stderr",
     "output_type": "stream",
     "text": [
      "WARNING: FITSFixedWarning: RADECSYS= 'FK5 ' / Coordinate system for equinox (FK4/FK5/GAPPT) \n",
      "the RADECSYS keyword is deprecated, use RADESYSa. [astropy.wcs.wcs]\n",
      "WARNING: FITSFixedWarning: PROJP1 = 1.0000000E+00 \n",
      "the PROJPn keyword is deprecated, use PVi_ma. [astropy.wcs.wcs]\n",
      "WARNING: FITSFixedWarning: PROJP3 = 7.5000000E+01 \n",
      "the PROJPn keyword is deprecated, use PVi_ma. [astropy.wcs.wcs]\n",
      "WARNING: FITSFixedWarning: 'datfix' made the change 'Invalid parameter values: MJD-OBS and DATE-OBS are inconsistent'. [astropy.wcs.wcs]\n"
     ]
    },
    {
     "name": "stdout",
     "output_type": "stream",
     "text": [
      "The sky coordinate (7.287778, 50.093274) is within the image.\n",
      "Cutout saved to: ../data/cutouts\\cutout_m405_g_ccd_19_7.287778_50.093274.png\n"
     ]
    },
    {
     "name": "stderr",
     "output_type": "stream",
     "text": [
      "WARNING: FITSFixedWarning: RADECSYS= 'FK5 ' / Coordinate system for equinox (FK4/FK5/GAPPT) \n",
      "the RADECSYS keyword is deprecated, use RADESYSa. [astropy.wcs.wcs]\n",
      "WARNING: FITSFixedWarning: PROJP1 = 1.0000000E+00 \n",
      "the PROJPn keyword is deprecated, use PVi_ma. [astropy.wcs.wcs]\n",
      "WARNING: FITSFixedWarning: PROJP3 = 7.5000000E+01 \n",
      "the PROJPn keyword is deprecated, use PVi_ma. [astropy.wcs.wcs]\n",
      "WARNING: FITSFixedWarning: 'datfix' made the change 'Invalid parameter values: MJD-OBS and DATE-OBS are inconsistent'. [astropy.wcs.wcs]\n"
     ]
    },
    {
     "name": "stdout",
     "output_type": "stream",
     "text": [
      "The sky coordinate (6.509104, 49.699002) is within the image.\n",
      "Cutout saved to: ../data/cutouts\\cutout_m405_g_ccd_33_6.509104_49.699002.png\n"
     ]
    },
    {
     "name": "stderr",
     "output_type": "stream",
     "text": [
      "WARNING: FITSFixedWarning: RADECSYS= 'FK5 ' / Coordinate system for equinox (FK4/FK5/GAPPT) \n",
      "the RADECSYS keyword is deprecated, use RADESYSa. [astropy.wcs.wcs]\n",
      "WARNING: FITSFixedWarning: PROJP1 = 1.0000000E+00 \n",
      "the PROJPn keyword is deprecated, use PVi_ma. [astropy.wcs.wcs]\n",
      "WARNING: FITSFixedWarning: PROJP3 = 7.5000000E+01 \n",
      "the PROJPn keyword is deprecated, use PVi_ma. [astropy.wcs.wcs]\n",
      "WARNING: FITSFixedWarning: 'datfix' made the change 'Invalid parameter values: MJD-OBS and DATE-OBS are inconsistent'. [astropy.wcs.wcs]\n"
     ]
    },
    {
     "name": "stdout",
     "output_type": "stream",
     "text": [
      "The sky coordinate (5.914287, 49.688538) is within the image.\n",
      "Cutout saved to: ../data/cutouts\\cutout_m405_g_ccd_36_5.914287_49.688538.png\n",
      "The sky coordinate (5.908595, 49.65135) is within the image.\n",
      "Cutout saved to: ../data/cutouts\\cutout_m405_g_ccd_36_5.908595_49.65135.png\n"
     ]
    },
    {
     "name": "stderr",
     "output_type": "stream",
     "text": [
      "WARNING: FITSFixedWarning: RADECSYS= 'FK5 ' / Coordinate system for equinox (FK4/FK5/GAPPT) \n",
      "the RADECSYS keyword is deprecated, use RADESYSa. [astropy.wcs.wcs]\n",
      "WARNING: FITSFixedWarning: PROJP1 = 1.0000000E+00 \n",
      "the PROJPn keyword is deprecated, use PVi_ma. [astropy.wcs.wcs]\n",
      "WARNING: FITSFixedWarning: PROJP3 = 7.5000000E+01 \n",
      "the PROJPn keyword is deprecated, use PVi_ma. [astropy.wcs.wcs]\n",
      "WARNING: FITSFixedWarning: 'datfix' made the change 'Invalid parameter values: MJD-OBS and DATE-OBS are inconsistent'. [astropy.wcs.wcs]\n"
     ]
    },
    {
     "name": "stdout",
     "output_type": "stream",
     "text": [
      "The sky coordinate (8.541289, 50.346824) is within the image.\n",
      "Cutout saved to: ../data/cutouts\\cutout_m406_g_ccd_12_8.541289_50.346824.png\n"
     ]
    },
    {
     "name": "stderr",
     "output_type": "stream",
     "text": [
      "WARNING: FITSFixedWarning: RADECSYS= 'FK5 ' / Coordinate system for equinox (FK4/FK5/GAPPT) \n",
      "the RADECSYS keyword is deprecated, use RADESYSa. [astropy.wcs.wcs]\n",
      "WARNING: FITSFixedWarning: PROJP1 = 1.0000000E+00 \n",
      "the PROJPn keyword is deprecated, use PVi_ma. [astropy.wcs.wcs]\n",
      "WARNING: FITSFixedWarning: PROJP3 = 7.5000000E+01 \n",
      "the PROJPn keyword is deprecated, use PVi_ma. [astropy.wcs.wcs]\n",
      "WARNING: FITSFixedWarning: 'datfix' made the change 'Invalid parameter values: MJD-OBS and DATE-OBS are inconsistent'. [astropy.wcs.wcs]\n"
     ]
    },
    {
     "name": "stdout",
     "output_type": "stream",
     "text": [
      "The sky coordinate (8.056955, 50.18079) is within the image.\n",
      "Cutout saved to: ../data/cutouts\\cutout_m406_g_ccd_14_8.056955_50.18079.png\n"
     ]
    },
    {
     "name": "stderr",
     "output_type": "stream",
     "text": [
      "WARNING: FITSFixedWarning: RADECSYS= 'FK5 ' / Coordinate system for equinox (FK4/FK5/GAPPT) \n",
      "the RADECSYS keyword is deprecated, use RADESYSa. [astropy.wcs.wcs]\n",
      "WARNING: FITSFixedWarning: PROJP1 = 1.0000000E+00 \n",
      "the PROJPn keyword is deprecated, use PVi_ma. [astropy.wcs.wcs]\n",
      "WARNING: FITSFixedWarning: PROJP3 = 7.5000000E+01 \n",
      "the PROJPn keyword is deprecated, use PVi_ma. [astropy.wcs.wcs]\n",
      "WARNING: FITSFixedWarning: 'datfix' made the change 'Invalid parameter values: MJD-OBS and DATE-OBS are inconsistent'. [astropy.wcs.wcs]\n"
     ]
    },
    {
     "name": "stdout",
     "output_type": "stream",
     "text": [
      "The sky coordinate (8.870515, 50.015634) is within the image.\n",
      "Cutout saved to: ../data/cutouts\\cutout_m406_g_ccd_19_8.870515_50.015634.png\n"
     ]
    },
    {
     "name": "stderr",
     "output_type": "stream",
     "text": [
      "WARNING: FITSFixedWarning: RADECSYS= 'FK5 ' / Coordinate system for equinox (FK4/FK5/GAPPT) \n",
      "the RADECSYS keyword is deprecated, use RADESYSa. [astropy.wcs.wcs]\n",
      "WARNING: FITSFixedWarning: PROJP1 = 1.0000000E+00 \n",
      "the PROJPn keyword is deprecated, use PVi_ma. [astropy.wcs.wcs]\n",
      "WARNING: FITSFixedWarning: PROJP3 = 7.5000000E+01 \n",
      "the PROJPn keyword is deprecated, use PVi_ma. [astropy.wcs.wcs]\n",
      "WARNING: FITSFixedWarning: 'datfix' made the change 'Invalid parameter values: MJD-OBS and DATE-OBS are inconsistent'. [astropy.wcs.wcs]\n"
     ]
    },
    {
     "name": "stdout",
     "output_type": "stream",
     "text": [
      "The sky coordinate (8.593124, 50.068956) is within the image.\n",
      "Cutout saved to: ../data/cutouts\\cutout_m406_g_ccd_20_8.593124_50.068956.png\n"
     ]
    },
    {
     "name": "stderr",
     "output_type": "stream",
     "text": [
      "WARNING: FITSFixedWarning: RADECSYS= 'FK5 ' / Coordinate system for equinox (FK4/FK5/GAPPT) \n",
      "the RADECSYS keyword is deprecated, use RADESYSa. [astropy.wcs.wcs]\n",
      "WARNING: FITSFixedWarning: PROJP1 = 1.0000000E+00 \n",
      "the PROJPn keyword is deprecated, use PVi_ma. [astropy.wcs.wcs]\n",
      "WARNING: FITSFixedWarning: PROJP3 = 7.5000000E+01 \n",
      "the PROJPn keyword is deprecated, use PVi_ma. [astropy.wcs.wcs]\n",
      "WARNING: FITSFixedWarning: 'datfix' made the change 'Invalid parameter values: MJD-OBS and DATE-OBS are inconsistent'. [astropy.wcs.wcs]\n"
     ]
    },
    {
     "name": "stdout",
     "output_type": "stream",
     "text": [
      "The sky coordinate (7.707524, 50.081434) is within the image.\n",
      "Cutout saved to: ../data/cutouts\\cutout_m406_g_ccd_25_7.707524_50.081434.png\n"
     ]
    },
    {
     "name": "stderr",
     "output_type": "stream",
     "text": [
      "WARNING: FITSFixedWarning: RADECSYS= 'FK5 ' / Coordinate system for equinox (FK4/FK5/GAPPT) \n",
      "the RADECSYS keyword is deprecated, use RADESYSa. [astropy.wcs.wcs]\n",
      "WARNING: FITSFixedWarning: PROJP1 = 1.0000000E+00 \n",
      "the PROJPn keyword is deprecated, use PVi_ma. [astropy.wcs.wcs]\n",
      "WARNING: FITSFixedWarning: PROJP3 = 7.5000000E+01 \n",
      "the PROJPn keyword is deprecated, use PVi_ma. [astropy.wcs.wcs]\n",
      "WARNING: FITSFixedWarning: 'datfix' made the change 'Invalid parameter values: MJD-OBS and DATE-OBS are inconsistent'. [astropy.wcs.wcs]\n"
     ]
    }
   ],
   "source": [
    "from astropy.io import fits\n",
    "from astropy.wcs import WCS\n",
    "from astropy.coordinates import SkyCoord\n",
    "from astropy.nddata import Cutout2D\n",
    "import astropy.units as u\n",
    "import numpy as np\n",
    "from astropy.visualization import ZScaleInterval\n",
    "from PIL import Image\n",
    "import glob\n",
    "import os\n",
    "import pandas as pd\n",
    "\n",
    "# Define the input and output directories and corresponding CSV files\n",
    "configurations = [\n",
    "    {'csv_file': 'Yilun_Wang_selected_closest_fields.csv', 'output_dir': '../data/cutouts'}\n",
    "    # {'csv_file': 'result_GC.csv', 'output_dir': '../data/cluster_cutouts'},\n",
    "    # {'csv_file': 'result_EGC.csv', 'output_dir': '../data/extended_cluster_cutouts'}\n",
    "]\n",
    "input_dir = '../data/ccd'\n",
    "\n",
    "# Function to check if pixel is within image bounds\n",
    "def is_within_image(x, y, nx, ny):\n",
    "    return (0 <= x < nx) and (0 <= y < ny)\n",
    "\n",
    "# Function to convert FITS data to PNG with resampling\n",
    "def fits_to_png(data, output_png, image_size=128, background_grey=94):\n",
    "    # Replace NaNs or Infs with zeros to avoid issues\n",
    "    data = np.nan_to_num(data, nan=0.0, posinf=0.0, neginf=0.0)\n",
    "\n",
    "    # Apply Zscale normalization to raw data\n",
    "    zscale = ZScaleInterval()\n",
    "    vmin, vmax = zscale.get_limits(data)\n",
    "\n",
    "    # Clip the data to the Zscale range\n",
    "    clipped_data = np.clip(data, vmin, vmax)\n",
    "\n",
    "    # Apply asinh scaling on the clipped data\n",
    "    scaled_data = np.arcsinh(clipped_data)\n",
    "\n",
    "    # Recompute the min/max for the asinh-transformed data\n",
    "    scaled_vmin = scaled_data.min()\n",
    "    scaled_vmax = scaled_data.max()\n",
    "\n",
    "    # Normalize the scaled data to the range [0, 255] for 8-bit image representation\n",
    "    scaled_data = (scaled_data - scaled_vmin) / (scaled_vmax - scaled_vmin)\n",
    "    scaled_data = (scaled_data * 255).astype(np.uint8)\n",
    "\n",
    "    # Replace black pixels (0 value) with the background grey value\n",
    "    # scaled_data[scaled_data == 0] = background_grey\n",
    "\n",
    "    # Create an image using PIL\n",
    "    img = Image.fromarray(scaled_data)\n",
    "\n",
    "    # Resize the image if a specific size is provided\n",
    "    if image_size is not None:\n",
    "        img = img.resize((image_size, image_size), Image.LANCZOS)\n",
    "\n",
    "    # Save the image as PNG\n",
    "    img.save(output_png)\n",
    "\n",
    "# Process each configuration\n",
    "for config in configurations:\n",
    "    csv_file = config['csv_file']\n",
    "    output_dir = config['output_dir']\n",
    "    os.makedirs(output_dir, exist_ok=True)\n",
    "\n",
    "    # Load the CSV file\n",
    "    df = pd.read_csv(csv_file)\n",
    "\n",
    "    # Get a list of all FITS files in the input directory\n",
    "    fits_files = glob.glob(os.path.join(input_dir, '*.fit'))\n",
    "    fits_basenames = {os.path.basename(f).split('_')[0] for f in fits_files}\n",
    "\n",
    "    # Filter the DataFrame to only include rows with corresponding FITS files\n",
    "    df = df[df['Nearest field'].isin(fits_basenames)]\n",
    "    ra_list = df['RADEG'].values\n",
    "    dec_list = df['DECDEG'].values\n",
    "\n",
    "    # Loop over each FITS file\n",
    "    for fits_file in fits_files:\n",
    "        # print(f\"Processing file: {fits_file}\")\n",
    "        try:\n",
    "            # Load the FITS file and extract WCS\n",
    "            with fits.open(fits_file) as hdulist:\n",
    "                # Adjust the index if your image is not in the primary HDU\n",
    "                header = hdulist[0].header\n",
    "                data = hdulist[0].data\n",
    "\n",
    "                # Extract WCS information\n",
    "                wcs = WCS(header)\n",
    "\n",
    "                # Image dimensions\n",
    "                naxis1 = header['NAXIS1']  # Width of the image\n",
    "                naxis2 = header['NAXIS2']  # Height of the image\n",
    "\n",
    "                # Loop over each coordinate in the filtered DataFrame\n",
    "                for ra, dec in zip(ra_list, dec_list):\n",
    "                    sky_coord = SkyCoord(ra=ra * u.deg, dec=dec * u.deg, frame='icrs')\n",
    "\n",
    "                    # Convert sky coordinate to pixel coordinate\n",
    "                    x_pixel, y_pixel = wcs.world_to_pixel(sky_coord)\n",
    "\n",
    "                    # Check if pixel coordinates are within image bounds\n",
    "                    if is_within_image(x_pixel, y_pixel, naxis1, naxis2):\n",
    "                        print(f\"The sky coordinate ({ra}, {dec}) is within the image.\")\n",
    "\n",
    "                        # Define the size of the cutout (e.g., 100x100 pixels)\n",
    "                        cutout_size = (100, 100)  # (ny, nx)\n",
    "\n",
    "                        # Create the cutout\n",
    "                        cutout = Cutout2D(data, (x_pixel, y_pixel), cutout_size, wcs=wcs)\n",
    "\n",
    "                        # Save the cutout as a PNG file\n",
    "                        png_filename = os.path.join(output_dir, f'cutout_{os.path.basename(fits_file).replace(\".fit\", f\"_{ra}_{dec}.png\")}')\n",
    "                        fits_to_png(cutout.data, png_filename)\n",
    "                        print(f\"Cutout saved to: {png_filename}\")\n",
    "\n",
    "        except Exception as e:\n",
    "            print(f\"An error occurred while processing {fits_file}: {e}\")"
   ]
  },
  {
   "cell_type": "markdown",
   "id": "cc81d1da",
   "metadata": {},
   "source": [
    "Change image resolution"
   ]
  },
  {
   "cell_type": "code",
   "execution_count": null,
   "id": "54db75e6",
   "metadata": {},
   "outputs": [],
   "source": [
    "import os\n",
    "from PIL import Image\n",
    "\n",
    "def resize_images(input_folder, output_folder, new_resolution):\n",
    "    if not os.path.exists(output_folder):\n",
    "        os.makedirs(output_folder)\n",
    "\n",
    "    for filename in os.listdir(input_folder):\n",
    "        if filename.endswith(('.png', '.jpg', '.jpeg', '.bmp', '.gif')):\n",
    "            img_path = os.path.join(input_folder, filename)\n",
    "            img = Image.open(img_path)\n",
    "            img = img.resize((new_resolution, new_resolution), Image.ANTIALIAS)\n",
    "            img.save(os.path.join(output_folder, filename))\n",
    "\n",
    "input_folder = '../data/cutouts/cluster_cutouts'\n",
    "output_folder = '../data/cutouts/downsample/cluster_cutouts'\n",
    "new_resolution = 64\n",
    "\n",
    "resize_images(input_folder, output_folder, new_resolution)"
   ]
  },
  {
   "cell_type": "markdown",
   "id": "8b9472d7",
   "metadata": {},
   "source": [
    "Mark Dupes/Patial"
   ]
  },
  {
   "cell_type": "code",
   "execution_count": 10,
   "id": "ea223c78",
   "metadata": {},
   "outputs": [],
   "source": [
    "import os\n",
    "import glob\n",
    "\n",
    "# Define the directory containing the files\n",
    "directory = '../finalised_cutouts/extended_cluster_cutouts'\n",
    "\n",
    "# Get a list of all files in the directory\n",
    "files = glob.glob(os.path.join(directory, '*.png'))\n",
    "\n",
    "# Dictionary to store filenames by coordinates\n",
    "coord_dict = {}\n",
    "\n",
    "# First pass: Identify all coordinates that have duplicates\n",
    "for file in files:\n",
    "    # Extract the base name of the file\n",
    "    base_name = os.path.basename(file)\n",
    "    \n",
    "    # Extract the coordinates from the filename\n",
    "    parts = base_name.split('_')\n",
    "    coords = f\"{parts[-2]}_{parts[-1].replace('.png', '')}\"\n",
    "    \n",
    "    # Add the file to the dictionary\n",
    "    if coords in coord_dict:\n",
    "        coord_dict[coords].append(file)\n",
    "    else:\n",
    "        coord_dict[coords] = [file]\n",
    "\n",
    "# Second pass: Rename files with duplicate coordinates\n",
    "for coords, file_list in coord_dict.items():\n",
    "    if len(file_list) > 1:\n",
    "        for file in file_list:\n",
    "            base_name = os.path.basename(file)\n",
    "            parts = base_name.split('_')\n",
    "            new_name = f\"{'_'.join(parts[:-2])}_{coords}_partial.png\"\n",
    "            new_path = os.path.join(directory, new_name)\n",
    "            os.rename(file, new_path)\n",
    "            print(f\"Renamed {file} to {new_path}\")"
   ]
  },
  {
   "cell_type": "markdown",
   "id": "84ab58c8",
   "metadata": {},
   "source": [
    "Finds all images with a specific label and moves them to a new folder"
   ]
  },
  {
   "cell_type": "code",
   "execution_count": 9,
   "id": "6000add6",
   "metadata": {},
   "outputs": [
    {
     "name": "stdout",
     "output_type": "stream",
     "text": [
      "Moved: ../finalised_cutouts/galaxy_cutouts/cutout_m232_g_ccd_15_11.9368917_40.19365_partial.png to ../finalised_cutouts/partials/galaxy/cutout_m232_g_ccd_15_11.9368917_40.19365_partial.png\n",
      "Moved: ../finalised_cutouts/galaxy_cutouts/cutout_m232_g_ccd_18_11.525375_40.37388888888889_partial.png to ../finalised_cutouts/partials/galaxy/cutout_m232_g_ccd_18_11.525375_40.37388888888889_partial.png\n",
      "Moved: ../finalised_cutouts/galaxy_cutouts/cutout_m235_g_ccd_23_12.0695208_40.3641167_partial.png to ../finalised_cutouts/partials/galaxy/cutout_m235_g_ccd_23_12.0695208_40.3641167_partial.png\n",
      "Moved: ../finalised_cutouts/galaxy_cutouts/cutout_m214_g_ccd_16_11.0786042_39.7559861_partial.png to ../finalised_cutouts/partials/galaxy/cutout_m214_g_ccd_16_11.0786042_39.7559861_partial.png\n",
      "Moved: ../finalised_cutouts/galaxy_cutouts/cutout_m214_g_ccd_35_10.8712667_39.1952833_partial.png to ../finalised_cutouts/partials/galaxy/cutout_m214_g_ccd_35_10.8712667_39.1952833_partial.png\n",
      "Moved: ../finalised_cutouts/galaxy_cutouts/cutout_m248_g_ccd_19_11.6216_41.0491944_partial.png to ../finalised_cutouts/partials/galaxy/cutout_m248_g_ccd_19_11.6216_41.0491944_partial.png\n",
      "Moved: ../finalised_cutouts/galaxy_cutouts/cutout_m235_g_ccd_18_11.4974833_40.6356056_partial.png to ../finalised_cutouts/partials/galaxy/cutout_m235_g_ccd_18_11.4974833_40.6356056_partial.png\n",
      "Moved: ../finalised_cutouts/galaxy_cutouts/cutout_m235_g_ccd_26_11.6216667_40.3430556_partial.png to ../finalised_cutouts/partials/galaxy/cutout_m235_g_ccd_26_11.6216667_40.3430556_partial.png\n",
      "Moved: ../finalised_cutouts/galaxy_cutouts/cutout_m232_g_ccd_9_11.4974042_40.6111167_partial.png to ../finalised_cutouts/partials/galaxy/cutout_m232_g_ccd_9_11.4974042_40.6111167_partial.png\n",
      "Moved: ../finalised_cutouts/galaxy_cutouts/cutout_m208_g_ccd_8_11.8727417_39.6732639_partial.png to ../finalised_cutouts/partials/galaxy/cutout_m208_g_ccd_8_11.8727417_39.6732639_partial.png\n",
      "Moved: ../finalised_cutouts/galaxy_cutouts/cutout_m257_g_ccd_35_11.717375_41.2525333_partial.png to ../finalised_cutouts/partials/galaxy/cutout_m257_g_ccd_35_11.717375_41.2525333_partial.png\n",
      "Moved: ../finalised_cutouts/galaxy_cutouts/cutout_m235_g_ccd_25_11.7479542_40.3309944_partial.png to ../finalised_cutouts/partials/galaxy/cutout_m235_g_ccd_25_11.7479542_40.3309944_partial.png\n",
      "Moved: ../finalised_cutouts/galaxy_cutouts/cutout_m207_g_ccd_5_8.404291666666666_39.68305555555556_partial.png to ../finalised_cutouts/partials/galaxy/cutout_m207_g_ccd_5_8.404291666666666_39.68305555555556_partial.png\n",
      "Moved: ../finalised_cutouts/galaxy_cutouts/cutout_m232_g_ccd_26_11.651608333333334_40.00746111111111_partial.png to ../finalised_cutouts/partials/galaxy/cutout_m232_g_ccd_26_11.651608333333334_40.00746111111111_partial.png\n",
      "Moved: ../finalised_cutouts/galaxy_cutouts/cutout_m207_g_ccd_5_8.408499999999998_39.593250000000005_partial.png to ../finalised_cutouts/partials/galaxy/cutout_m207_g_ccd_5_8.408499999999998_39.593250000000005_partial.png\n",
      "Moved: ../finalised_cutouts/galaxy_cutouts/cutout_m214_g_ccd_11_11.7843583_39.8050694_partial.png to ../finalised_cutouts/partials/galaxy/cutout_m214_g_ccd_11_11.7843583_39.8050694_partial.png\n",
      "Moved: ../finalised_cutouts/galaxy_cutouts/cutout_m248_g_ccd_35_10.6146458_40.5979083_partial.png to ../finalised_cutouts/partials/galaxy/cutout_m248_g_ccd_35_10.6146458_40.5979083_partial.png\n",
      "Moved: ../finalised_cutouts/galaxy_cutouts/cutout_m210_g_ccd_8_9.204958333333332_39.66213888888889_partial.png to ../finalised_cutouts/partials/galaxy/cutout_m210_g_ccd_8_9.204958333333332_39.66213888888889_partial.png\n",
      "Moved: ../finalised_cutouts/galaxy_cutouts/cutout_m235_g_ccd_26_11.5955_40.34505555555556_partial.png to ../finalised_cutouts/partials/galaxy/cutout_m235_g_ccd_26_11.5955_40.34505555555556_partial.png\n",
      "Moved: ../finalised_cutouts/galaxy_cutouts/cutout_m228_g_ccd_19_11.3714667_40.0970417_partial.png to ../finalised_cutouts/partials/galaxy/cutout_m228_g_ccd_19_11.3714667_40.0970417_partial.png\n",
      "Moved: ../finalised_cutouts/galaxy_cutouts/cutout_m228_g_ccd_36_10.2743792_39.6993778_partial.png to ../finalised_cutouts/partials/galaxy/cutout_m228_g_ccd_36_10.2743792_39.6993778_partial.png\n",
      "Moved: ../finalised_cutouts/galaxy_cutouts/cutout_m232_g_ccd_16_11.7479542_40.3309944_partial.png to ../finalised_cutouts/partials/galaxy/cutout_m232_g_ccd_16_11.7479542_40.3309944_partial.png\n",
      "Moved: ../finalised_cutouts/galaxy_cutouts/cutout_m228_g_ccd_31_10.9250708_39.7746361_partial.png to ../finalised_cutouts/partials/galaxy/cutout_m228_g_ccd_31_10.9250708_39.7746361_partial.png\n",
      "Moved: ../finalised_cutouts/galaxy_cutouts/cutout_m207_g_ccd_1_8.961791666666667_39.60022222222222_partial.png to ../finalised_cutouts/partials/galaxy/cutout_m207_g_ccd_1_8.961791666666667_39.60022222222222_partial.png\n",
      "Moved: ../finalised_cutouts/galaxy_cutouts/cutout_m212_g_ccd_3_9.09275_39.867916666666666_partial.png to ../finalised_cutouts/partials/galaxy/cutout_m212_g_ccd_3_9.09275_39.867916666666666_partial.png\n",
      "Moved: ../finalised_cutouts/galaxy_cutouts/cutout_m212_g_ccd_5_8.811916666666665_39.69444444444444_partial.png to ../finalised_cutouts/partials/galaxy/cutout_m212_g_ccd_5_8.811916666666665_39.69444444444444_partial.png\n",
      "Moved: ../finalised_cutouts/galaxy_cutouts/cutout_m209_g_ccd_24_10.8712667_39.1952833_partial.png to ../finalised_cutouts/partials/galaxy/cutout_m209_g_ccd_24_10.8712667_39.1952833_partial.png\n",
      "Moved: ../finalised_cutouts/galaxy_cutouts/cutout_m235_g_ccd_11_12.515625_40.62757777777778_partial.png to ../finalised_cutouts/partials/galaxy/cutout_m235_g_ccd_11_12.515625_40.62757777777778_partial.png\n",
      "Moved: ../finalised_cutouts/galaxy_cutouts/cutout_m232_g_ccd_17_11.6216667_40.3430556_partial.png to ../finalised_cutouts/partials/galaxy/cutout_m232_g_ccd_17_11.6216667_40.3430556_partial.png\n",
      "Moved: ../finalised_cutouts/galaxy_cutouts/cutout_m235_g_ccd_16_11.7514458_40.6769028_partial.png to ../finalised_cutouts/partials/galaxy/cutout_m235_g_ccd_16_11.7514458_40.6769028_partial.png\n",
      "Moved: ../finalised_cutouts/galaxy_cutouts/cutout_m232_g_ccd_18_11.490124999999995_40.28597222222222_partial.png to ../finalised_cutouts/partials/galaxy/cutout_m232_g_ccd_18_11.490124999999995_40.28597222222222_partial.png\n",
      "Moved: ../finalised_cutouts/galaxy_cutouts/cutout_m212_g_ccd_1_9.3634417_39.7190972_partial.png to ../finalised_cutouts/partials/galaxy/cutout_m212_g_ccd_1_9.3634417_39.7190972_partial.png\n",
      "Moved: ../finalised_cutouts/galaxy_cutouts/cutout_m235_g_ccd_9_11.453375_41.0372583_partial.png to ../finalised_cutouts/partials/galaxy/cutout_m235_g_ccd_9_11.453375_41.0372583_partial.png\n",
      "Moved: ../finalised_cutouts/galaxy_cutouts/cutout_m214_g_ccd_10_11.9404042_39.7449306_partial.png to ../finalised_cutouts/partials/galaxy/cutout_m214_g_ccd_10_11.9404042_39.7449306_partial.png\n",
      "Moved: ../finalised_cutouts/galaxy_cutouts/cutout_m235_g_ccd_8_11.6219333_41.0629028_partial.png to ../finalised_cutouts/partials/galaxy/cutout_m235_g_ccd_8_11.6219333_41.0629028_partial.png\n",
      "Moved: ../finalised_cutouts/galaxy_cutouts/cutout_m212_g_ccd_17_8.408499999999998_39.593250000000005_partial.png to ../finalised_cutouts/partials/galaxy/cutout_m212_g_ccd_17_8.408499999999998_39.593250000000005_partial.png\n",
      "Moved: ../finalised_cutouts/galaxy_cutouts/cutout_m214_g_ccd_36_10.7227917_39.15375_partial.png to ../finalised_cutouts/partials/galaxy/cutout_m214_g_ccd_36_10.7227917_39.15375_partial.png\n",
      "Moved: ../finalised_cutouts/galaxy_cutouts/cutout_m232_g_ccd_9_11.46585_40.5043528_partial.png to ../finalised_cutouts/partials/galaxy/cutout_m232_g_ccd_9_11.46585_40.5043528_partial.png\n",
      "Moved: ../finalised_cutouts/galaxy_cutouts/cutout_m212_g_ccd_15_8.6642458_39.5780028_partial.png to ../finalised_cutouts/partials/galaxy/cutout_m212_g_ccd_15_8.6642458_39.5780028_partial.png\n",
      "Moved: ../finalised_cutouts/galaxy_cutouts/cutout_m232_g_ccd_34_11.7843583_39.8050694_partial.png to ../finalised_cutouts/partials/galaxy/cutout_m232_g_ccd_34_11.7843583_39.8050694_partial.png\n",
      "Moved: ../finalised_cutouts/galaxy_cutouts/cutout_m248_g_ccd_6_10.9940292_41.4173611_partial.png to ../finalised_cutouts/partials/galaxy/cutout_m248_g_ccd_6_10.9940292_41.4173611_partial.png\n",
      "Moved: ../finalised_cutouts/galaxy_cutouts/cutout_m248_g_ccd_1_11.669775_41.5491639_partial.png to ../finalised_cutouts/partials/galaxy/cutout_m248_g_ccd_1_11.669775_41.5491639_partial.png\n",
      "Moved: ../finalised_cutouts/galaxy_cutouts/cutout_m233_g_ccd_33_9.3634417_39.7190972_partial.png to ../finalised_cutouts/partials/galaxy/cutout_m233_g_ccd_33_9.3634417_39.7190972_partial.png\n",
      "Moved: ../finalised_cutouts/galaxy_cutouts/cutout_m233_g_ccd_34_9.2594417_39.8014111_partial.png to ../finalised_cutouts/partials/galaxy/cutout_m233_g_ccd_34_9.2594417_39.8014111_partial.png\n",
      "Moved: ../finalised_cutouts/galaxy_cutouts/cutout_m248_g_ccd_10_11.713975_41.1625056_partial.png to ../finalised_cutouts/partials/galaxy/cutout_m248_g_ccd_10_11.713975_41.1625056_partial.png\n",
      "Moved: ../finalised_cutouts/galaxy_cutouts/cutout_m248_g_ccd_5_10.9940292_41.4173611_partial.png to ../finalised_cutouts/partials/galaxy/cutout_m248_g_ccd_5_10.9940292_41.4173611_partial.png\n",
      "Moved: ../finalised_cutouts/galaxy_cutouts/cutout_m210_g_ccd_1_10.2743792_39.6993778_partial.png to ../finalised_cutouts/partials/galaxy/cutout_m210_g_ccd_1_10.2743792_39.6993778_partial.png\n",
      "Moved: ../finalised_cutouts/galaxy_cutouts/cutout_m212_g_ccd_8_8.442124999999999_39.81016666666667_partial.png to ../finalised_cutouts/partials/galaxy/cutout_m212_g_ccd_8_8.442124999999999_39.81016666666667_partial.png\n",
      "Moved: ../finalised_cutouts/galaxy_cutouts/cutout_m212_g_ccd_8_8.404291666666666_39.68305555555556_partial.png to ../finalised_cutouts/partials/galaxy/cutout_m212_g_ccd_8_8.404291666666666_39.68305555555556_partial.png\n",
      "Moved: ../finalised_cutouts/galaxy_cutouts/cutout_m248_g_ccd_36_10.5411625_40.6344611_partial.png to ../finalised_cutouts/partials/galaxy/cutout_m248_g_ccd_36_10.5411625_40.6344611_partial.png\n",
      "Moved: ../finalised_cutouts/galaxy_cutouts/cutout_m214_g_ccd_3_11.651608333333334_40.00746111111111_partial.png to ../finalised_cutouts/partials/galaxy/cutout_m214_g_ccd_3_11.651608333333334_40.00746111111111_partial.png\n",
      "Moved: ../finalised_cutouts/galaxy_cutouts/cutout_m212_g_ccd_2_9.2594417_39.8014111_partial.png to ../finalised_cutouts/partials/galaxy/cutout_m212_g_ccd_2_9.2594417_39.8014111_partial.png\n",
      "Moved: ../finalised_cutouts/galaxy_cutouts/cutout_m235_g_ccd_8_11.6216_41.0491944_partial.png to ../finalised_cutouts/partials/galaxy/cutout_m235_g_ccd_8_11.6216_41.0491944_partial.png\n",
      "Moved: ../finalised_cutouts/galaxy_cutouts/cutout_m214_g_ccd_1_11.8728083_40.0374_partial.png to ../finalised_cutouts/partials/galaxy/cutout_m214_g_ccd_1_11.8728083_40.0374_partial.png\n",
      "Moved: ../finalised_cutouts/galaxy_cutouts/cutout_m235_g_ccd_36_11.490124999999995_40.28597222222222_partial.png to ../finalised_cutouts/partials/galaxy/cutout_m235_g_ccd_36_11.490124999999995_40.28597222222222_partial.png\n",
      "Moved: ../finalised_cutouts/galaxy_cutouts/cutout_m212_g_ccd_1_9.4147833_39.7752472_partial.png to ../finalised_cutouts/partials/galaxy/cutout_m212_g_ccd_1_9.4147833_39.7752472_partial.png\n",
      "Moved: ../finalised_cutouts/galaxy_cutouts/cutout_m232_g_ccd_34_11.7688208_39.7003222_partial.png to ../finalised_cutouts/partials/galaxy/cutout_m232_g_ccd_34_11.7688208_39.7003222_partial.png\n",
      "Moved: ../finalised_cutouts/galaxy_cutouts/cutout_m232_g_ccd_1_12.6248083_40.5913306_partial.png to ../finalised_cutouts/partials/galaxy/cutout_m232_g_ccd_1_12.6248083_40.5913306_partial.png\n",
      "Moved: ../finalised_cutouts/galaxy_cutouts/cutout_m235_g_ccd_22_12.09815_40.4893139_partial.png to ../finalised_cutouts/partials/galaxy/cutout_m235_g_ccd_22_12.09815_40.4893139_partial.png\n",
      "Moved: ../finalised_cutouts/galaxy_cutouts/cutout_m232_g_ccd_22_12.1882_40.14609444444445_partial.png to ../finalised_cutouts/partials/galaxy/cutout_m232_g_ccd_22_12.1882_40.14609444444445_partial.png\n",
      "Moved: ../finalised_cutouts/galaxy_cutouts/cutout_m235_g_ccd_11_12.3855083_40.6888472_partial.png to ../finalised_cutouts/partials/galaxy/cutout_m235_g_ccd_11_12.3855083_40.6888472_partial.png\n",
      "Moved: ../finalised_cutouts/galaxy_cutouts/cutout_m232_g_ccd_17_11.7479542_40.3309944_partial.png to ../finalised_cutouts/partials/galaxy/cutout_m232_g_ccd_17_11.7479542_40.3309944_partial.png\n",
      "Moved: ../finalised_cutouts/galaxy_cutouts/cutout_m214_g_ccd_11_11.8357875_39.7372139_partial.png to ../finalised_cutouts/partials/galaxy/cutout_m214_g_ccd_11_11.8357875_39.7372139_partial.png\n",
      "Moved: ../finalised_cutouts/galaxy_cutouts/cutout_m233_g_ccd_35_9.09275_39.867916666666666_partial.png to ../finalised_cutouts/partials/galaxy/cutout_m233_g_ccd_35_9.09275_39.867916666666666_partial.png\n",
      "Moved: ../finalised_cutouts/galaxy_cutouts/cutout_m235_g_ccd_31_12.100583333333333_40.11197222222222_partial.png to ../finalised_cutouts/partials/galaxy/cutout_m235_g_ccd_31_12.100583333333333_40.11197222222222_partial.png\n",
      "Moved: ../finalised_cutouts/galaxy_cutouts/cutout_m214_g_ccd_6_11.226791666666664_40.11225_partial.png to ../finalised_cutouts/partials/galaxy/cutout_m214_g_ccd_6_11.226791666666664_40.11225_partial.png\n",
      "Moved: ../finalised_cutouts/galaxy_cutouts/cutout_m212_g_ccd_16_8.477625_39.57683333333334_partial.png to ../finalised_cutouts/partials/galaxy/cutout_m212_g_ccd_16_8.477625_39.57683333333334_partial.png\n",
      "Moved: ../finalised_cutouts/galaxy_cutouts/cutout_m212_g_ccd_13_8.961791666666667_39.60022222222222_partial.png to ../finalised_cutouts/partials/galaxy/cutout_m212_g_ccd_13_8.961791666666667_39.60022222222222_partial.png\n",
      "Moved: ../finalised_cutouts/galaxy_cutouts/cutout_m214_g_ccd_10_11.8727417_39.6732639_partial.png to ../finalised_cutouts/partials/galaxy/cutout_m214_g_ccd_10_11.8727417_39.6732639_partial.png\n",
      "Moved: ../finalised_cutouts/galaxy_cutouts/cutout_m248_g_ccd_10_11.6596667_41.1245194_partial.png to ../finalised_cutouts/partials/galaxy/cutout_m248_g_ccd_10_11.6596667_41.1245194_partial.png\n",
      "Moved: ../finalised_cutouts/galaxy_cutouts/cutout_m212_g_ccd_8_8.384166666666665_39.85911111111111_partial.png to ../finalised_cutouts/partials/galaxy/cutout_m212_g_ccd_8_8.384166666666665_39.85911111111111_partial.png\n",
      "Moved: ../finalised_cutouts/galaxy_cutouts/cutout_m209_g_ccd_25_10.7227917_39.15375_partial.png to ../finalised_cutouts/partials/galaxy/cutout_m209_g_ccd_25_10.7227917_39.15375_partial.png\n",
      "Moved: ../finalised_cutouts/galaxy_cutouts/cutout_m248_g_ccd_29_11.4974042_40.6111167_partial.png to ../finalised_cutouts/partials/galaxy/cutout_m248_g_ccd_29_11.4974042_40.6111167_partial.png\n",
      "Moved: ../finalised_cutouts/galaxy_cutouts/cutout_m232_g_ccd_34_11.8357875_39.7372139_partial.png to ../finalised_cutouts/partials/galaxy/cutout_m232_g_ccd_34_11.8357875_39.7372139_partial.png\n",
      "Moved: ../finalised_cutouts/galaxy_cutouts/cutout_m214_g_ccd_11_11.7688208_39.7003222_partial.png to ../finalised_cutouts/partials/galaxy/cutout_m214_g_ccd_11_11.7688208_39.7003222_partial.png\n",
      "Moved: ../finalised_cutouts/galaxy_cutouts/cutout_m248_g_ccd_29_11.5270958_40.7858694_partial.png to ../finalised_cutouts/partials/galaxy/cutout_m248_g_ccd_29_11.5270958_40.7858694_partial.png\n",
      "Moved: ../finalised_cutouts/galaxy_cutouts/cutout_m249_g_ccd_1_10.4136125_41.5097889_partial.png to ../finalised_cutouts/partials/galaxy/cutout_m249_g_ccd_1_10.4136125_41.5097889_partial.png\n",
      "Moved: ../finalised_cutouts/galaxy_cutouts/cutout_m228_g_ccd_22_10.9822167_40.02315_partial.png to ../finalised_cutouts/partials/galaxy/cutout_m228_g_ccd_22_10.9822167_40.02315_partial.png\n",
      "Moved: ../finalised_cutouts/galaxy_cutouts/cutout_m232_g_ccd_16_11.810124999999998_40.42744444444444_partial.png to ../finalised_cutouts/partials/galaxy/cutout_m232_g_ccd_16_11.810124999999998_40.42744444444444_partial.png\n",
      "Moved: ../finalised_cutouts/galaxy_cutouts/cutout_m214_g_ccd_8_10.9822167_40.02315_partial.png to ../finalised_cutouts/partials/galaxy/cutout_m214_g_ccd_8_10.9822167_40.02315_partial.png\n",
      "Moved: ../finalised_cutouts/galaxy_cutouts/cutout_m232_g_ccd_24_12.019208333333331_40.14083333333333_partial.png to ../finalised_cutouts/partials/galaxy/cutout_m232_g_ccd_24_12.019208333333331_40.14083333333333_partial.png\n",
      "Moved: ../finalised_cutouts/galaxy_cutouts/cutout_m214_g_ccd_26_10.922129166666666_39.612766666666666_partial.png to ../finalised_cutouts/partials/galaxy/cutout_m214_g_ccd_26_10.922129166666666_39.612766666666666_partial.png\n",
      "Moved: ../finalised_cutouts/galaxy_cutouts/cutout_m232_g_ccd_5_12.09815_40.4893139_partial.png to ../finalised_cutouts/partials/galaxy/cutout_m232_g_ccd_5_12.09815_40.4893139_partial.png\n",
      "Moved: ../finalised_cutouts/galaxy_cutouts/cutout_m232_g_ccd_25_11.8728083_40.0374_partial.png to ../finalised_cutouts/partials/galaxy/cutout_m232_g_ccd_25_11.8728083_40.0374_partial.png\n",
      "Moved: ../finalised_cutouts/galaxy_cutouts/cutout_m257_g_ccd_35_11.6596667_41.1245194_partial.png to ../finalised_cutouts/partials/galaxy/cutout_m257_g_ccd_35_11.6596667_41.1245194_partial.png\n",
      "Moved: ../finalised_cutouts/galaxy_cutouts/cutout_m248_g_ccd_20_11.453375_41.0372583_partial.png to ../finalised_cutouts/partials/galaxy/cutout_m248_g_ccd_20_11.453375_41.0372583_partial.png\n",
      "Moved: ../finalised_cutouts/galaxy_cutouts/cutout_m228_g_ccd_7_10.5411625_40.6344611_partial.png to ../finalised_cutouts/partials/galaxy/cutout_m228_g_ccd_7_10.5411625_40.6344611_partial.png\n",
      "Moved: ../finalised_cutouts/galaxy_cutouts/cutout_m207_g_ccd_3_8.6642458_39.5780028_partial.png to ../finalised_cutouts/partials/galaxy/cutout_m207_g_ccd_3_8.6642458_39.5780028_partial.png\n",
      "Moved: ../finalised_cutouts/galaxy_cutouts/cutout_m228_g_ccd_20_11.226791666666664_40.11225_partial.png to ../finalised_cutouts/partials/galaxy/cutout_m228_g_ccd_20_11.226791666666664_40.11225_partial.png\n",
      "Moved: ../finalised_cutouts/galaxy_cutouts/cutout_m235_g_ccd_36_11.388541666666663_40.28566666666666_partial.png to ../finalised_cutouts/partials/galaxy/cutout_m235_g_ccd_36_11.388541666666663_40.28566666666666_partial.png\n",
      "Moved: ../finalised_cutouts/galaxy_cutouts/cutout_m214_g_ccd_5_11.3714667_40.0970417_partial.png to ../finalised_cutouts/partials/galaxy/cutout_m214_g_ccd_5_11.3714667_40.0970417_partial.png\n",
      "Moved: ../finalised_cutouts/galaxy_cutouts/cutout_m232_g_ccd_15_11.9003417_40.3750917_partial.png to ../finalised_cutouts/partials/galaxy/cutout_m232_g_ccd_15_11.9003417_40.3750917_partial.png\n",
      "Moved: ../finalised_cutouts/galaxy_cutouts/cutout_m232_g_ccd_7_11.7514458_40.6769028_partial.png to ../finalised_cutouts/partials/galaxy/cutout_m232_g_ccd_7_11.7514458_40.6769028_partial.png\n",
      "Moved: ../finalised_cutouts/galaxy_cutouts/cutout_m248_g_ccd_10_11.717375_41.2525333_partial.png to ../finalised_cutouts/partials/galaxy/cutout_m248_g_ccd_10_11.717375_41.2525333_partial.png\n",
      "Moved: ../finalised_cutouts/galaxy_cutouts/cutout_m212_g_ccd_11_9.180916666666665_39.58227777777778_partial.png to ../finalised_cutouts/partials/galaxy/cutout_m212_g_ccd_11_9.180916666666665_39.58227777777778_partial.png\n",
      "Moved: ../finalised_cutouts/galaxy_cutouts/cutout_m235_g_ccd_17_11.5270958_40.7858694_partial.png to ../finalised_cutouts/partials/galaxy/cutout_m235_g_ccd_17_11.5270958_40.7858694_partial.png\n",
      "Moved: ../finalised_cutouts/galaxy_cutouts/cutout_m232_g_ccd_3_12.3855083_40.6888472_partial.png to ../finalised_cutouts/partials/galaxy/cutout_m232_g_ccd_3_12.3855083_40.6888472_partial.png\n",
      "Moved: ../finalised_cutouts/galaxy_cutouts/cutout_m248_g_ccd_30_11.3662875_40.8009389_partial.png to ../finalised_cutouts/partials/galaxy/cutout_m248_g_ccd_30_11.3662875_40.8009389_partial.png\n",
      "Moved: ../finalised_cutouts/galaxy_cutouts/cutout_m212_g_ccd_14_8.835291666666665_39.58447222222223_partial.png to ../finalised_cutouts/partials/galaxy/cutout_m212_g_ccd_14_8.835291666666665_39.58447222222223_partial.png\n",
      "Moved: ../finalised_cutouts/galaxy_cutouts/cutout_m207_g_ccd_2_8.811916666666665_39.69444444444444_partial.png to ../finalised_cutouts/partials/galaxy/cutout_m207_g_ccd_2_8.811916666666665_39.69444444444444_partial.png\n",
      "Moved: ../finalised_cutouts/galaxy_cutouts/cutout_m214_g_ccd_11_11.8103292_39.7540139_partial.png to ../finalised_cutouts/partials/galaxy/cutout_m214_g_ccd_11_11.8103292_39.7540139_partial.png\n",
      "Moved: ../finalised_cutouts/galaxy_cutouts/cutout_m231_g_ccd_28_8.7243_39.8279417_partial.png to ../finalised_cutouts/partials/galaxy/cutout_m231_g_ccd_28_8.7243_39.8279417_partial.png\n",
      "Moved: ../finalised_cutouts/galaxy_cutouts/cutout_m233_g_ccd_34_9.2559708_39.8097194_partial.png to ../finalised_cutouts/partials/galaxy/cutout_m233_g_ccd_34_9.2559708_39.8097194_partial.png\n",
      "Moved: ../finalised_cutouts/galaxy_cutouts/cutout_m214_g_ccd_14_11.3438125_39.6498083_partial.png to ../finalised_cutouts/partials/galaxy/cutout_m214_g_ccd_14_11.3438125_39.6498083_partial.png\n",
      "Moved: ../finalised_cutouts/galaxy_cutouts/cutout_m232_g_ccd_34_11.8103292_39.7540139_partial.png to ../finalised_cutouts/partials/galaxy/cutout_m232_g_ccd_34_11.8103292_39.7540139_partial.png\n",
      "Moved: ../finalised_cutouts/galaxy_cutouts/cutout_m228_g_ccd_10_11.388541666666663_40.28566666666666_partial.png to ../finalised_cutouts/partials/galaxy/cutout_m228_g_ccd_10_11.388541666666663_40.28566666666666_partial.png\n",
      "Moved: ../finalised_cutouts/galaxy_cutouts/cutout_m235_g_ccd_18_11.4974042_40.6111167_partial.png to ../finalised_cutouts/partials/galaxy/cutout_m235_g_ccd_18_11.4974042_40.6111167_partial.png\n",
      "Moved: ../finalised_cutouts/galaxy_cutouts/cutout_m212_g_ccd_2_9.2559708_39.8097194_partial.png to ../finalised_cutouts/partials/galaxy/cutout_m212_g_ccd_2_9.2559708_39.8097194_partial.png\n",
      "Moved: ../finalised_cutouts/galaxy_cutouts/cutout_m209_g_ccd_2_11.3438125_39.6498083_partial.png to ../finalised_cutouts/partials/galaxy/cutout_m209_g_ccd_2_11.3438125_39.6498083_partial.png\n",
      "Moved: ../finalised_cutouts/galaxy_cutouts/cutout_m235_g_ccd_24_11.9003417_40.3750917_partial.png to ../finalised_cutouts/partials/galaxy/cutout_m235_g_ccd_24_11.9003417_40.3750917_partial.png\n",
      "Moved: ../finalised_cutouts/galaxy_cutouts/cutout_m232_g_ccd_9_11.4974833_40.6356056_partial.png to ../finalised_cutouts/partials/galaxy/cutout_m232_g_ccd_9_11.4974833_40.6356056_partial.png\n",
      "Moved: ../finalised_cutouts/galaxy_cutouts/cutout_m228_g_ccd_21_11.1284_40.0985972_partial.png to ../finalised_cutouts/partials/galaxy/cutout_m228_g_ccd_21_11.1284_40.0985972_partial.png\n",
      "Moved: ../finalised_cutouts/galaxy_cutouts/cutout_m228_g_ccd_30_11.0786042_39.7559861_partial.png to ../finalised_cutouts/partials/galaxy/cutout_m228_g_ccd_30_11.0786042_39.7559861_partial.png\n",
      "Moved: ../finalised_cutouts/galaxy_cutouts/cutout_m209_g_ccd_5_10.922129166666666_39.612766666666666_partial.png to ../finalised_cutouts/partials/galaxy/cutout_m209_g_ccd_5_10.922129166666666_39.612766666666666_partial.png\n",
      "Moved: ../finalised_cutouts/galaxy_cutouts/cutout_m231_g_ccd_30_8.384166666666665_39.85911111111111_partial.png to ../finalised_cutouts/partials/galaxy/cutout_m231_g_ccd_30_8.384166666666665_39.85911111111111_partial.png\n",
      "Moved: ../finalised_cutouts/galaxy_cutouts/cutout_m257_g_ccd_26_11.669775_41.5491639_partial.png to ../finalised_cutouts/partials/galaxy/cutout_m257_g_ccd_26_11.669775_41.5491639_partial.png\n",
      "Moved: ../finalised_cutouts/galaxy_cutouts/cutout_m235_g_ccd_24_11.810124999999998_40.42744444444444_partial.png to ../finalised_cutouts/partials/galaxy/cutout_m235_g_ccd_24_11.810124999999998_40.42744444444444_partial.png\n",
      "Moved: ../finalised_cutouts/galaxy_cutouts/cutout_m212_g_ccd_2_9.2144667_39.6438611_partial.png to ../finalised_cutouts/partials/galaxy/cutout_m212_g_ccd_2_9.2144667_39.6438611_partial.png\n",
      "Moved: ../finalised_cutouts/galaxy_cutouts/cutout_m232_g_ccd_18_11.5955_40.34505555555556_partial.png to ../finalised_cutouts/partials/galaxy/cutout_m232_g_ccd_18_11.5955_40.34505555555556_partial.png\n",
      "Moved: ../finalised_cutouts/galaxy_cutouts/cutout_m214_g_ccd_7_11.1284_40.0985972_partial.png to ../finalised_cutouts/partials/galaxy/cutout_m214_g_ccd_7_11.1284_40.0985972_partial.png\n",
      "Moved: ../finalised_cutouts/galaxy_cutouts/cutout_m214_g_ccd_15_11.1777_39.7683361_partial.png to ../finalised_cutouts/partials/galaxy/cutout_m214_g_ccd_15_11.1777_39.7683361_partial.png\n",
      "Moved: ../finalised_cutouts/galaxy_cutouts/cutout_m232_g_ccd_2_12.515625_40.62757777777778_partial.png to ../finalised_cutouts/partials/galaxy/cutout_m232_g_ccd_2_12.515625_40.62757777777778_partial.png\n",
      "Moved: ../finalised_cutouts/galaxy_cutouts/cutout_m212_g_ccd_6_8.7243_39.8279417_partial.png to ../finalised_cutouts/partials/galaxy/cutout_m212_g_ccd_6_8.7243_39.8279417_partial.png\n",
      "Moved: ../finalised_cutouts/galaxy_cutouts/cutout_m235_g_ccd_32_12.019208333333331_40.14083333333333_partial.png to ../finalised_cutouts/partials/galaxy/cutout_m235_g_ccd_32_12.019208333333331_40.14083333333333_partial.png\n",
      "Moved: ../finalised_cutouts/galaxy_cutouts/cutout_m207_g_ccd_2_8.835291666666665_39.58447222222223_partial.png to ../finalised_cutouts/partials/galaxy/cutout_m207_g_ccd_2_8.835291666666665_39.58447222222223_partial.png\n",
      "Moved: ../finalised_cutouts/galaxy_cutouts/cutout_m235_g_ccd_26_11.525375_40.37388888888889_partial.png to ../finalised_cutouts/partials/galaxy/cutout_m235_g_ccd_26_11.525375_40.37388888888889_partial.png\n",
      "Moved: ../finalised_cutouts/galaxy_cutouts/cutout_m210_g_ccd_8_9.180916666666665_39.58227777777778_partial.png to ../finalised_cutouts/partials/galaxy/cutout_m210_g_ccd_8_9.180916666666665_39.58227777777778_partial.png\n",
      "Moved: ../finalised_cutouts/galaxy_cutouts/cutout_m233_g_ccd_33_9.4029958_39.8364028_partial.png to ../finalised_cutouts/partials/galaxy/cutout_m233_g_ccd_33_9.4029958_39.8364028_partial.png\n",
      "Moved: ../finalised_cutouts/galaxy_cutouts/cutout_m235_g_ccd_18_11.3662875_40.8009389_partial.png to ../finalised_cutouts/partials/galaxy/cutout_m235_g_ccd_18_11.3662875_40.8009389_partial.png\n",
      "Moved: ../finalised_cutouts/galaxy_cutouts/cutout_m257_g_ccd_35_11.713975_41.1625056_partial.png to ../finalised_cutouts/partials/galaxy/cutout_m257_g_ccd_35_11.713975_41.1625056_partial.png\n",
      "Moved: ../finalised_cutouts/galaxy_cutouts/cutout_m235_g_ccd_33_11.9368917_40.19365_partial.png to ../finalised_cutouts/partials/galaxy/cutout_m235_g_ccd_33_11.9368917_40.19365_partial.png\n",
      "Moved: ../finalised_cutouts/galaxy_cutouts/cutout_m248_g_ccd_29_11.4974833_40.6356056_partial.png to ../finalised_cutouts/partials/galaxy/cutout_m248_g_ccd_29_11.4974833_40.6356056_partial.png\n",
      "Moved: ../finalised_cutouts/galaxy_cutouts/cutout_m212_g_ccd_1_9.4029958_39.8364028_partial.png to ../finalised_cutouts/partials/galaxy/cutout_m212_g_ccd_1_9.4029958_39.8364028_partial.png\n",
      "Moved: ../finalised_cutouts/galaxy_cutouts/cutout_m232_g_ccd_14_12.0695208_40.3641167_partial.png to ../finalised_cutouts/partials/galaxy/cutout_m232_g_ccd_14_12.0695208_40.3641167_partial.png\n",
      "Moved: ../finalised_cutouts/galaxy_cutouts/cutout_m231_g_ccd_29_8.545808333333332_39.847297222222224_partial.png to ../finalised_cutouts/partials/galaxy/cutout_m231_g_ccd_29_8.545808333333332_39.847297222222224_partial.png\n",
      "Moved: ../finalised_cutouts/galaxy_cutouts/cutout_m279_g_ccd_27_11.523325_42.4941889_partial.png to ../finalised_cutouts/partials/galaxy/cutout_m279_g_ccd_27_11.523325_42.4941889_partial.png\n",
      "Moved: ../finalised_cutouts/galaxy_cutouts/cutout_m214_g_ccd_17_10.9250708_39.7746361_partial.png to ../finalised_cutouts/partials/galaxy/cutout_m214_g_ccd_17_10.9250708_39.7746361_partial.png\n",
      "Moved: ../finalised_cutouts/galaxy_cutouts/cutout_m235_g_ccd_31_12.1882_40.14609444444445_partial.png to ../finalised_cutouts/partials/galaxy/cutout_m235_g_ccd_31_12.1882_40.14609444444445_partial.png\n",
      "Moved: ../finalised_cutouts/galaxy_cutouts/cutout_m212_g_ccd_4_9.09275_39.867916666666666_partial.png to ../finalised_cutouts/partials/galaxy/cutout_m212_g_ccd_4_9.09275_39.867916666666666_partial.png\n",
      "Moved: ../finalised_cutouts/galaxy_cutouts/cutout_m235_g_ccd_10_12.6248083_40.5913306_partial.png to ../finalised_cutouts/partials/galaxy/cutout_m235_g_ccd_10_12.6248083_40.5913306_partial.png\n",
      "Moved: ../finalised_cutouts/galaxy_cutouts/cutout_m228_g_ccd_29_11.1777_39.7683361_partial.png to ../finalised_cutouts/partials/galaxy/cutout_m228_g_ccd_29_11.1777_39.7683361_partial.png\n",
      "Moved: ../finalised_cutouts/galaxy_cutouts/cutout_m285_g_ccd_28_11.523325_42.4941889_partial.png to ../finalised_cutouts/partials/galaxy/cutout_m285_g_ccd_28_11.523325_42.4941889_partial.png\n",
      "Moved: ../finalised_cutouts/galaxy_cutouts/cutout_m231_g_ccd_30_8.442124999999999_39.81016666666667_partial.png to ../finalised_cutouts/partials/galaxy/cutout_m231_g_ccd_30_8.442124999999999_39.81016666666667_partial.png\n",
      "Moved: ../finalised_cutouts/galaxy_cutouts/cutout_m232_g_ccd_23_12.100583333333333_40.11197222222222_partial.png to ../finalised_cutouts/partials/galaxy/cutout_m232_g_ccd_23_12.100583333333333_40.11197222222222_partial.png\n",
      "Moved: ../finalised_cutouts/galaxy_cutouts/cutout_m233_g_ccd_32_9.4147833_39.7752472_partial.png to ../finalised_cutouts/partials/galaxy/cutout_m233_g_ccd_32_9.4147833_39.7752472_partial.png\n",
      "Moved: ../finalised_cutouts/galaxy_cutouts/cutout_m235_g_ccd_27_11.46585_40.5043528_partial.png to ../finalised_cutouts/partials/galaxy/cutout_m235_g_ccd_27_11.46585_40.5043528_partial.png\n",
      "Moved: ../finalised_cutouts/galaxy_cutouts/cutout_m228_g_ccd_6_10.6146458_40.5979083_partial.png to ../finalised_cutouts/partials/galaxy/cutout_m228_g_ccd_6_10.6146458_40.5979083_partial.png\n",
      "Moved: ../finalised_cutouts/galaxy_cutouts/cutout_m210_g_ccd_8_9.2144667_39.6438611_partial.png to ../finalised_cutouts/partials/galaxy/cutout_m210_g_ccd_8_9.2144667_39.6438611_partial.png\n",
      "Moved: ../finalised_cutouts/galaxy_cutouts/cutout_m232_g_ccd_33_11.9404042_39.7449306_partial.png to ../finalised_cutouts/partials/galaxy/cutout_m232_g_ccd_33_11.9404042_39.7449306_partial.png\n",
      "Moved: ../finalised_cutouts/galaxy_cutouts/cutout_m207_g_ccd_4_8.477625_39.57683333333334_partial.png to ../finalised_cutouts/partials/galaxy/cutout_m207_g_ccd_4_8.477625_39.57683333333334_partial.png\n",
      "Moved: ../finalised_cutouts/galaxy_cutouts/cutout_m212_g_ccd_7_8.545808333333332_39.847297222222224_partial.png to ../finalised_cutouts/partials/galaxy/cutout_m212_g_ccd_7_8.545808333333332_39.847297222222224_partial.png\n",
      "Moved: ../finalised_cutouts/galaxy_cutouts/cutout_m210_g_ccd_9_9.180916666666665_39.58227777777778_partial.png to ../finalised_cutouts/partials/galaxy/cutout_m210_g_ccd_9_9.180916666666665_39.58227777777778_partial.png\n",
      "Moved: ../finalised_cutouts/galaxy_cutouts/cutout_m248_g_ccd_19_11.6219333_41.0629028_partial.png to ../finalised_cutouts/partials/galaxy/cutout_m248_g_ccd_19_11.6219333_41.0629028_partial.png\n",
      "Moved: ../finalised_cutouts/galaxy_cutouts/cutout_m212_g_ccd_2_9.204958333333332_39.66213888888889_partial.png to ../finalised_cutouts/partials/galaxy/cutout_m212_g_ccd_2_9.204958333333332_39.66213888888889_partial.png\n",
      "Moved: ../finalised_cutouts/galaxy_cutouts/cutout_m214_g_ccd_4_11.651608333333334_40.00746111111111_partial.png to ../finalised_cutouts/partials/galaxy/cutout_m214_g_ccd_4_11.651608333333334_40.00746111111111_partial.png\n",
      "Moved: ../finalised_cutouts/galaxy_cutouts/cutout_m248_g_ccd_9_10.4136125_41.5097889_partial.png to ../finalised_cutouts/partials/galaxy/cutout_m248_g_ccd_9_10.4136125_41.5097889_partial.png\n"
     ]
    }
   ],
   "source": [
    "import os\n",
    "import shutil\n",
    "\n",
    "def move_files_with_word(src_folder, dest_folder, word):\n",
    "    # Create the destination folder if it doesn't exist\n",
    "    os.makedirs(dest_folder, exist_ok=True)\n",
    "\n",
    "    # Loop through all files in the source folder\n",
    "    for filename in os.listdir(src_folder):\n",
    "        # Check if the word is in the filename\n",
    "        if word in filename:\n",
    "            # Construct full file path\n",
    "            src_file = os.path.join(src_folder, filename)\n",
    "            dest_file = os.path.join(dest_folder, filename)\n",
    "            # Move the file\n",
    "            shutil.move(src_file, dest_file)\n",
    "            print(f\"Moved: {src_file} to {dest_file}\")\n",
    "\n",
    "# Define the source and destination folders and the word to search for\n",
    "src_folder = '../finalised_cutouts/galaxy_cutouts'\n",
    "dest_folder = '../finalised_cutouts/partials/galaxy'\n",
    "word = 'partial'\n",
    "\n",
    "# Call the function\n",
    "move_files_with_word(src_folder, dest_folder, word)"
   ]
  },
  {
   "cell_type": "markdown",
   "id": "2d4155cb",
   "metadata": {},
   "source": [
    "Create an image from a given location\n",
    "\n"
   ]
  },
  {
   "cell_type": "code",
   "execution_count": 18,
   "id": "e636900a",
   "metadata": {},
   "outputs": [
    {
     "name": "stdout",
     "output_type": "stream",
     "text": [
      "Filename: /Users/ahuxor/Astro_projects/GC_detection_in_images/PandAS_data/individual_images/001_ccd1.fit\n",
      "No.    Name      Ver    Type      Cards   Dimensions   Format\n",
      "  0  PRIMARY       0 PrimaryHDU     829   (2158, 4689)   float32   \n",
      "None\n",
      "<SkyCoord (ICRS): (ra, dec) in deg\n",
      "    (25.03395833, 27.95960833)>\n",
      "[array(695.07090836), array(3550.50835852)]\n"
     ]
    },
    {
     "name": "stderr",
     "output_type": "stream",
     "text": [
      "WARNING: FITSFixedWarning: RADECSYS= 'FK5 ' / Coordinate system for equinox (FK4/FK5/GAPPT) \n",
      "the RADECSYS keyword is deprecated, use RADESYSa. [astropy.wcs.wcs]\n",
      "WARNING: FITSFixedWarning: PROJP1 = 1.0000000E+00 \n",
      "the PROJPn keyword is deprecated, use PVi_ma. [astropy.wcs.wcs]\n",
      "WARNING: FITSFixedWarning: PROJP3 = 7.5000000E+01 \n",
      "the PROJPn keyword is deprecated, use PVi_ma. [astropy.wcs.wcs]\n",
      "WARNING: FITSFixedWarning: 'datfix' made the change 'Invalid parameter values: MJD-OBS and DATE-OBS are inconsistent'. [astropy.wcs.wcs]\n"
     ]
    },
    {
     "data": {
      "image/png": "[encoded data removed]",
      "text/plain": [
       "<Figure size 640x480 with 1 Axes>"
      ]
     },
     "metadata": {},
     "output_type": "display_data"
    }
   ],
   "source": [
    "from astropy.io import fits\n",
    "from astropy.wcs import WCS\n",
    "from astropy.coordinates import SkyCoord\n",
    "from astropy.nddata import Cutout2D\n",
    "import matplotlib.pyplot as plt\n",
    "import astropy.units as u\n",
    "\n",
    "# Load the FITS file\n",
    "fits_image_filename = '/Users/ahuxor/Astro_projects/GC_detection_in_images/PandAS_data/individual_images/001_ccd1.fit'\n",
    "hdulist = fits.open(fits_image_filename)\n",
    "print(hdulist.info())\n",
    "\n",
    "# Extract header and data from the primary HDU\n",
    "header = hdulist['PRIMARY'].header\n",
    "data = hdulist['PRIMARY'].data\n",
    "hdulist.close()\n",
    "\n",
    "# Create a WCS (World Coordinate System) object\n",
    "wcs = WCS(header)\n",
    "\n",
    "# Define the sky coordinate of the center\n",
    "c0 = SkyCoord('01h40m08.15s', '+27d57m34.59s', frame='icrs')\n",
    "print(c0)\n",
    "\n",
    "# Convert sky coordinate to pixel coordinate\n",
    "center = wcs.all_world2pix(c0.ra, c0.dec, 0)\n",
    "print(center)\n",
    "\n",
    "# Define the size of the cutout\n",
    "size = 400  # pixels\n",
    "\n",
    "# Create a cutout of the image around the specified center\n",
    "cutout = Cutout2D(data, center, size, wcs=wcs)\n",
    "\n",
    "# Plot the cutout image\n",
    "fig = plt.figure()\n",
    "ax = fig.add_axes([0.1, 0.1, 0.8, 0.8], projection=cutout.wcs)\n",
    "ax.imshow(cutout.data, cmap='gray', origin='lower', vmin=2000, vmax=2500)\n",
    "\n",
    "# Remove axes labels\n",
    "ax.set_xlabel('')\n",
    "ax.set_ylabel('')\n",
    "\n",
    "# Optionally, remove tick labels if desired\n",
    "ax.coords[0].set_ticklabel_visible(False)  # RA axis\n",
    "ax.coords[1].set_ticklabel_visible(False)  # Dec axis\n",
    "\n",
    "# Optionally, remove the ticks themselves\n",
    "ax.coords[0].set_ticks_visible(False)      # RA axis\n",
    "ax.coords[1].set_ticks_visible(False)      # Dec axis\n",
    "plt.savefig('bar.png')\n",
    "\n",
    "plt.show()\n"
   ]
  },
  {
   "cell_type": "markdown",
   "id": "3f601fb5",
   "metadata": {},
   "source": [
    "Cross reference a CSV of coords with a folder of images, checking if any are known cluster/non-cluster"
   ]
  },
  {
   "cell_type": "code",
   "execution_count": 2,
   "id": "8bd8f1c2",
   "metadata": {},
   "outputs": [],
   "source": [
    "import os\n",
    "import pandas as pd\n",
    "\n",
    "# Load the CSV files\n",
    "csv_files = {\n",
    "    'result_G.csv': 'galaxy',\n",
    "    'result_GC.csv': 'cluster',\n",
    "    'result_EGC.csv': 'extended_cluster'\n",
    "}\n",
    "\n",
    "# Directory containing the images\n",
    "image_directory = '../data/predictions/non-cluster'  # Replace with your image directory\n",
    "\n",
    "# Iterate over each CSV file\n",
    "for csv_file, label in csv_files.items():\n",
    "    df = pd.read_csv(csv_file)\n",
    "    \n",
    "    # Iterate over each file in the image directory\n",
    "    for filename in os.listdir(image_directory):\n",
    "        file_path = os.path.join(image_directory, filename)\n",
    "        \n",
    "        # Check if the file is an image\n",
    "        if filename.lower().endswith(('.png', '.jpg', '.jpeg', '.bmp')):\n",
    "            # Extract RA and DEC from the filename\n",
    "            ra_dec_in_filename = False\n",
    "            for index, row in df.iterrows():\n",
    "                ra = str(row['RADEG'])\n",
    "                dec = str(row['DECDEG'])\n",
    "                if ra in filename and dec in filename:\n",
    "                    ra_dec_in_filename = True\n",
    "                    break\n",
    "            \n",
    "            # Determine the new filename\n",
    "            if ra_dec_in_filename:\n",
    "                new_filename = filename.replace('.png', f'_{label}_known.png').replace('.jpg', f'_{label}_known.jpg').replace('.jpeg', f'_{label}_known.jpeg').replace('.bmp', f'_{label}_known.bmp')\n",
    "                new_file_path = os.path.join(image_directory, new_filename)\n",
    "                os.rename(file_path, new_file_path)\n",
    "                print(f\"Renamed {file_path} to {new_file_path}\")"
   ]
  },
  {
   "cell_type": "markdown",
   "id": "7c5f3ce7",
   "metadata": {},
   "source": [
    "Cross Reference Master Catalogue and Yilun Wang Observations"
   ]
  },
  {
   "cell_type": "code",
   "execution_count": 27,
   "id": "aff92371",
   "metadata": {},
   "outputs": [
    {
     "name": "stdout",
     "output_type": "stream",
     "text": [
      "Number of objects in each class in the resulting DataFrame:\n",
      "CLASS\n",
      "1    369\n",
      "4      2\n",
      "Name: count, dtype: int64\n",
      "Cross-referenced results saved to cross_referenced_results.csv\n"
     ]
    },
    {
     "name": "stderr",
     "output_type": "stream",
     "text": [
      "/var/folders/vm/3kcxfy7s46n9ys_x6mqcsj_40000gn/T/ipykernel_6728/3560972722.py:16: SettingWithCopyWarning: \n",
      "A value is trying to be set on a copy of a slice from a DataFrame.\n",
      "Try using .loc[row_indexer,col_indexer] = value instead\n",
      "\n",
      "See the caveats in the documentation: https://pandas.pydata.org/pandas-docs/stable/user_guide/indexing.html#returning-a-view-versus-a-copy\n",
      "  filtered_master_catalog_df['RADEG_ROUNDED'] = filtered_master_catalog_df['RADEG'].round(3)\n",
      "/var/folders/vm/3kcxfy7s46n9ys_x6mqcsj_40000gn/T/ipykernel_6728/3560972722.py:17: SettingWithCopyWarning: \n",
      "A value is trying to be set on a copy of a slice from a DataFrame.\n",
      "Try using .loc[row_indexer,col_indexer] = value instead\n",
      "\n",
      "See the caveats in the documentation: https://pandas.pydata.org/pandas-docs/stable/user_guide/indexing.html#returning-a-view-versus-a-copy\n",
      "  filtered_master_catalog_df['DECDEG_ROUNDED'] = filtered_master_catalog_df['DECDEG'].round(3)\n"
     ]
    }
   ],
   "source": [
    "import pandas as pd\n",
    "\n",
    "# Load the CSV files\n",
    "master_catalog_file = 'master_catalog_sept_2024.csv'\n",
    "result_comparison_file = 'result_comparison.csv'\n",
    "output_file = 'cross_referenced_results.csv'\n",
    "\n",
    "# Read the CSV files into DataFrames\n",
    "master_catalog_df = pd.read_csv(master_catalog_file)\n",
    "result_comparison_df = pd.read_csv(result_comparison_file)\n",
    "\n",
    "# Filter the master catalog to only include classes 1, 4, and 8\n",
    "filtered_master_catalog_df = master_catalog_df[master_catalog_df['CLASS'].isin([1, 4, 8])]\n",
    "\n",
    "# Create rounded columns for comparison\n",
    "filtered_master_catalog_df['RADEG_ROUNDED'] = filtered_master_catalog_df['RADEG'].round(3)\n",
    "filtered_master_catalog_df['DECDEG_ROUNDED'] = filtered_master_catalog_df['DECDEG'].round(3)\n",
    "result_comparison_df['RADEG_ROUNDED'] = result_comparison_df['RADEG'].round(3)\n",
    "result_comparison_df['DECDEG_ROUNDED'] = result_comparison_df['DECDEG'].round(3)\n",
    "\n",
    "# Merge the DataFrames on the rounded RADEG and DECDEG columns\n",
    "merged_df = pd.merge(filtered_master_catalog_df, result_comparison_df, on=['RADEG_ROUNDED', 'DECDEG_ROUNDED'])\n",
    "\n",
    "# Drop the rounded columns from the merged DataFrame\n",
    "merged_df.drop(columns=['RADEG_ROUNDED', 'DECDEG_ROUNDED'], inplace=True)\n",
    "\n",
    "# Write the merged DataFrame to a new CSV file\n",
    "merged_df.to_csv(output_file, index=False)\n",
    "\n",
    "# Print the number of objects in each class in the resulting DataFrame\n",
    "class_counts = merged_df['CLASS'].value_counts()\n",
    "print(\"Number of objects in each class in the resulting DataFrame:\")\n",
    "print(class_counts)\n",
    "\n",
    "print(f\"Cross-referenced results saved to {output_file}\")"
   ]
  },
  {
   "cell_type": "markdown",
   "id": "e4e98aca",
   "metadata": {},
   "source": [
    "Count how many of the cross referenced clusters exist in each class of predictions"
   ]
  },
  {
   "cell_type": "code",
   "execution_count": 1,
   "id": "2fe6fd56",
   "metadata": {},
   "outputs": [
    {
     "name": "stdout",
     "output_type": "stream",
     "text": [
      "Number of class 1 objects in cluster: 425\n",
      "Number of class 1 objects in non-cluster: 61\n"
     ]
    }
   ],
   "source": [
    "import os\n",
    "import pandas as pd\n",
    "\n",
    "# Load the CSV files\n",
    "cross_referenced_file = 'cross_referenced_results.csv'\n",
    "cross_referenced_df = pd.read_csv(cross_referenced_file)\n",
    "\n",
    "# Filter the cross-referenced DataFrame to only include class 1 objects\n",
    "class_1_df = cross_referenced_df[cross_referenced_df['CLASS'] == 1]\n",
    "\n",
    "# Create a set of RADEG and DECDEG tuples for class 1 objects\n",
    "class_1_coords = set(zip(class_1_df['RADEG_y'], class_1_df['DECDEG_y']))\n",
    "\n",
    "# Directories to check\n",
    "cluster_dir = '../data/predictions_128SRNC/cluster'\n",
    "non_cluster_dir = '../data/predictions_128SRNC/non-cluster'\n",
    "\n",
    "# Function to count matching images in a directory\n",
    "def count_matching_images(directory, coords_set):\n",
    "    count = 0\n",
    "    for filename in os.listdir(directory):\n",
    "        if filename.lower().endswith(('.png', '.jpg', '.jpeg', '.bmp')):\n",
    "            for ra, dec in coords_set:\n",
    "                if f\"{ra}\" in filename and f\"{dec}\" in filename:\n",
    "                    count += 1\n",
    "                    break\n",
    "    return count\n",
    "\n",
    "# Count matching images in cluster and non-cluster directories\n",
    "cluster_count = count_matching_images(cluster_dir, class_1_coords)\n",
    "non_cluster_count = count_matching_images(non_cluster_dir, class_1_coords)\n",
    "\n",
    "# Output the results\n",
    "print(f\"Number of class 1 objects in cluster: {cluster_count}\")\n",
    "print(f\"Number of class 1 objects in non-cluster: {non_cluster_count}\")"
   ]
  },
  {
   "cell_type": "markdown",
   "id": "755565fb",
   "metadata": {},
   "source": [
    "Plot of the RADEG and DECDEG on a graph, coloured based on their class"
   ]
  },
  {
   "cell_type": "code",
   "execution_count": 3,
   "id": "0111c1f3",
   "metadata": {},
   "outputs": [
    {
     "data": {
      "image/png": "[encoded data removed]",
      "text/plain": [
       "<Figure size 1000x600 with 1 Axes>"
      ]
     },
     "metadata": {},
     "output_type": "display_data"
    }
   ],
   "source": [
    "import os\n",
    "import re\n",
    "import matplotlib.pyplot as plt\n",
    "\n",
    "# Directories containing the classified images\n",
    "cluster_dir = '../data/predictions_128SRNC/cluster'\n",
    "non_cluster_dir = '../data/predictions_128SRNC/non-cluster'\n",
    "\n",
    "# Function to extract RA and DEC from filename\n",
    "def extract_ra_dec(filename):\n",
    "    match = re.search(r'_(\\d+\\.\\d+)_(\\d+\\.\\d+)\\.png$', filename)\n",
    "    if match:\n",
    "        ra = float(match.group(1))\n",
    "        dec = float(match.group(2))\n",
    "        return ra, dec\n",
    "    return None, None\n",
    "\n",
    "# Lists to store RA and DEC values for each class\n",
    "ra_cluster = []\n",
    "dec_cluster = []\n",
    "ra_non_cluster = []\n",
    "dec_non_cluster = []\n",
    "\n",
    "# Process cluster images\n",
    "for filename in os.listdir(cluster_dir):\n",
    "    if filename.lower().endswith('.png'):\n",
    "        ra, dec = extract_ra_dec(filename)\n",
    "        if ra is not None and dec is not None:\n",
    "            ra_cluster.append(ra)\n",
    "            dec_cluster.append(dec)\n",
    "\n",
    "# Process non-cluster images\n",
    "for filename in os.listdir(non_cluster_dir):\n",
    "    if filename.lower().endswith('.png'):\n",
    "        ra, dec = extract_ra_dec(filename)\n",
    "        if ra is not None and dec is not None:\n",
    "            ra_non_cluster.append(ra)\n",
    "            dec_non_cluster.append(dec)\n",
    "\n",
    "# Create a scatter plot\n",
    "plt.figure(figsize=(10, 6))\n",
    "\n",
    "# Plot cluster and non-cluster points with different colors\n",
    "plt.scatter(ra_cluster, dec_cluster, color='blue', label='Cluster', alpha=0.6)\n",
    "plt.scatter(ra_non_cluster, dec_non_cluster, color='red', label='Non-Cluster', alpha=0.6)\n",
    "\n",
    "# Add labels and title\n",
    "plt.xlabel('RA (degrees)')\n",
    "plt.ylabel('DEC (degrees)')\n",
    "plt.title('RA and DEC Coordinates by Classification')\n",
    "plt.legend()\n",
    "plt.grid(True)\n",
    "\n",
    "# Show the plot\n",
    "plt.show()"
   ]
  },
  {
   "cell_type": "markdown",
   "id": "9c7aea00",
   "metadata": {},
   "source": [
    "Using the known class one objects, check the location of correct and incorrect"
   ]
  },
  {
   "cell_type": "code",
   "execution_count": 2,
   "id": "720d6bdb",
   "metadata": {},
   "outputs": [
    {
     "name": "stdout",
     "output_type": "stream",
     "text": [
      "Number of class 1 objects in cluster: 425\n",
      "Number of class 1 objects in non-cluster: 61\n"
     ]
    },
    {
     "data": {
      "image/png": "[encoded data removed]",
      "text/plain": [
       "<Figure size 1000x600 with 1 Axes>"
      ]
     },
     "metadata": {},
     "output_type": "display_data"
    }
   ],
   "source": [
    "import os\n",
    "import pandas as pd\n",
    "import matplotlib.pyplot as plt\n",
    "\n",
    "# Load the CSV files\n",
    "cross_referenced_file = 'cross_referenced_results.csv'\n",
    "cross_referenced_df = pd.read_csv(cross_referenced_file)\n",
    "\n",
    "# Filter the cross-referenced DataFrame to only include class 1 objects\n",
    "class_1_df = cross_referenced_df[cross_referenced_df['CLASS'] == 1]\n",
    "\n",
    "# Create a set of RADEG and DECDEG tuples for class 1 objects\n",
    "class_1_coords = set(zip(class_1_df['RADEG_y'], class_1_df['DECDEG_y']))\n",
    "\n",
    "# Directories to check\n",
    "cluster_dir = '../data/predictions_128SRNC/cluster'\n",
    "non_cluster_dir = '../data/predictions_128SRNC/non-cluster'\n",
    "\n",
    "# Lists to store RA and DEC values for plotting\n",
    "ra_cluster = []\n",
    "dec_cluster = []\n",
    "ra_non_cluster = []\n",
    "dec_non_cluster = []\n",
    "\n",
    "# Function to count matching images in a directory and collect RA/DEC for plotting\n",
    "def count_and_collect_images(directory, coords_set, ra_list, dec_list):\n",
    "    count = 0\n",
    "    for filename in os.listdir(directory):\n",
    "        if filename.lower().endswith(('.png', '.jpg', '.jpeg', '.bmp')):\n",
    "            for ra, dec in coords_set:\n",
    "                if f\"{ra}\" in filename and f\"{dec}\" in filename:\n",
    "                    count += 1\n",
    "                    ra_list.append(ra)\n",
    "                    dec_list.append(dec)\n",
    "                    break\n",
    "    return count\n",
    "\n",
    "# Count matching images in cluster and non-cluster directories and collect RA/DEC for plotting\n",
    "cluster_count = count_and_collect_images(cluster_dir, class_1_coords, ra_cluster, dec_cluster)\n",
    "non_cluster_count = count_and_collect_images(non_cluster_dir, class_1_coords, ra_non_cluster, dec_non_cluster)\n",
    "\n",
    "# Output the results\n",
    "print(f\"Number of class 1 objects in cluster: {cluster_count}\")\n",
    "print(f\"Number of class 1 objects in non-cluster: {non_cluster_count}\")\n",
    "\n",
    "# Create a scatter plot\n",
    "plt.figure(figsize=(10, 6))\n",
    "\n",
    "# Plot cluster and non-cluster points with different colors\n",
    "plt.scatter(ra_cluster, dec_cluster, color='green', label='Cluster', alpha=0.6)\n",
    "plt.scatter(ra_non_cluster, dec_non_cluster, color='red', label='Non-Cluster', alpha=0.6)\n",
    "\n",
    "# Add labels and title\n",
    "plt.xlabel('RA (degrees)')\n",
    "plt.ylabel('DEC (degrees)')\n",
    "plt.title('RA and DEC Coordinates by Classification')\n",
    "plt.legend()\n",
    "plt.grid(True)\n",
    "\n",
    "# Show the plot\n",
    "plt.show()"
   ]
  },
  {
   "cell_type": "markdown",
   "id": "e017622e",
   "metadata": {},
   "source": [
    "Selecting a set number of Yilun Wang Objects"
   ]
  },
  {
   "cell_type": "code",
   "execution_count": 1,
   "id": "04d2efe8",
   "metadata": {},
   "outputs": [
    {
     "name": "stdout",
     "output_type": "stream",
     "text": [
      "Selected 1940 objects and saved to Yilun_Wang_selected_objects.csv\n"
     ]
    }
   ],
   "source": [
    "import pandas as pd\n",
    "import numpy as np\n",
    "\n",
    "# Load the CSV file\n",
    "input_file = 'All_Yilun_Wang_data_for_Oscar.csv'\n",
    "df = pd.read_csv(input_file)\n",
    "\n",
    "# Filter the DataFrame to only include objects with Pgc < 0.4\n",
    "filtered_df = df[df['Pgc'] < 0.4]\n",
    "\n",
    "# Select 10% of the filtered objects\n",
    "sampled_df = filtered_df.sample(frac=0.1, random_state=42)\n",
    "\n",
    "# Write the sampled objects to a new CSV file\n",
    "output_file = 'Yilun_Wang_selected_objects.csv'\n",
    "sampled_df.to_csv(output_file, index=False)\n",
    "\n",
    "print(f\"Selected {len(sampled_df)} objects and saved to {output_file}\")"
   ]
  },
  {
   "cell_type": "code",
   "execution_count": 2,
   "id": "9539d5b2",
   "metadata": {},
   "outputs": [
    {
     "data": {
      "image/png": "[encoded data removed]",
      "text/plain": [
       "<Figure size 1000x600 with 1 Axes>"
      ]
     },
     "metadata": {},
     "output_type": "display_data"
    }
   ],
   "source": [
    "import pandas as pd\n",
    "import matplotlib.pyplot as plt\n",
    "\n",
    "# Load the CSV file\n",
    "input_file = 'Yilun_Wang_selected_objects.csv'\n",
    "df = pd.read_csv(input_file)\n",
    "\n",
    "# Sort the DataFrame by Pgc\n",
    "df_sorted = df.sort_values(by='Pgc')\n",
    "\n",
    "# Calculate the cumulative number of samples\n",
    "df_sorted['Cumulative'] = range(1, len(df_sorted) + 1)\n",
    "\n",
    "# Plot Pgc against the cumulative number of samples\n",
    "plt.figure(figsize=(10, 6))\n",
    "plt.plot(df_sorted['Cumulative'], df_sorted['Pgc'], marker='o', linestyle='-', color='b')\n",
    "\n",
    "# Add labels and title\n",
    "plt.xlabel('Cumulative Number of Samples')\n",
    "plt.ylabel('Pgc')\n",
    "plt.title('Pgc vs. Cumulative Number of Samples')\n",
    "plt.grid(True)\n",
    "\n",
    "# Show the plot\n",
    "plt.show()"
   ]
  }
 ],
 "metadata": {
  "kernelspec": {
   "display_name": ".venv",
   "language": "python",
   "name": "python3"
  },
  "language_info": {
   "codemirror_mode": {
    "name": "ipython",
    "version": 3
   },
   "file_extension": ".py",
   "mimetype": "text/x-python",
   "name": "python",
   "nbconvert_exporter": "python",
   "pygments_lexer": "ipython3",
   "version": "3.11.10"
  }
 },
 "nbformat": 4,
 "nbformat_minor": 5
}
